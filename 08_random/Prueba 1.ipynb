{
 "cells": [
  {
   "cell_type": "code",
   "execution_count": 1,
   "id": "b04e45a8",
   "metadata": {},
   "outputs": [],
   "source": [
    "import random\n",
    "import matplotlib.pyplot as plt\n",
    "import numpy as np\n",
    "import math \n"
   ]
  },
  {
   "cell_type": "code",
   "execution_count": 2,
   "id": "ea788cdc",
   "metadata": {},
   "outputs": [
    {
     "name": "stdout",
     "output_type": "stream",
     "text": [
      "dabd018f98476c1f6eb2f23e8d9b8920\n",
      "dabd018f98476c1f6eb2f23e8d9b8920\n"
     ]
    }
   ],
   "source": [
    "import hashlib\n",
    "\n",
    "pin = \"4aca32b706287f13903f08b7aab38f79\"\n",
    "\n",
    "var =\"melvin\"\n",
    "var = var.encode('utf8')\n",
    "\n",
    "h2 = hashlib.md5(var).hexdigest()\n",
    "print(h2)\n",
    "\n",
    "h3 = hashlib.md5(b\"melvin\")\n",
    "print(h3.hexdigest())\n"
   ]
  },
  {
   "cell_type": "code",
   "execution_count": 1,
   "id": "3fdfacb4",
   "metadata": {},
   "outputs": [
    {
     "name": "stdout",
     "output_type": "stream",
     "text": [
      "nombre inicial: b'melvin'\n",
      "dabd018f98476c1f6eb2f23e8d9b8920\n",
      "dabd018f98476c1f6eb2f23e8d9b8920\n"
     ]
    }
   ],
   "source": [
    "import hashlib\n",
    "\n",
    "nombre = \"melvin\"\n",
    "nombre = nombre.encode('utf8')\n",
    "print(\"nombre inicial:\",nombre)\n",
    "\n",
    "# forma buena de codificar\n",
    "var = hashlib.md5(nombre).hexdigest()\n",
    "print(var)\n",
    "\n",
    "# forma no buena de codificar\n",
    "var2 = hashlib.md5(b\"melvin\")\n",
    "print(var2.hexdigest())\n",
    "\n"
   ]
  },
  {
   "cell_type": "code",
   "execution_count": 15,
   "id": "9705655d",
   "metadata": {},
   "outputs": [
    {
     "name": "stdout",
     "output_type": "stream",
     "text": [
      "no hashed AC\n",
      "hashed 4144e097d2fa7a491cec2a7a4322f2bc\n"
     ]
    },
    {
     "data": {
      "image/png": "[encoded data removed]",
      "text/plain": [
       "<Figure size 432x288 with 1 Axes>"
      ]
     },
     "metadata": {
      "needs_background": "light"
     },
     "output_type": "display_data"
    }
   ],
   "source": [
    "import matplotlib.pyplot as plt\n",
    "import numpy as np\n",
    "%matplotlib inline\n",
    "import hashlib\n",
    "import random\n",
    "import math \n",
    "\n",
    "#---------------------------- mi propio ejercico\n",
    "\n",
    "#codifico con md5 esto: ab\n",
    "pin=\"4144e097d2fa7a491cec2a7a4322f2bc\"\n",
    "list=[]\n",
    "\n",
    "N = 100\n",
    "for i in range(N):\n",
    "    cont=0\n",
    "    while True:\n",
    "        noHashed=\"\"\n",
    "        a=random.choice('ABC')    \n",
    "        b=random.choice('ABC')    \n",
    "        noHashed=a+b\n",
    "        hashed = hashlib.md5(noHashed.encode('utf8')).hexdigest()\n",
    "        if pin==hashed:\n",
    "            break\n",
    "        cont+=1\n",
    "    list.append(cont)\n",
    "print(\"no hashed\",noHashed)\n",
    "print(\"hashed\",hashed)\n",
    "\n",
    "plt.hist(list, density=True, bins=30)\n",
    "plt.show()\n"
   ]
  },
  {
   "cell_type": "code",
   "execution_count": null,
   "id": "e618b7d3",
   "metadata": {},
   "outputs": [],
   "source": [
    "#ASI ESTA BIEN \n",
    "#4aca32b706287f13903f08b7aab38f79:1A2D\n",
    "#PUEDO TABULAR UN BLOQUE DE CODIGO SELECCIONANDO TODO EL BLOQUE Y CLICK EN TABULADOR, PARA QUITAR TABULADO SHIT+TAB\n",
    "\n",
    "pin = \"4aca32b706287f13903f08b7aab38f79\"\n",
    "list=[]\n",
    "N=10\n",
    "\n",
    "for i in range(N):\n",
    "    cont=0\n",
    "    while True:\n",
    "        noHashed=\"\"\n",
    "        a=random.choice('ABCDEF')\n",
    "        b=random.choice('ABCDEF')\n",
    "        c=random.randint(0,9)\n",
    "        d=random.randint(0,9)\n",
    "        noHashed=str(c)+a+str(d)+b\n",
    "    #     noHashed=a+b+str(c)+str(d)\n",
    "        hashed = hashlib.md5(noHashed.encode('utf8')).hexdigest()\n",
    "        if pin==hashed:\n",
    "#             print(\"OKOK\")\n",
    "#             print(noHashed)\n",
    "            break\n",
    "        cont+=1\n",
    "    list.append(cont)\n",
    "#     print(cont)\n",
    "print(list)\n",
    "\n",
    "\n",
    "    "
   ]
  },
  {
   "cell_type": "code",
   "execution_count": null,
   "id": "51dee534",
   "metadata": {},
   "outputs": [],
   "source": [
    "import matplotlib.pyplot as plt\n",
    "import numpy as np\n",
    "%matplotlib inline\n",
    "\n",
    "# -----\n",
    "pin = \"4aca32b706287f13903f08b7aab38f79\"\n",
    "list=[]\n",
    "N=100\n",
    "\n",
    "for i in range(N):  \n",
    "    cont=0\n",
    "    while True:\n",
    "        noHashed=\"\"\n",
    "        a=random.randint(0,9)\n",
    "        b=random.choice('ABCDEF')    \n",
    "        c=random.randint(0,9)\n",
    "        d=random.choice('ABCDEF')\n",
    "        noHashed=str(a)+b+str(c)+d\n",
    "        hashed = hashlib.md5(noHashed.encode('utf8')).hexdigest()\n",
    "        if pin==hashed:\n",
    "            break\n",
    "        cont+=1\n",
    "    list.append(cont)\n",
    "print(list)\n",
    "print(\"--no hashed:\",noHashed)\n",
    "print(\"--hashed:\",hashed)\n",
    "# -----\n",
    "\n",
    "x = np.array(list)\n",
    "\n",
    "plt.hist(x,density=True, bins=30)\n",
    "plt.ylabel('Probabilidad')\n",
    "plt.xlabel('Lista contador');\n"
   ]
  }
 ],
 "metadata": {
  "kernelspec": {
   "display_name": "Python 3 (ipykernel)",
   "language": "python",
   "name": "python3"
  },
  "language_info": {
   "codemirror_mode": {
    "name": "ipython",
    "version": 3
   },
   "file_extension": ".py",
   "mimetype": "text/x-python",
   "name": "python",
   "nbconvert_exporter": "python",
   "pygments_lexer": "ipython3",
   "version": "3.10.0"
  }
 },
 "nbformat": 4,
 "nbformat_minor": 5
}
