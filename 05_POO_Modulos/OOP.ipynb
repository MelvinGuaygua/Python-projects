{
 "cells": [
  {
   "cell_type": "markdown",
   "id": "046e7929",
   "metadata": {},
   "source": [
    "__Cuaderno de trabajo de:__ Melvin Ramiro Guaygua Huallpa"
   ]
  },
  {
   "cell_type": "markdown",
   "id": "1ff865db",
   "metadata": {},
   "source": [
    "# Objetos y clases\n",
    "\n",
    "En los años 60 la programación se realizaba de un modo “clásico” (no orientado a objetos).  \n",
    "Un programa era un código que se ejecutaba, los trozos de código que se podían emplear en varias ocasiones a lo largo del programa (reusar) se escribían en forma de procedimientos que se invocaban desde el programa, y esta era la única capacidad de reuso de código posible.  \n",
    "Según los códigos se fueron haciendo más grandes y complejos este estilo de programación se hacía más inviable: es difícil programar algo de grandes dimensiones con este estilo de programación. La única posibilidad de repartir trozos de código relativamente independientes entre programadores son los procedimientos, y al final hay que juntar todos estos con el programa central que los llama, siendo frecuente encontrar problemas al unir estos trozos de código.  \n",
    "En los años 70 se empezó a imponer con fuerza otro estilo de programación: POO, programación orientada o objetos (en la literatura suele aparecer como OOP, Object Oriented Programing). Aquí un programa no es un código que llama a procedimientos, aquí un programa es un montón de objetos, independientes entre si, que dialogan entre ellos pasándose mensajes para llegar a resolver el problema en cuestión.  \n",
    "A un objeto no le importa en absoluto como está implementado otro objeto, que código tiene o deja de tener, que variables usa.... sólo le importa a que mensajes es capaz de responder. Un mensaje es la invocación de un método de otro objeto. Un método es muy semejante a un procedimiento de la programación clásica: a un método se le pasan uno, varios o ningún dato y nos devuelve un dato a cambio.  \n",
    "Si hay que repartir un programa de grandes dimensiones entre varios programadores a cada uno se le asignan unos cuantos objetos, y en lo único que tendrán que ponerse de acuerdo entre ellos es en los mensajes que se van a pasar; la forma en que un programador implemente sus objetos no influye en absoluto en lo que los demás programadores hagan. Esto es así gracias a que los objetos son independientes unos de otros (cuanta mayor sea la independencia entre ellos de mayor calidad serán).  \n",
    "Si analizamos lo que hemos dicho hasta aquí de los objetos veremos que estos parecen tener dos partes bastante diferenciadas: la parte que gestiona los mensajes, que ha de ser conocida por los demás, y que no podremos cambiar en el futuro sin modificar los demás objetos (sí es posible añadir nuevos métodos para dar nuevas funciones al objetos sin modificar los métodos ya existentes). La otra parte es el mecanismo por el cual se generan las acciones requeridas por los mensajes el conjunto de variables que se emplean para lograr estas acciones. Esta segunda parte es, en principio, totalmente desconocida para los demás objetos (a veces no es así, pero es lo ideal en un buena OOP). Por ser desconocida para los demás objetos podemos en cualquier momento modificarla sin que a los demás les importe, y además cada programador tendrá total libertad para llevarla a cabo como él considere oportuno.  \n",
    "La OOP permite abordar con más posibilidades de éxito y con un menor coste temporal grandes proyectos de software, simplificándole además la tarea al programador.  \n",
    "\n",
    "Una __clase__ es la “plantilla” que usamos para crear los objetos. Todos los objetos pertenecen a una determinada clase. Un __objeto__ que se crea a partir de una clase se dice que es una __instancia__ de esa clase. Las distintas clases tienen distintas relaciones de herencia entre si: una clase puede derivarse de otra, en ese caso la clase derivada o clase hija hereda los métodos y variables de la clase de la que se deriva o clase padre.\n",
    "\n",
    "#### Encapsulamiento"
   ]
  },
  {
   "cell_type": "code",
   "execution_count": 1,
   "id": "59eaa68d",
   "metadata": {
    "scrolled": true
   },
   "outputs": [
    {
     "name": "stdout",
     "output_type": "stream",
     "text": [
      "Alegre\n",
      "---------------------\n",
      "Nombre   : Nombre\n",
      "Apellido : Apellido\n",
      "Edad     : 22\n",
      "Sexo     : Hombre\n",
      "Quiero ir a la luna\n"
     ]
    }
   ],
   "source": [
    "from datetime import date\n",
    "\n",
    "class Persona:\n",
    "     #En python no existe el encapsulamiento, se puede simular precediendo a los atributos y métodos con dos barras bajas __\n",
    "    __pensamiento = \"Quiero ir a la luna\"  # atributo privado\n",
    "    cara = \"Alegre\"   #ATRIBUTO PUBLICO\n",
    "    \n",
    "    # metodo especial __init__ es el  constructor, nos permite inicializar los atributos de los objetos\n",
    "    def __init__(self, año_nacimiento=2000, sexo=\"Hombre\", nombre=\"Nombre\", apellido=\"Apellido\"):\n",
    "        self.año_nacimiento = año_nacimiento\n",
    "        self.sexo = sexo\n",
    "        self.edad = self.get_edad()\n",
    "        self.nombre = nombre\n",
    "        self.apellido = apellido\n",
    "        \n",
    "    # métodos son funciones que se utilizan para definir el comportamiento de los objetos\n",
    "    def get_edad(self):  \n",
    "        return date.today().year - self.año_nacimiento\n",
    "\n",
    "    # todos los métodos recibe como primer parámetro (self)\n",
    "    def info(self): #es el metodo toString\n",
    "        print(\"---------------------\")\n",
    "        print(\"Nombre   : \"+self.nombre)\n",
    "        print(\"Apellido : \"+self.apellido)\n",
    "        print(\"Edad     : \"+str(self.edad))\n",
    "        print(\"Sexo     : \"+self.sexo)\n",
    " \n",
    "    def get_pensamiento(self): #getter de pensamiento\n",
    "        print(self.__pensamiento)\n",
    "        \n",
    "    def diferencia_edad(self,otra_persona): \n",
    "        print(\"Me llevo \"+str(abs(self.edad-otra_persona.edad))+\" años con \"+otra_persona.nombre)\n",
    "#------------------------------------\n",
    "miPersona1 = Persona()\n",
    "print(miPersona1.cara)\n",
    "miPersona1.info()\n",
    "miPersona1.get_pensamiento()\n",
    "# miPersona1.info()\n",
    "\n",
    "# miPersona2 = Persona(1999,\"hombre\",\"melvin\",\"gh\")\n",
    "# miPersona2.info()"
   ]
  },
  {
   "cell_type": "code",
   "execution_count": 2,
   "id": "e59c1c55",
   "metadata": {},
   "outputs": [
    {
     "name": "stdout",
     "output_type": "stream",
     "text": [
      "---------------------\n",
      "Nombre   : Nombre\n",
      "Apellido : Apellido\n",
      "Edad     : 22\n",
      "Sexo     : Hombre\n",
      "---------------------\n",
      "Nombre   : Manuel\n",
      "Apellido : López\n",
      "Edad     : 43\n",
      "Sexo     : Hombre\n"
     ]
    }
   ],
   "source": [
    "persona00 = Persona()\n",
    "persona00.info()\n",
    "persona01 = Persona(1979,\"Hombre\",\"Manuel\",\"López\")\n",
    "persona01.info()"
   ]
  },
  {
   "cell_type": "code",
   "execution_count": 3,
   "id": "032dc624",
   "metadata": {},
   "outputs": [
    {
     "name": "stdout",
     "output_type": "stream",
     "text": [
      "Me llevo 21 años con Manuel\n"
     ]
    }
   ],
   "source": [
    "persona00.diferencia_edad(persona01)"
   ]
  },
  {
   "cell_type": "code",
   "execution_count": 4,
   "id": "cc0d4ac6",
   "metadata": {},
   "outputs": [
    {
     "name": "stdout",
     "output_type": "stream",
     "text": [
      "Quiero ir a la luna\n",
      "Alegre\n"
     ]
    }
   ],
   "source": [
    "persona01.get_pensamiento()\n",
    "#print(persona01.__pensamiento) #AttributeError: 'Persona' object has no attribute '__pensamiento'\n",
    "print(persona01.cara)"
   ]
  },
  {
   "cell_type": "code",
   "execution_count": 5,
   "id": "d44c4052",
   "metadata": {},
   "outputs": [
    {
     "name": "stdout",
     "output_type": "stream",
     "text": [
      "Año de nacimiento 1979\n"
     ]
    }
   ],
   "source": [
    "print(\"Año de nacimiento \"+str(persona01.año_nacimiento))"
   ]
  },
  {
   "cell_type": "code",
   "execution_count": 6,
   "id": "5a6be29b",
   "metadata": {},
   "outputs": [
    {
     "name": "stdout",
     "output_type": "stream",
     "text": [
      "---------------------\n",
      "Nombre   : Eva\n",
      "Apellido : Gárcia\n",
      "Edad     : 43\n",
      "Sexo     : Mujer\n",
      "\n",
      "Eva tiene cara Alegre\n",
      "Cambiamos la cara a Triste\n",
      "Manuel tiene cara Alegre\n",
      "Eva tiene cara Triste\n"
     ]
    }
   ],
   "source": [
    "persona02 = Persona(1979,\"Mujer\",\"Eva\",\"Gárcia\")\n",
    "persona02.info()\n",
    "print(\"\")\n",
    "print(persona02.nombre+\" tiene cara \"+persona02.cara)\n",
    "print(\"Cambiamos la cara a Triste\")\n",
    "persona02.cara=\"Triste\"\n",
    "print(persona01.nombre+\" tiene cara \"+persona01.cara)\n",
    "print(persona02.nombre+\" tiene cara \"+persona02.cara)"
   ]
  },
  {
   "cell_type": "markdown",
   "id": "5ee06dba",
   "metadata": {},
   "source": [
    "#### Herencia"
   ]
  },
  {
   "cell_type": "code",
   "execution_count": 7,
   "id": "4b819b3a",
   "metadata": {
    "scrolled": true
   },
   "outputs": [
    {
     "name": "stdout",
     "output_type": "stream",
     "text": [
      "---------------------\n",
      "Nombre   : María\n",
      "Apellido : García\n",
      "Edad     : 26\n",
      "Sexo     : Mujer\n",
      "Curso    : 1DAM\n"
     ]
    }
   ],
   "source": [
    "class Estudiante(Persona): \n",
    "    def __init__(self, año_nacimiento, sexo, nombre, apellido, curso):\n",
    "        super().__init__(año_nacimiento, sexo, nombre, apellido)\n",
    "        self.curso = curso\n",
    "    def info(self):\n",
    "        # La función super() me proporciona una referencia a la clase base.\n",
    "        super().info()   \n",
    "        print(\"Curso    : \"+self.curso) \n",
    "\n",
    "estudiante01 = Estudiante(1996,\"Mujer\",\"María\",\"García\",\"1DAM\")\n",
    "\n",
    "estudiante01.info()"
   ]
  },
  {
   "cell_type": "markdown",
   "id": "663d1721",
   "metadata": {},
   "source": [
    "### Polimorfismo"
   ]
  },
  {
   "cell_type": "code",
   "execution_count": 8,
   "id": "056cda05",
   "metadata": {},
   "outputs": [],
   "source": [
    "from pythonlangutil.overload import Overload, signature  #no hace falta para la sobrecarga devida a la herencia\n",
    "\n",
    "class Profesor(Persona): \n",
    "    def __init__(self, año_nacimiento, sexo, nombre, apellido, curso):\n",
    "        super().__init__(año_nacimiento, sexo, nombre, apellido)\n",
    "        self.curso = curso\n",
    "    def info(self):\n",
    "        super().info()\n",
    "        print(\"Curso    : \"+self.curso)\n",
    "        \n",
    "    @Overload\n",
    "    @signature()\n",
    "    def get_pensamiento(self):\n",
    "        print(\"************\")\n",
    "        \n",
    "    @get_pensamiento.overload\n",
    "    @signature(\"int\",\"int\")    \n",
    "    def get_pensamiento(self,x,y=1):\n",
    "        print(str(x+y))\n",
    "        \n",
    "    @get_pensamiento.overload\n",
    "    @signature(\"str\")    \n",
    "    def get_pensamiento(self,A):\n",
    "        print(A)\n",
    "        \n",
    "profesor01 = Profesor(1981,\"Mujer\",\"Patricia\",\"González\",\"1DAM\")"
   ]
  },
  {
   "cell_type": "code",
   "execution_count": 9,
   "id": "21523eb6",
   "metadata": {},
   "outputs": [
    {
     "name": "stdout",
     "output_type": "stream",
     "text": [
      "Quiero ir a la luna\n",
      "************\n",
      "3\n",
      "Hola\n"
     ]
    }
   ],
   "source": [
    "estudiante01.get_pensamiento()\n",
    "profesor01.get_pensamiento()\n",
    "profesor01.get_pensamiento(1,2)\n",
    "profesor01.get_pensamiento(\"Hola\")"
   ]
  },
  {
   "cell_type": "code",
   "execution_count": 10,
   "id": "4754e550",
   "metadata": {},
   "outputs": [
    {
     "name": "stdout",
     "output_type": "stream",
     "text": [
      "Asignatura : Mátematicas\n",
      "Profesora : Patricia\n"
     ]
    }
   ],
   "source": [
    "class Asignatura:\n",
    "    def __init__(self, nombre,profesor): \n",
    "        self.nombre = nombre\n",
    "        self.profesor = profesor\n",
    "        \n",
    "    def info(self):\n",
    "        print(\"Asignatura : \"+self.nombre)\n",
    "        if self.profesor.sexo == \"Mujer\":\n",
    "            print(\"Profesora : \"+self.profesor.nombre)\n",
    "        if self.profesor.sexo == \"Hombre\":\n",
    "            print(\"Profesor : \"+self.profesor.nombre)\n",
    "        \n",
    "asignatura01 = Asignatura(\"Mátematicas\",profesor01)\n",
    "asignatura01.info()"
   ]
  },
  {
   "cell_type": "markdown",
   "id": "c5181664",
   "metadata": {},
   "source": [
    "<hr>\n",
    "<b><font color='red'>Ejercicio 01</font></b>  \n",
    "\n",
    "Crea una clase llamada int8 con un método llamado getint8() que obtenga el número rellenando con \"8\" ceros a la izquierda.\n",
    "Crea otro método sum(int8) que devuelva la suma rellenando con \"8\" ceros a la izquierda.\n",
    "En el caso de que el número sea mayor que 9999999 o menor que -9999999, devuelve \"NAN\""
   ]
  },
  {
   "cell_type": "code",
   "execution_count": 11,
   "id": "ccd20736",
   "metadata": {},
   "outputs": [
    {
     "name": "stdout",
     "output_type": "stream",
     "text": [
      "09999999\n",
      "00999999\n",
      "NAN\n"
     ]
    }
   ],
   "source": [
    "class int8:\n",
    "    \n",
    "    def __init__(self, numero):\n",
    "        self.numero = numero\n",
    "        \n",
    "    def getint8(self):\n",
    "        num = int(self.numero) #lo tengo que parsear a Int para usar los operadores < >\n",
    "        if num>9999999 or num<-9999999:\n",
    "            print(\"NAN\")\n",
    "        else:\n",
    "            while len(self.numero) < 8:\n",
    "                self.numero = \"0\" +self.numero\n",
    "            print(self.numero)\n",
    "        \n",
    "    def sum(self, int8):\n",
    "        suma = int(int8.numero)+int(self.numero)\n",
    "        if suma>9999999 or suma<-9999999:\n",
    "            print(\"NAN\")\n",
    "        else:\n",
    "            sumaString = str(suma) #tengo que parsear a String para poder usar el metodo len()\n",
    "            while len(sumaString) < 8:\n",
    "                sumaString = \"0\" +sumaString\n",
    "            print(sumaString)\n",
    "\n",
    "#descomenta la siguientes 2 lineas\n",
    "a = int8(\"9999999\")\n",
    "b = int8(\"999999\")\n",
    "a.getint8()\n",
    "b.getint8()\n",
    "\n",
    "a.sum(b)\n"
   ]
  },
  {
   "cell_type": "code",
   "execution_count": 17,
   "id": "c96e9b6b",
   "metadata": {},
   "outputs": [
    {
     "name": "stdout",
     "output_type": "stream",
     "text": [
      "501\n",
      "00000501\n",
      "00000602\n",
      "NAN\n"
     ]
    }
   ],
   "source": [
    "class int8:\n",
    "    \n",
    "    #me doy cuenta de que:\n",
    "    #no hace falta declarar los atributos, se declaran en el contructor\n",
    "    \n",
    "    def __init__(self, numero):\n",
    "        self.numero = numero\n",
    "        \n",
    "    def getint8(self):\n",
    "        num = int(self.numero)\n",
    "        if num>9999999 or num<-9999999:\n",
    "            print(\"NAN\")\n",
    "        else:\n",
    "            resul = self.numero\n",
    "            while(len(resul)<8):\n",
    "                resul = \"0\"+resul\n",
    "            print(resul)\n",
    "    \n",
    "    def sum(self, int8):\n",
    "        suma = int(self.numero) + int(int8.numero)\n",
    "        if suma>9999999 or suma<-9999999:\n",
    "            print(\"NAN\")\n",
    "        else:\n",
    "            suma = str(suma)\n",
    "            while(len(suma)<8):\n",
    "                suma = \"0\"+suma\n",
    "            print(suma)\n",
    "    def info(self):\n",
    "        print(self.numero)\n",
    "\n",
    "#descomenta la siguientes 2 lineas\n",
    "a = int8(\"501\")\n",
    "a.info()\n",
    "b = int8(\"101\")\n",
    "a.getint8()\n",
    "a.sum(b)\n",
    "nmax = int8(9999999)\n",
    "a.sum(nmax)"
   ]
  },
  {
   "cell_type": "markdown",
   "id": "af51480f",
   "metadata": {},
   "source": [
    "<hr>\n",
    "<b><font color='red'>Ejercicio 02</font></b>  \n",
    "\n",
    "Crea una clase llamada Cuenta que tendrá los siguientes atributos: titular (que es una persona) y cantidad (puede tener decimales). El titular será obligatorio y la cantidad es opcional. Construye los siguientes métodos para la clase:  \n",
    "- Un constructor, donde los datos pueden estar vacíos.  \n",
    "- Los setters y getters para cada uno de los atributos. El atributo no se puede modificar directamente, sólo ingresando o retirando dinero.  \n",
    "- mostrar(): Muestra los datos de la cuenta.  \n",
    "- ingresar(cantidad): se ingresa una cantidad a la cuenta, si la cantidad introducida es negativa, no se hará nada.  \n",
    "- retirar(cantidad): se retira una cantidad a la cuenta. La cuenta puede estar en números rojos.\n"
   ]
  },
  {
   "cell_type": "code",
   "execution_count": 18,
   "id": "a6da6093",
   "metadata": {},
   "outputs": [
    {
     "name": "stdout",
     "output_type": "stream",
     "text": [
      "--info--\n",
      "melvin\n",
      "0\n",
      "el titular es melvin\n",
      "el titular es 0\n",
      "cantidad actualizada: 3\n",
      "--info--\n",
      "melvin\n",
      "3\n",
      "cantidad actualizada: 6\n",
      "--info--\n",
      "melvin\n",
      "6\n",
      "dinero retirado, ahora quedan: -4\n",
      "--info--\n",
      "melvin\n",
      "-4\n"
     ]
    }
   ],
   "source": [
    "class Cuenta:\n",
    "    \n",
    "    #contructor y toString\n",
    "    def __init__(self, titular, cantidad=0):\n",
    "        self.__titular = titular\n",
    "        self.__cantidad = cantidad\n",
    "    def info(self):\n",
    "        print(\"--info--\")\n",
    "        print(self.__titular)\n",
    "        print(self.__cantidad)\n",
    "    \n",
    "    #getters\n",
    "    def get_titular(self):\n",
    "        return self.__titular\n",
    "    def get_cantidad(self):\n",
    "        return self.__cantidad\n",
    "    \n",
    "    #setters\n",
    "    def set_titular(self, titular):\n",
    "        self.__titular = titular\n",
    "    def set_cantidad(self, cantidad):\n",
    "        self.__cantidad = cantidad\n",
    "\n",
    "    #metodos independientes\n",
    "    def ingresar(self, ingresado):\n",
    "        num = self.__cantidad\n",
    "        if ingresado<0:\n",
    "            print(\"no se permiten numeros negativos\")\n",
    "        else:\n",
    "            num+=ingresado\n",
    "            self.set_cantidad(num) \n",
    "            print(\"cantidad actualizada: \"+str(num))\n",
    "    def retirar(self, retirado):\n",
    "        num = self.__cantidad\n",
    "        num-=retirado\n",
    "        self.set_cantidad(num)\n",
    "        print(\"dinero retirado, ahora quedan: \"+str(num))\n",
    "        \n",
    "cuenta1 = Cuenta(\"melvin\")\n",
    "cuenta1.info()\n",
    "print(\"el titular es \"+cuenta1.get_titular())\n",
    "print(\"el titular es \"+str(cuenta1.get_cantidad()))\n",
    "\n",
    "cuenta1.ingresar(3)\n",
    "cuenta1.info()\n",
    "cuenta1.ingresar(3)\n",
    "cuenta1.info()\n",
    "\n",
    "cuenta1.retirar(10)\n",
    "cuenta1.info()"
   ]
  },
  {
   "cell_type": "markdown",
   "id": "55bda7c1",
   "metadata": {},
   "source": [
    "<hr>\n",
    "<b><font color='red'>Ejercicio 03</font></b>  \n",
    "\n",
    "Crea una Clase Teléfono, si empieza por 9 u 8 haz que lo guarde como un fijo, en el caso de que empiece por 6 o 7 lo guarde como móvil.  \n",
    "Haz un método que cambie el número de télefono, en el caso de que reciba mas de 9 dígitos haz que devuelva \"Número no cambiado\" y no guarde el número, en el caso de que tenga nueve digitos, lo guarda como movil o fijo.\n",
    "Crea una clase persona con télefono, de tal manera que:"
   ]
  },
  {
   "cell_type": "code",
   "execution_count": 13,
   "id": "744d145b",
   "metadata": {},
   "outputs": [
    {
     "name": "stdout",
     "output_type": "stream",
     "text": [
      "987654321\n",
      "Mi telefono es un fijo con numero 987654321\n",
      "->numero no cambiado, necesitamos un numero de 9 cifras\n",
      "numero cambiado, mi telefono es un movil con numero 654987321\n"
     ]
    }
   ],
   "source": [
    "class Persona_tlf:\n",
    "    def __init__(self, fecha, genero, nombre, apellido, tel):\n",
    "        self.__fecha = fecha\n",
    "        self.__genero = genero\n",
    "        self.__nombre = nombre\n",
    "        self.__apellido = apellido\n",
    "        self.__tel = tel\n",
    "        \n",
    "    def info(self):\n",
    "        print(\"--INFO--\")\n",
    "        print(\"fecha: \"+str(self.__fecha))\n",
    "        print(\"genero: \"+self.__genero)\n",
    "        print(\"nombre: \"+self.__nombre)\n",
    "        print(\"apellido: \"+self.__apellido)\n",
    "        print(\"tel: \"+self.__tel)\n",
    "\n",
    "    def tlf_info(self):\n",
    "        if self.__tel[0] == \"9\" or self.__tel[0] == \"8\":\n",
    "            print(\"Mi telefono es un fijo con numero\",self.__tel)\n",
    "        elif self.__tel[0] == \"6\" or self.__tel[0] == \"7\":\n",
    "            print(\"Mi telefono es un movil con numero\",self.__tel)\n",
    "        \n",
    "    def get_tlf(self):\n",
    "        print(self.__tel)\n",
    "    \n",
    "    def set_tlf(self, tel):\n",
    "        self.__tel = tel\n",
    "        \n",
    "    def cambiar_tlf(self, telNuevo):\n",
    "        telString=str(telNuevo)\n",
    "        if len(telString)!= 9:\n",
    "            print(\"->numero no cambiado, necesitamos un numero de 9 cifras\")\n",
    "        else: \n",
    "            self.set_tlf(telString)\n",
    "            if telString[0]==\"6\" or telString[0]==\"7\":\n",
    "                print(\"numero cambiado, mi telefono es un movil con numero\",self.__tel)\n",
    "            elif telString[0]==\"9\" or telString[0]==\"8\":\n",
    "                print(\"numero cambiado, mi telefono es un fijo con numero\",self.__tel)\n",
    "        \n",
    "\n",
    "#descomenta la siguientes 2 lineas\n",
    "persona_tlf01 = Persona_tlf(1979,\"Hombre\",\"Manuel\",\"López\",\"987654321\")\n",
    "persona_tlf01.get_tlf()\n",
    "#salida:\n",
    "#987654321\n",
    "\n",
    "#descomenta la siguiente linea\n",
    "persona_tlf01.tlf_info()\n",
    "#salida:\n",
    "#Mi teléfono es un fíjo con número 987654321\n",
    "\n",
    "# descomenta la siguiente linea\n",
    "persona_tlf01.cambiar_tlf(1234)\n",
    "# persona_tlf01.info()\n",
    "#salida:\n",
    "#Número no cambiado, necesitamos un número de 9 cifras\n",
    "\n",
    "#descomenta la siguiente linea\n",
    "persona_tlf01.cambiar_tlf(654987321)\n",
    "# persona_tlf01.info()\n",
    "\n",
    "#salida:\n",
    "#Número cambiado, Mi teléfono es un móvil con número 987654321"
   ]
  },
  {
   "cell_type": "markdown",
   "id": "7a6b142b",
   "metadata": {},
   "source": [
    "<hr>\n",
    "<b><font color='red'>Ejercicio 04</font></b>  \n",
    "\n",
    "Dadas las siguientes listas de módulos:"
   ]
  },
  {
   "cell_type": "code",
   "execution_count": 14,
   "id": "3cb5ecbc",
   "metadata": {},
   "outputs": [],
   "source": [
    "DAM1 = [[\"0484\", \"Bases de datos\",6 ],\n",
    "  [\"0487\", \"Entornos de desarrollo\", 3 ],\n",
    "  [\"0493\", \"Formación y orientación laboral\", 3 ],\n",
    "  [\"0373\", \"Lenguaje de marcas y sistemas de gestión de información\", 4 ],\n",
    "  [\"0485\", \"Programación\",8 ],\n",
    "  [\"0483\", \"Sistemas informáticos\", 6 ]]\n",
    "DAM2 = [[\"0486\", \"Acceso a datos\", 6],\n",
    "  [\"0488\", \"Desarrollo de interfaces\", 6],\n",
    "  [\"0494\", \"Empresa e iniciativa emprendedora\", 3],\n",
    "  [\"9009\", \"Inglés técnico para grado superior\", 2],\n",
    "  [\"0490\", \"Programación de servicios y procesos\", 4],\n",
    "  [\"0489\", \"Programación multimedia y dispositivos móviles\", 4],\n",
    "  [\"0491\", \"Sistemas de gestión empresarial\", 5]]"
   ]
  },
  {
   "cell_type": "markdown",
   "id": "81a91afd",
   "metadata": {},
   "source": [
    "Crea la clase Curso que cargue los dos cursos DAM1 y DAM2.\n",
    "Crea la clase Modulo que cargue los módulos.\n",
    "Haz una lista con los cursos de tal forma que la salida de:"
   ]
  },
  {
   "cell_type": "code",
   "execution_count": 19,
   "id": "47019f12",
   "metadata": {},
   "outputs": [
    {
     "name": "stdout",
     "output_type": "stream",
     "text": [
      "Curso 1 DAM\n",
      "    0484 Bases de datos ( 6 )\n",
      "    0487 Entornos de desarrollo ( 3 )\n",
      "    0493 Formación y orientación laboral ( 3 )\n",
      "    0373 Lenguaje de marcas y sistemas de gestión de información ( 4 )\n",
      "    0485 Programación ( 8 )\n",
      "    0483 Sistemas informáticos ( 6 )\n",
      "Curso 2 DAM\n",
      "    0486 Acceso a datos ( 6 )\n",
      "    0488 Desarrollo de interfaces ( 6 )\n",
      "    0494 Empresa e iniciativa emprendedora ( 3 )\n",
      "    9009 Inglés técnico para grado superior ( 2 )\n",
      "    0490 Programación de servicios y procesos ( 4 )\n",
      "    0489 Programación multimedia y dispositivos móviles ( 4 )\n",
      "    0491 Sistemas de gestión empresarial ( 5 )\n"
     ]
    }
   ],
   "source": [
    "DAM1 = [[\"0484\", \"Bases de datos\",6 ],\n",
    "  [\"0487\", \"Entornos de desarrollo\", 3 ],\n",
    "  [\"0493\", \"Formación y orientación laboral\", 3 ],\n",
    "  [\"0373\", \"Lenguaje de marcas y sistemas de gestión de información\", 4 ],\n",
    "  [\"0485\", \"Programación\",8 ],\n",
    "  [\"0483\", \"Sistemas informáticos\", 6 ]]\n",
    "DAM2 = [[\"0486\", \"Acceso a datos\", 6],\n",
    "  [\"0488\", \"Desarrollo de interfaces\", 6],\n",
    "  [\"0494\", \"Empresa e iniciativa emprendedora\", 3],\n",
    "  [\"9009\", \"Inglés técnico para grado superior\", 2],\n",
    "  [\"0490\", \"Programación de servicios y procesos\", 4],\n",
    "  [\"0489\", \"Programación multimedia y dispositivos móviles\", 4],\n",
    "  [\"0491\", \"Sistemas de gestión empresarial\", 5]]\n",
    "\n",
    "class Curso:\n",
    "    def __init__(self, año, nombre):\n",
    "        self.__año = año\n",
    "        self.__nombre = nombre\n",
    "        self.modulos=[]\n",
    "        \n",
    "    def info(self):\n",
    "#         print(\"Curso \"+str(self.__año)+\" \"+self.__nombre) otra forma de imprimirlo\n",
    "        print(\"Curso\",self.__año,self.__nombre)\n",
    "        for i in self.modulos:\n",
    "            i.infoModulo() #me faltaba el .info() porque lo que estoy imprimiendo es un modulo      \n",
    "        \n",
    "class Modulo:\n",
    "    def __init__(self, ID, nombre, horas):\n",
    "        self.__ID = ID\n",
    "        self.__nombre = nombre\n",
    "        self.__horas = horas\n",
    "        \n",
    "    def infoModulo(self):\n",
    "        print(\"   \",self.__ID, self.__nombre,\"(\",str(self.__horas),\")\")\n",
    "        \n",
    "# descomenta cuando termines de escribir la clase Modulo y Curso\n",
    "cursos=[]\n",
    "cursos=[Curso(1,\"DAM\"),Curso(2,\"DAM\")]\n",
    "\n",
    "for i in DAM1:\n",
    "    cursos[0].modulos.append(Modulo(i[0],i[1],i[2]))  #DENTRO DE LA CLASE CURSO TENGO QUE CREAR UNA CLASE MODULO\n",
    "\n",
    "for i in DAM2:\n",
    "    cursos[1].modulos.append(Modulo(i[0],i[1],i[2]))\n",
    "\n",
    "for i in cursos:\n",
    "    i.info()"
   ]
  },
  {
   "cell_type": "markdown",
   "id": "010b8181",
   "metadata": {},
   "source": [
    "- ayuda:\n",
    "    + metodo \\_\\_init\\_\\_ para la clase Curso : def \\_\\_init\\_\\_(self,año,nombre):\n",
    "    + metodo \\_\\_init\\_\\_ para la clase Modulo : def \\_\\_init\\_\\_(self, ID, nombre , horas):\n"
   ]
  },
  {
   "cell_type": "markdown",
   "id": "b1f94f38",
   "metadata": {},
   "source": [
    "<code>for i in cursos:\n",
    "    i.info()\n",
    "</code>\n",
    "\n",
    "    Curso 1 DAM\n",
    "      0484 Bases de datos (6)\n",
    "      0487 Entornos de desarrollo (3)\n",
    "      0493 Formación y orientación laboral (3)\n",
    "      0373 Lenguaje de marcas y sistemas de gestión de información (4)\n",
    "      0485 Programación (8)\n",
    "      0483 Sistemas informáticos (6)\n",
    "    Curso 2 DAM\n",
    "      0486 Acceso a datos (6)\n",
    "      0488 Desarrollo de interfaces (6)\n",
    "      0494 Empresa e iniciativa emprendedora (3)\n",
    "      9009 Inglés técnico para grado superior (2)\n",
    "      0490 Programación de servicios y procesos (4)\n",
    "      0489 Programación multimedia y dispositivos móviles (4)\n",
    "      0491 Sistemas de gestión empresarial (5)"
   ]
  },
  {
   "cell_type": "markdown",
   "id": "013f5d03",
   "metadata": {},
   "source": [
    "<hr>\n",
    "<b><font color='red'>Ejercicio 05</font></b>  \n",
    "\n",
    "Completa el siguiente código:"
   ]
  },
  {
   "cell_type": "code",
   "execution_count": 16,
   "id": "ddf9d989",
   "metadata": {},
   "outputs": [
    {
     "name": "stdout",
     "output_type": "stream",
     "text": [
      "el pasajero Antonella tiene la cara alegre\n",
      "el pasajero Isabel tiene la cara alegre\n",
      "el pasajero Luna tiene la cara alegre\n",
      "el pasajero Luciana tiene la cara alegre\n",
      "el pasajero Ana tiene la cara alegre\n",
      "el pasajero Sofía tiene la cara alegre\n",
      "el pasajero Mario tiene la cara alegre\n",
      "el pasajero Francesca tiene la cara alegre\n",
      "el pasajero Alejandro tiene la cara alegre\n",
      "el pasajero Alejandra tiene la cara alegre\n",
      "el pasajero Allison tiene la cara alegre\n",
      "el pasajero Isaac tiene la cara alegre\n",
      "el pasajero Carlos tiene la cara alegre\n",
      "el pasajero Renata tiene la cara alegre\n",
      "el pasajero Laura tiene la cara alegre\n",
      "el pasajero Sebastián tiene la cara alegre\n",
      "el pasajero Abigail tiene la cara alegre\n",
      "el pasajero Andrea tiene la cara alegre\n",
      "el pasajero María tiene la cara alegre\n",
      "el pasajero Ivanna tiene la cara alegre\n",
      "el pasajero Alejandra tiene la cara alegre\n",
      "el pasajero Violeta tiene la cara alegre\n",
      "el pasajero Ashley tiene la cara alegre\n",
      "el pasajero Julia tiene la cara alegre\n",
      "el pasajero Miranda tiene la cara alegre\n",
      "el pasajero Nicole tiene la cara alegre\n",
      "el pasajero Rafaela tiene la cara alegre\n",
      "el pasajero Samuel tiene la cara alegre\n",
      "el pasajero Kevin tiene la cara alegre\n",
      "el pasajero Lucía tiene la cara alegre\n",
      "el pasajero LiaHombre tiene la cara alegre\n",
      "el pasajero Melvin tiene la cara DE CUMPLEAÑOS\n"
     ]
    }
   ],
   "source": [
    "#tenemos la siguiente lista de pasajeros:\n",
    "\n",
    "lista=[[\"Mujer\",\"Antonella\",\"Rodriguez\"],\n",
    "[\"Mujer\",\"Isabel\",\"Gutierrez\"],\n",
    "[\"Mujer\",\"Luna\",\"Garcia\"],\n",
    "[\"Mujer\",\"Luciana\",\"Gonzalez\"],\n",
    "[\"Mujer\",\"Ana\",\"Martinez\"],\n",
    "[\"Mujer\",\"Sofía\",\"Medina\"],\n",
    "[\"Hombre\",\"Mario\",\"Herrera\"],\n",
    "[\"Mujer\",\"Francesca\",\"Sanchez\"],\n",
    "[\"Hombre\",\"Alejandro\",\"Sanchez\"],\n",
    "[\"Mujer\",\"Alejandra\",\"Romero\"],\n",
    "[\"Mujer\",\"Allison\",\"Castro\"],\n",
    "[\"Hombre\",\"Isaac\",\"Vazquez\"],\n",
    "[\"Hombre\",\"Carlos\",\"Gonzalez\"],\n",
    "[\"Mujer\",\"Renata\",\"Morrell\"],\n",
    "[\"Mujer\",\"Laura\",\"Sanchez\"],\n",
    "[\"Hombre\",\"Sebastián\",\"Molina\"],\n",
    "[\"Mujer\",\"Abigail\",\"Lopez\"],\n",
    "[\"Mujer\",\"Andrea\",\"Ramos\"],\n",
    "[\"Mujer\",\"María\",\"Delgado\"],\n",
    "[\"Mujer\",\"Ivanna\",\"Serrano\"],\n",
    "[\"Mujer\",\"Alejandra\",\"Medina\"],\n",
    "[\"Mujer\",\"Violeta\",\"Ortega\"],\n",
    "[\"Mujer\",\"Ashley\",\"Rodriguez\"],\n",
    "[\"Mujer\",\"Julia\",\"Alvarez\"],\n",
    "[\"Mujer\",\"Miranda\",\"Cruz\"],\n",
    "[\"Mujer\",\"Nicole\",\"Gil\"],\n",
    "[\"Mujer\",\"Rafaela\",\"Herrera\"],\n",
    "[\"Hombre\",\"Samuel\",\"Mendez\"],\n",
    "[\"Hombre\",\"Kevin\",\"Castro\"],\n",
    "[\"Mujer\",\"Lucía\",\"Santos\"],\n",
    "[\"Hombre\",\"LiaHombre\",\"Gil\"],\n",
    "[\"Mujer\",\"Allison\",\"Jimenez\"]]\n",
    "\n",
    "\n",
    "#Teniendo encuenta que todos han nacido en el 2000 crea una lista de Personas con la lista de pasajeros llamala:\n",
    "pasajero=[]\n",
    "\n",
    "class Persona:\n",
    "    cara = \"alegre\"\n",
    "    def __init__(self, gen, nom, ape):\n",
    "        self.genero = gen\n",
    "        self.nombre = nom\n",
    "        self.apellido = ape\n",
    "    def info(self):\n",
    "        print(\"el pasajero\",self.nombre,\"tiene la cara\",self.cara)\n",
    "\n",
    "longitudLista = len(lista)\n",
    "\n",
    "for i in range(longitudLista):\n",
    "    pasajero.append(Persona(lista[i][0], lista[i][1], lista[i][2]))\n",
    "\n",
    "#Cambia el nombre del pasajero del día de tu cumpleaños por tu nombre y pon cara=\"DE CUMPLEAÑOS\", si quieres cambiale\n",
    "#tambien el sexo\n",
    "pasajero[31].nombre = \"Melvin\"\n",
    "pasajero[31].cara = \"DE CUMPLEAÑOS\"\n",
    "pasajero[31].genero = \"Hombre\"\n",
    "\n",
    "#haz que se muestre por pantalla la siguiente información\n",
    "for i in pasajero:\n",
    "    i.info()"
   ]
  },
  {
   "cell_type": "markdown",
   "id": "b1c5b87b",
   "metadata": {},
   "source": [
    "    El pasajero Antonella tiene cara Alegre\n",
    "    El pasajero Isabel tiene cara Alegre\n",
    "    El pasajero Luna tiene cara Alegre\n",
    "    El pasajero Luciana tiene cara Alegre\n",
    "    El pasajero Ana tiene cara Alegre\n",
    "    El pasajero Sofía tiene cara Alegre\n",
    "    El pasajero Mario tiene cara Alegre\n",
    "    El pasajero Francesca tiene cara Alegre\n",
    "    El pasajero Alejandro tiene cara Alegre\n",
    "    El pasajero Alejandra tiene cara Alegre\n",
    "    El pasajero Allison tiene cara Alegre\n",
    "    El pasajero Isaac tiene cara Alegre\n",
    "    El pasajero Carlos tiene cara Alegre\n",
    "    El pasajero Renata tiene cara Alegre\n",
    "    El pasajero Laura tiene cara Alegre\n",
    "    El pasajero Sebastián tiene cara Alegre\n",
    "    El pasajero Abigail tiene cara Alegre\n",
    "    El pasajero Andrea tiene cara Alegre\n",
    "    El pasajero María tiene cara Alegre\n",
    "    El pasajero Ivanna tiene cara Alegre\n",
    "    El pasajero Alejandra tiene cara Alegre\n",
    "    El pasajero Violeta tiene cara Alegre\n",
    "    El pasajero Ashley tiene cara Alegre\n",
    "    El pasajero Julia tiene cara Alegre\n",
    "    El pasajero Miranda tiene cara Alegre\n",
    "    El pasajero Daniel tiene cara DE CUMPLEAÑOS\n",
    "    El pasajero Rafaela tiene cara Alegre\n",
    "    El pasajero Samuel tiene cara Alegre\n",
    "    El pasajero Kevin tiene cara Alegre\n",
    "    El pasajero Lucía tiene cara Alegre\n",
    "    El pasajero LiaHombre tiene cara Alegre\n",
    "    El pasajero Allison tiene cara Alegre"
   ]
  }
 ],
 "metadata": {
  "kernelspec": {
   "display_name": "Python 3 (ipykernel)",
   "language": "python",
   "name": "python3"
  },
  "language_info": {
   "codemirror_mode": {
    "name": "ipython",
    "version": 3
   },
   "file_extension": ".py",
   "mimetype": "text/x-python",
   "name": "python",
   "nbconvert_exporter": "python",
   "pygments_lexer": "ipython3",
   "version": "3.10.0"
  }
 },
 "nbformat": 4,
 "nbformat_minor": 5
}
