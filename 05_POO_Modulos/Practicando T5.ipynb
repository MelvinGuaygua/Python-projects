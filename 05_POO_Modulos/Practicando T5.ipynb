{
 "cells": [
  {
   "cell_type": "code",
   "execution_count": 1,
   "id": "9b72d47e",
   "metadata": {},
   "outputs": [
    {
     "name": "stdout",
     "output_type": "stream",
     "text": [
      "hola mundo\n"
     ]
    }
   ],
   "source": [
    "print(\"hola mundo\")"
   ]
  },
  {
   "cell_type": "code",
   "execution_count": 19,
   "id": "7384f231",
   "metadata": {},
   "outputs": [
    {
     "name": "stdout",
     "output_type": "stream",
     "text": [
      "--info--\n",
      "2000\n",
      "hombre\n",
      "nombre\n",
      "apellido\n",
      "22\n",
      "--info--\n",
      "1999\n",
      "macho alfa\n",
      "MVP\n",
      "goat\n",
      "23\n",
      "quiero ir a la luna\n",
      "me llevo 1 años con MVP\n"
     ]
    }
   ],
   "source": [
    "from datetime import date\n",
    "\n",
    "class Persona:\n",
    "    cara=\"alegre\"\n",
    "    __pensamiento=\"quiero ir a la luna\"\n",
    "    \n",
    "    def get_pensamiento(self):\n",
    "        print(self.__pensamiento)\n",
    "    \n",
    "    def __init__(self, año_nacimiento=2000,sexo=\"hombre\",nombre=\"nombre\",apellido=\"apellido\"):\n",
    "        self.año_nacimiento=año_nacimiento\n",
    "        self.sexo=sexo\n",
    "        self.nombre=nombre\n",
    "        self.apellido=apellido\n",
    "        self.edad= self.get_edad()\n",
    "        \n",
    "    def get_edad(self):\n",
    "        return date.today().year - self.año_nacimiento\n",
    "    \n",
    "    def info(self):\n",
    "        print(\"--info--\")\n",
    "        print(self.año_nacimiento)\n",
    "        print(self.sexo)\n",
    "        print(self.nombre)\n",
    "        print(self.apellido)\n",
    "        print(self.edad)\n",
    "        \n",
    "    def diferencia_edad(self, otra_persona):\n",
    "        print(\"me llevo \"+str(abs(self.edad-otra_persona.edad))+\" años con \"+otra_persona.nombre)\n",
    "        \n",
    "persona1 = Persona()\n",
    "persona1.info()\n",
    "\n",
    "persona2 = Persona(1999,\"macho alfa\",\"MVP\",\"goat\")\n",
    "persona2.info()\n",
    "persona2.get_pensamiento()\n",
    "\n",
    "persona1.diferencia_edad(persona2)"
   ]
  },
  {
   "cell_type": "markdown",
   "id": "40e90080",
   "metadata": {},
   "source": [
    "<hr>\n",
    "<b><font color='red'>Ejercicio 01</font></b>  \n",
    "\n",
    "Crea una clase llamada int8 con un método llamado getint8() que obtenga el número rellenando con \"8\" ceros a la izquierda.\n",
    "Crea otro método sum(int8) que devuelva la suma rellenando con \"8\" ceros a la izquierda\n",
    "En el caso de que el número sea mayor que 9999999 o menor que -9999999, devuelve \"NAN\""
   ]
  },
  {
   "cell_type": "code",
   "execution_count": 47,
   "id": "51c8185a",
   "metadata": {},
   "outputs": [
    {
     "name": "stdout",
     "output_type": "stream",
     "text": [
      "501\n",
      "00000501\n",
      "00000602\n",
      "NAN\n"
     ]
    }
   ],
   "source": [
    "class int8:\n",
    "    #me doy cuenta de que:\n",
    "    #no hace falta declarar los atributos, se declaran en el contructor\n",
    "    \n",
    "    def __init__(self, numero):\n",
    "        self.numero = numero\n",
    "        \n",
    "    def getint8(self):\n",
    "        num = int(self.numero)\n",
    "        if num>9999999 or num<-9999999:\n",
    "            print(\"NAN\")\n",
    "        else:\n",
    "            resul = self.numero\n",
    "            while(len(resul)<8):\n",
    "                resul = \"0\"+resul\n",
    "            print(resul)\n",
    "    \n",
    "    def sum(self, int8):\n",
    "        suma = int(self.numero) + int(int8.numero)\n",
    "        if suma>9999999 or suma<-9999999:\n",
    "            print(\"NAN\")\n",
    "        else:\n",
    "            suma = str(suma)\n",
    "            while(len(suma)<8):\n",
    "                suma = \"0\"+suma\n",
    "            print(suma)\n",
    "    def info(self):\n",
    "        print(self.numero)\n",
    "\n",
    "#descomenta la siguientes 2 lineas\n",
    "a = int8(\"501\")\n",
    "a.info()\n",
    "b = int8(\"101\")\n",
    "a.getint8()\n",
    "a.sum(b)\n",
    "nmax = int8(9999999)\n",
    "a.sum(nmax)"
   ]
  },
  {
   "cell_type": "markdown",
   "id": "0ea25a87",
   "metadata": {},
   "source": [
    "<hr>\n",
    "<b><font color='red'>Ejercicio 02</font></b>  \n",
    "\n",
    "Crea una clase llamada Cuenta que tendrá los siguientes atributos: titular (que es una persona) y cantidad (puede tener decimales). El titular será obligatorio y la cantidad es opcional. Construye los siguientes métodos para la clase:  \n",
    "- Un constructor, donde los datos pueden estar vacíos.  \n",
    "- Los setters y getters para cada uno de los atributos. El atributo no se puede modificar directamente, sólo ingresando o retirando dinero.  \n",
    "- mostrar(): Muestra los datos de la cuenta.  \n",
    "- ingresar(cantidad): se ingresa una cantidad a la cuenta, si la cantidad introducida es negativa, no se hará nada.  \n",
    "- retirar(cantidad): se retira una cantidad a la cuenta. La cuenta puede estar en números rojos.\n"
   ]
  },
  {
   "cell_type": "code",
   "execution_count": 81,
   "id": "a996b050",
   "metadata": {},
   "outputs": [
    {
     "name": "stdout",
     "output_type": "stream",
     "text": [
      "--info--\n",
      "melvin\n",
      "0\n",
      "el titular es melvin\n",
      "el titular es 0\n",
      "cantidad actualizada: 3\n",
      "--info--\n",
      "melvin\n",
      "3\n",
      "cantidad actualizada: 6\n",
      "--info--\n",
      "melvin\n",
      "6\n",
      "dinero retirado, ahora quedan: -4\n",
      "--info--\n",
      "melvin\n",
      "-4\n"
     ]
    }
   ],
   "source": [
    "class Cuenta:\n",
    "    \n",
    "    #contructor y toString\n",
    "    def __init__(self, titular, cantidad=0):\n",
    "        self.__titular = titular\n",
    "        self.__cantidad = cantidad\n",
    "    def info(self):\n",
    "        print(\"--info--\")\n",
    "        print(self.__titular)\n",
    "        print(self.__cantidad)\n",
    "    \n",
    "    #getters\n",
    "    def get_titular(self):\n",
    "        return self.__titular\n",
    "    def get_cantidad(self):\n",
    "        return self.__cantidad\n",
    "    \n",
    "    #setters\n",
    "    def set_titular(self, titular):\n",
    "        self.__titular = titular\n",
    "    def set_cantidad(self, cantidad):\n",
    "        self.__cantidad = cantidad\n",
    "\n",
    "    #metodos independientes\n",
    "    def ingresar(self, ingresado):\n",
    "        num = self.__cantidad\n",
    "        if ingresado<0:\n",
    "            print(\"no se permiten numeros negativos\")\n",
    "        else:\n",
    "            num+=ingresado\n",
    "            self.set_cantidad(num) \n",
    "            print(\"cantidad actualizada: \"+str(num))\n",
    "    def retirar(self, retirado):\n",
    "        num = self.__cantidad\n",
    "        num-=retirado\n",
    "        self.set_cantidad(num)\n",
    "        print(\"dinero retirado, ahora quedan: \"+str(num))\n",
    "        \n",
    "cuenta1 = Cuenta(\"melvin\")\n",
    "cuenta1.info()\n",
    "print(\"el titular es \"+cuenta1.get_titular())\n",
    "print(\"el titular es \"+str(cuenta1.get_cantidad()))\n",
    "\n",
    "cuenta1.ingresar(3)\n",
    "cuenta1.info()\n",
    "cuenta1.ingresar(3)\n",
    "cuenta1.info()\n",
    "\n",
    "cuenta1.retirar(10)\n",
    "cuenta1.info()"
   ]
  },
  {
   "cell_type": "markdown",
   "id": "95840d7d",
   "metadata": {},
   "source": [
    "<hr>\n",
    "<b><font color='red'>Ejercicio 04</font></b>  \n",
    "\n",
    "Dadas las siguientes listas de módulos:"
   ]
  },
  {
   "cell_type": "code",
   "execution_count": 83,
   "id": "e1eed667",
   "metadata": {},
   "outputs": [],
   "source": [
    "DAM1 = [[\"0484\", \"Bases de datos\",6 ],\n",
    "  [\"0487\", \"Entornos de desarrollo\", 3 ],\n",
    "  [\"0493\", \"Formación y orientación laboral\", 3 ],\n",
    "  [\"0373\", \"Lenguaje de marcas y sistemas de gestión de información\", 4 ],\n",
    "  [\"0485\", \"Programación\",8 ],\n",
    "  [\"0483\", \"Sistemas informáticos\", 6 ]]\n",
    "DAM2 = [[\"0486\", \"Acceso a datos\", 6],\n",
    "  [\"0488\", \"Desarrollo de interfaces\", 6],\n",
    "  [\"0494\", \"Empresa e iniciativa emprendedora\", 3],\n",
    "  [\"9009\", \"Inglés técnico para grado superior\", 2],\n",
    "  [\"0490\", \"Programación de servicios y procesos\", 4],\n",
    "  [\"0489\", \"Programación multimedia y dispositivos móviles\", 4],\n",
    "  [\"0491\", \"Sistemas de gestión empresarial\", 5]]"
   ]
  },
  {
   "cell_type": "markdown",
   "id": "e7847efe",
   "metadata": {},
   "source": [
    "Crea la clase Curso que cargue los dos cursos DAM1 y DAM2.\n",
    "Crea la clase Modulo que cargue los módulos.\n",
    "Haz una lista con los cursos de tal forma que la salida de:"
   ]
  },
  {
   "cell_type": "code",
   "execution_count": 104,
   "id": "e18825e9",
   "metadata": {},
   "outputs": [
    {
     "name": "stdout",
     "output_type": "stream",
     "text": [
      "curso 1 DAM\n",
      "0484 Bases de datos 6\n",
      "0487 Entornos de desarrollo 3\n",
      "0493 Formación y orientación laboral 3\n",
      "0373 Lenguaje de marcas y sistemas de gestión de información 4\n",
      "0485 Programación 8\n",
      "0483 Sistemas informáticos 6\n",
      "curso 2 DAM\n",
      "0486 Acceso a datos 6\n",
      "0488 Desarrollo de interfaces 6\n",
      "0494 Empresa e iniciativa emprendedora 3\n",
      "9009 Inglés técnico para grado superior 2\n",
      "0490 Programación de servicios y procesos 4\n",
      "0489 Programación multimedia y dispositivos móviles 4\n",
      "0491 Sistemas de gestión empresarial 5\n"
     ]
    }
   ],
   "source": [
    "DAM1 = [[\"0484\", \"Bases de datos\",6 ],\n",
    "  [\"0487\", \"Entornos de desarrollo\", 3 ],\n",
    "  [\"0493\", \"Formación y orientación laboral\", 3 ],\n",
    "  [\"0373\", \"Lenguaje de marcas y sistemas de gestión de información\", 4 ],\n",
    "  [\"0485\", \"Programación\",8 ],\n",
    "  [\"0483\", \"Sistemas informáticos\", 6 ]]\n",
    "DAM2 = [[\"0486\", \"Acceso a datos\", 6],\n",
    "  [\"0488\", \"Desarrollo de interfaces\", 6],\n",
    "  [\"0494\", \"Empresa e iniciativa emprendedora\", 3],\n",
    "  [\"9009\", \"Inglés técnico para grado superior\", 2],\n",
    "  [\"0490\", \"Programación de servicios y procesos\", 4],\n",
    "  [\"0489\", \"Programación multimedia y dispositivos móviles\", 4],\n",
    "  [\"0491\", \"Sistemas de gestión empresarial\", 5]]\n",
    "\n",
    "class Curso:\n",
    "    def __init__(self, año, nombre):\n",
    "        self.año = año\n",
    "        self.nombre = nombre\n",
    "        self.modulos=[]\n",
    "    def infoCurso(self):\n",
    "        print(\"curso \"+str(self.año)+\" \"+self.nombre)\n",
    "        for i in self.modulos:\n",
    "            i.infoModulo()\n",
    "        \n",
    "class Modulo:\n",
    "    def __init__(self, ID, nombre, horas):\n",
    "        self.ID = ID\n",
    "        self.nombre = nombre\n",
    "        self.horas = horas\n",
    "    def infoModulo(self):\n",
    "        print(self.ID+\" \"+self.nombre+\" \"+str(self.horas))\n",
    "\n",
    "# descomenta cuando termines de escribir la clase Modulo y Curso    \n",
    "cursos = [Curso(1,\"DAM\"),Curso(2,\"DAM\")]\n",
    "\n",
    "for i in DAM1:\n",
    "    cursos[0].modulos.append(Modulo(i[0],i[1],i[2]))\n",
    "\n",
    "for i in DAM2:\n",
    "    cursos[1].modulos.append(Modulo(i[0],i[1],i[2]))\n",
    "\n",
    "for i in cursos:\n",
    "    i.infoCurso()"
   ]
  },
  {
   "cell_type": "markdown",
   "id": "733c0826",
   "metadata": {},
   "source": [
    "- ayuda:\n",
    "    + metodo \\_\\_init\\_\\_ para la clase Curso : def \\_\\_init\\_\\_(self,año,nombre):\n",
    "    + metodo \\_\\_init\\_\\_ para la clase Modulo : def \\_\\_init\\_\\_(self, ID, nombre , horas):\n"
   ]
  },
  {
   "cell_type": "markdown",
   "id": "56622fcf",
   "metadata": {},
   "source": [
    "<code>for i in cursos:\n",
    "    i.info()\n",
    "</code>\n",
    "\n",
    "    Curso 1 DAM\n",
    "      0484 Bases de datos (6)\n",
    "      0487 Entornos de desarrollo (3)\n",
    "      0493 Formación y orientación laboral (3)\n",
    "      0373 Lenguaje de marcas y sistemas de gestión de información (4)\n",
    "      0485 Programación (8)\n",
    "      0483 Sistemas informáticos (6)\n",
    "    Curso 2 DAM\n",
    "      0486 Acceso a datos (6)\n",
    "      0488 Desarrollo de interfaces (6)\n",
    "      0494 Empresa e iniciativa emprendedora (3)\n",
    "      9009 Inglés técnico para grado superior (2)\n",
    "      0490 Programación de servicios y procesos (4)\n",
    "      0489 Programación multimedia y dispositivos móviles (4)\n",
    "      0491 Sistemas de gestión empresarial (5)"
   ]
  }
 ],
 "metadata": {
  "kernelspec": {
   "display_name": "Python 3 (ipykernel)",
   "language": "python",
   "name": "python3"
  },
  "language_info": {
   "codemirror_mode": {
    "name": "ipython",
    "version": 3
   },
   "file_extension": ".py",
   "mimetype": "text/x-python",
   "name": "python",
   "nbconvert_exporter": "python",
   "pygments_lexer": "ipython3",
   "version": "3.10.0"
  }
 },
 "nbformat": 4,
 "nbformat_minor": 5
}
