{
 "cells": [
  {
   "cell_type": "code",
   "execution_count": 10,
   "id": "8ad2383f",
   "metadata": {},
   "outputs": [
    {
     "name": "stdout",
     "output_type": "stream",
     "text": [
      "garcia\n",
      "buen dia\n"
     ]
    }
   ],
   "source": [
    "class Persona():\n",
    "    apellido = \"\"\n",
    "    nombre = \"\"\n",
    "    edad = 0\n",
    "    despierta = False\n",
    "    \n",
    "    def despertar(self):\n",
    "        self.despierta\n",
    "        print(\"buen dia\")\n",
    "\n",
    "persona1 = Persona()\n",
    "persona1.apellido = \"garcia\"\n",
    "print(persona1.apellido)\n",
    "\n",
    "persona1.despertar()"
   ]
  },
  {
   "cell_type": "code",
   "execution_count": 19,
   "id": "4c1a8aa5",
   "metadata": {},
   "outputs": [
    {
     "name": "stdout",
     "output_type": "stream",
     "text": [
      "algebra\n",
      "5\n",
      "teleco\n",
      "presencial\n"
     ]
    }
   ],
   "source": [
    "class Curso():\n",
    "    def __init__(self, nom, cre, pro): #con esto le doy valor a los atributos de forma dinamica\n",
    "        self.nombre = nom\n",
    "        self.creditos = cre\n",
    "        self.profesion = pro\n",
    "        self.__imparticion = \"presencial\" #asi se encapsula una propiedad dentro de una clase\n",
    "        \n",
    "    def mostrarDatos(self):\n",
    "        print(self.nombre)\n",
    "        print(self.creditos)\n",
    "        print(self.profesion)\n",
    "        print(self.__imparticion) #asi se tiene acceso a esa propiedad encapsulada\n",
    "\n",
    "curso1 = Curso(\"algebra\", 5,\"teleco\")\n",
    "# print(curso1.nombre)\n",
    "curso1.mostrarDatos()\n",
    "        \n",
    "        "
   ]
  },
  {
   "cell_type": "code",
   "execution_count": 24,
   "id": "9c8cf08e",
   "metadata": {},
   "outputs": [
    {
     "name": "stdout",
     "output_type": "stream",
     "text": [
      "euros\n",
      "--info--\n",
      "melvin\n",
      "600\n",
      "euros\n"
     ]
    }
   ],
   "source": [
    "class Cuenta():\n",
    "    \n",
    "    def __init__(self, pro, sal, mon):\n",
    "        self.__propietario = pro\n",
    "        self.__saldo = sal\n",
    "        self.__moneda = mon\n",
    "        \n",
    "    #Getters\n",
    "    def get_Propietario(self):\n",
    "        return self.__propietario\n",
    "    def get_Saldo(self):\n",
    "        return self.__saldo\n",
    "    def get_Moneda(self):\n",
    "        return self.__moneda\n",
    "    \n",
    "    #Setters\n",
    "    def set_Moneda(self, monedaNueva):\n",
    "        self.__moneda = monedaNueva\n",
    "        \n",
    "    def info(self):\n",
    "        print(\"--info--\")\n",
    "        print(self.__propietario)\n",
    "        print(self.__saldo)\n",
    "        print(self.__moneda)\n",
    "\n",
    "cuenta1 = Cuenta(\"melvin\",600,\"euros\")\n",
    "print(cuenta1.get_Moneda())\n",
    "cuenta1.info()"
   ]
  },
  {
   "cell_type": "markdown",
   "id": "29f76649",
   "metadata": {},
   "source": [
    "<hr>\n",
    "<b><font color='red'>Ejercicio 02</font></b>  \n",
    "\n",
    "Crea una clase llamada Cuenta que tendrá los siguientes atributos: titular (que es una persona) y cantidad (puede tener decimales). El titular será obligatorio y la cantidad es opcional. Construye los siguientes métodos para la clase:  \n",
    "- Un constructor, donde los datos pueden estar vacíos.  \n",
    "- Los setters y getters para cada uno de los atributos. El atributo no se puede modificar directamente, sólo ingresando o retirando dinero.  \n",
    "- mostrar(): Muestra los datos de la cuenta.  \n",
    "- ingresar(cantidad): se ingresa una cantidad a la cuenta, si la cantidad introducida es negativa, no se hará nada.  \n",
    "- retirar(cantidad): se retira una cantidad a la cuenta. La cuenta puede estar en números rojos.\n"
   ]
  },
  {
   "cell_type": "code",
   "execution_count": null,
   "id": "c6bc9a58",
   "metadata": {},
   "outputs": [],
   "source": [
    "class Cuenta():\n",
    "    def __init__(self, ti, can=0.0):"
   ]
  }
 ],
 "metadata": {
  "kernelspec": {
   "display_name": "Python 3 (ipykernel)",
   "language": "python",
   "name": "python3"
  },
  "language_info": {
   "codemirror_mode": {
    "name": "ipython",
    "version": 3
   },
   "file_extension": ".py",
   "mimetype": "text/x-python",
   "name": "python",
   "nbconvert_exporter": "python",
   "pygments_lexer": "ipython3",
   "version": "3.10.0"
  }
 },
 "nbformat": 4,
 "nbformat_minor": 5
}
