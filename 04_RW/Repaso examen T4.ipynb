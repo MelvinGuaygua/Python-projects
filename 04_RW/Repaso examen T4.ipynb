{
 "cells": [
  {
   "cell_type": "code",
   "execution_count": 7,
   "id": "2d6351bd",
   "metadata": {},
   "outputs": [
    {
     "name": "stdout",
     "output_type": "stream",
     "text": [
      "1 2\n",
      "2 4\n",
      "3 6\n",
      "4 8\n"
     ]
    }
   ],
   "source": [
    "fichero = open(\"archivo.txt\", \"r\")\n",
    "\n",
    "contenido = fichero.read()\n",
    "print(contenido)\n",
    "fichero.close()"
   ]
  },
  {
   "cell_type": "code",
   "execution_count": 1,
   "id": "68d8efbb",
   "metadata": {},
   "outputs": [
    {
     "name": "stdout",
     "output_type": "stream",
     "text": [
      "1 2\n",
      "2 4\n",
      "3\n"
     ]
    }
   ],
   "source": [
    "f = open(\"archivo.txt\", \"r\")\n",
    "\n",
    "parte = f.read(9) #(9) imprime 9 caracteres, el salto de linea lo cuenta como un caracter!\n",
    "print(parte)\n",
    "f.close()"
   ]
  },
  {
   "cell_type": "code",
   "execution_count": 11,
   "id": "94af536a",
   "metadata": {},
   "outputs": [
    {
     "name": "stdout",
     "output_type": "stream",
     "text": [
      "1 2\n",
      "\n",
      "2 4\n",
      "\n",
      "3 6\n",
      "\n",
      "4 8\n"
     ]
    }
   ],
   "source": [
    "fichero = open(\"archivo.txt\", \"r\")\n",
    "\n",
    "while True:\n",
    "    linea = fichero.readline()\n",
    "    if not linea:\n",
    "        break\n",
    "    print(linea)"
   ]
  },
  {
   "cell_type": "code",
   "execution_count": null,
   "id": "03fe9dd5",
   "metadata": {},
   "outputs": [],
   "source": [
    "archivo = \"archivo.txt\"\n",
    "text = open(archivo).readlines()\n",
    "nmaxlines = len(text)\n",
    "print(\"numero de lineas que tiene el texto: \")\n",
    "print(nmaxlines)\n",
    "for line in text:\n",
    "    print(line.split())\n",
    "    \n",
    "print(\"len de cada linea: \")\n",
    "for line in text:\n",
    "    print(len(line.split()))"
   ]
  },
  {
   "cell_type": "code",
   "execution_count": 31,
   "id": "725e1d21",
   "metadata": {},
   "outputs": [
    {
     "name": "stdout",
     "output_type": "stream",
     "text": [
      "['1 2\\n', '2 4\\n', '3 6\\n', '4 8']\n",
      "numero de lineas: 4\n",
      "['1', '2']\n",
      "['2', '4']\n",
      "['3', '6']\n",
      "['4', '8']\n",
      "len de cada linea: \n",
      "2\n",
      "2\n",
      "2\n",
      "2\n"
     ]
    }
   ],
   "source": [
    "archivo = \"archivo.txt\"\n",
    "fichero = open(archivo).readlines() #readlines() mete cada linea en un mismo array\n",
    "print(fichero)\n",
    "\n",
    "numeroLineas = len(fichero)\n",
    "print(\"numero de lineas:\", numeroLineas)\n",
    "\n",
    "for line in fichero:\n",
    "    print(line.split())\n",
    "    \n",
    "print(\"len de cada linea: \")\n",
    "for line in fichero:\n",
    "    print(len(line.split()))"
   ]
  },
  {
   "cell_type": "markdown",
   "id": "fd062ac8",
   "metadata": {},
   "source": [
    "<hr>\n",
    "<b><font color='red'>Ejercicio 01</font></b>  \n",
    "\n",
    "Lee el archivo.txt "
   ]
  },
  {
   "cell_type": "code",
   "execution_count": 93,
   "id": "028bead3",
   "metadata": {},
   "outputs": [
    {
     "name": "stdout",
     "output_type": "stream",
     "text": [
      "   1.0   2.00\n",
      "   2.0   4.00\n",
      "   3.0   6.00\n",
      "   4.0   8.00\n"
     ]
    }
   ],
   "source": [
    "f = open(\"archivo.txt\", \"r\")\n",
    "\n",
    "contenido = f.read()\n",
    "# print(contenido)\n",
    "\n",
    "contador=1 #el contador tiene que ir fuera del bucle for, si va dentro no se suman los numeros\n",
    "for i in contenido:\n",
    "    if i.isdigit():\n",
    "        num = int(i)\n",
    "        if contador%2!=0:\n",
    "            print(\"  \",\"%.1f\" % num, end=\"   \") #este es el que manda, cuando es impar\n",
    "            contador+=1\n",
    "        elif contador%2==0:\n",
    "            print(\"%.2f\" % num)\n",
    "            contador+=1\n",
    "\n",
    "f.close()"
   ]
  },
  {
   "cell_type": "markdown",
   "id": "b57e045b",
   "metadata": {},
   "source": [
    "y haz que tenga la siguiente salida:\n",
    "\n",
    "    1.0   2.00  \n",
    "    2.0   4.00  \n",
    "    3.0   6.00  \n",
    "    4.0   8.00  \n"
   ]
  },
  {
   "cell_type": "code",
   "execution_count": 34,
   "id": "a1e43374",
   "metadata": {},
   "outputs": [
    {
     "name": "stdout",
     "output_type": "stream",
     "text": [
      "3.1416\n",
      "3.141593\n",
      "3.1416 3.141593\n"
     ]
    }
   ],
   "source": [
    "from math import pi\n",
    "print(\"%.4f\" % pi)\n",
    "print(\"%.6f\" % pi)\n",
    "print(\"%.4f\" % pi,\"%.6f\" % pi)"
   ]
  },
  {
   "cell_type": "markdown",
   "id": "e6b0c37c",
   "metadata": {},
   "source": [
    "<hr>\n",
    "<b><font color='red'>Ejercicio 02</font></b>  "
   ]
  },
  {
   "cell_type": "markdown",
   "id": "3674a8fc",
   "metadata": {},
   "source": [
    "Haz lo mismo con el archvo archivo_error.txt, con cuidado de que a este archivo le falta algún dato, haz que en ese caso cuando lo lea, si no hay dos columnas no lo escriba."
   ]
  },
  {
   "cell_type": "code",
   "execution_count": 32,
   "id": "2af092c2",
   "metadata": {},
   "outputs": [
    {
     "name": "stdout",
     "output_type": "stream",
     "text": [
      "  1.0   2.00\n",
      "  3.0   6.00\n",
      "  4.0   8.00\n"
     ]
    }
   ],
   "source": [
    "fichero = open(\"archivo_error.txt\", \"r\")\n",
    "\n",
    "contenido = fichero.readlines() #READLINES METE CADA LINEA EN UNA CELDA DE LISTA\n",
    "# print(contenido)\n",
    "\n",
    "for line in contenido:\n",
    "     #print(line.split()) #SPLIT METE EN UNA LISTA BIDIMENSIONAL A CADA LINEA\n",
    "     #print(len(line.split())) \n",
    "    if len(line.split()) == 2:\n",
    "        a = line.split()[0]\n",
    "        b = line.split()[1]\n",
    "        a = int(a)\n",
    "        b = int(b)\n",
    "        print(\"  %.1f\" % a, \"  %.2f\" % b)\n",
    "    "
   ]
  },
  {
   "cell_type": "markdown",
   "id": "c83e335c",
   "metadata": {},
   "source": [
    "<hr>\n",
    "<b><font color='red'>Ejercicio 03</font></b>  "
   ]
  },
  {
   "cell_type": "markdown",
   "id": "2ba36fe9",
   "metadata": {},
   "source": [
    "Lee el archivo.txt, haz que imprima las columnas en las filas y las filas en las columnas"
   ]
  },
  {
   "cell_type": "code",
   "execution_count": 43,
   "id": "4d998fad",
   "metadata": {},
   "outputs": [
    {
     "name": "stdout",
     "output_type": "stream",
     "text": [
      "1 2 3 4 \n",
      "2 4 6 8 "
     ]
    }
   ],
   "source": [
    "fichero = open(\"archivo.txt\", \"r\")\n",
    "contenido = fichero.readlines() #READLINES METE CADA LINEA EN UNA CELDA DE LISTA\n",
    "\n",
    "# print(contenido)\n",
    "\n",
    "for line in contenido:\n",
    "    print(line.split()[0], end=\" \") #SPLIT METE EN UNA LISTA BIDIMENSIONAL A CADA LINEA\n",
    "    \n",
    "print()\n",
    "\n",
    "for lines in contenido:\n",
    "    print(lines.split()[1], end= \" \")"
   ]
  },
  {
   "cell_type": "markdown",
   "id": "46df5df1",
   "metadata": {},
   "source": [
    "<hr>\n",
    "<b><font color='red'>Ejercicio 04</font></b>  "
   ]
  },
  {
   "cell_type": "markdown",
   "id": "50bbf493",
   "metadata": {},
   "source": [
    "1. Escribe en un archivo la siguiente matriz:\n",
    "$\n",
    "\\begin{equation}\n",
    "\\begin{pmatrix}\n",
    "3 & 1 & 3\\\\\n",
    "-1 & 1 & 0\\\\\n",
    "-2 & 4 & 1\n",
    "\\end{pmatrix}\n",
    "\\end{equation} \n",
    "$\n",
    "2. Lee el archivo\n",
    "3. Calcula con los datos leidos el determinante de la matriz y lo saque por pantalla"
   ]
  },
  {
   "cell_type": "code",
   "execution_count": 52,
   "id": "02cc744b",
   "metadata": {},
   "outputs": [
    {
     "data": {
      "text/plain": [
       "6"
      ]
     },
     "execution_count": 52,
     "metadata": {},
     "output_type": "execute_result"
    }
   ],
   "source": [
    "fichero = open(\"matriz2.txt\", \"w\")\n",
    "\n",
    "fichero.write(\"3 1 3\\n\")\n",
    "fichero.write(\"-1 1 0\\n\")\n",
    "fichero.write(\"-2 4 1\")"
   ]
  },
  {
   "cell_type": "code",
   "execution_count": 71,
   "id": "be34078a",
   "metadata": {},
   "outputs": [
    {
     "name": "stdout",
     "output_type": "stream",
     "text": [
      "['3', '1', '3']\n",
      "['-1', '1', '0']\n",
      "['-2', '4', '1']\n",
      "3\n",
      "1\n",
      "1\n"
     ]
    }
   ],
   "source": [
    "fichero = open(\"matriz2.txt\",\"r\")\n",
    "contenido = fichero.readlines()\n",
    "\n",
    "lista=[]\n",
    "for line in contenido:\n",
    "    lista.append(line.split())\n",
    "    print(line.split())\n",
    "\n",
    "\n",
    "print(lista[0][0])\n",
    "print(lista[1][1])\n",
    "print(lista[2][2])\n",
    "\n",
    "\n",
    "# print(lista)\n"
   ]
  }
 ],
 "metadata": {
  "kernelspec": {
   "display_name": "Python 3 (ipykernel)",
   "language": "python",
   "name": "python3"
  },
  "language_info": {
   "codemirror_mode": {
    "name": "ipython",
    "version": 3
   },
   "file_extension": ".py",
   "mimetype": "text/x-python",
   "name": "python",
   "nbconvert_exporter": "python",
   "pygments_lexer": "ipython3",
   "version": "3.9.7"
  }
 },
 "nbformat": 4,
 "nbformat_minor": 5
}
