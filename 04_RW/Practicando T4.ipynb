{
 "cells": [
  {
   "cell_type": "code",
   "execution_count": 12,
   "id": "f46a2ece",
   "metadata": {},
   "outputs": [
    {
     "name": "stdout",
     "output_type": "stream",
     "text": [
      "1 2\n",
      "2 4\n",
      "3 6\n",
      "4 8\n"
     ]
    }
   ],
   "source": [
    "f = open(\"archivo.txt\",\"r\")\n",
    "\n",
    "contenido = f.read() \n",
    "print(contenido)\n",
    "f.close()"
   ]
  },
  {
   "cell_type": "code",
   "execution_count": 13,
   "id": "0e79b733",
   "metadata": {},
   "outputs": [
    {
     "name": "stdout",
     "output_type": "stream",
     "text": [
      "1 2\n",
      "2 4\n",
      "3\n"
     ]
    }
   ],
   "source": [
    "f = open(\"archivo.txt\",\"r\")\n",
    "\n",
    "contenido = f.read(9) #imprime 9 caracteres, los saltos de linea los cuenta como caracter \n",
    "print(contenido)\n",
    "f.close()"
   ]
  },
  {
   "cell_type": "code",
   "execution_count": 3,
   "id": "fe691017",
   "metadata": {},
   "outputs": [
    {
     "name": "stdout",
     "output_type": "stream",
     "text": [
      "1 2\n",
      "\n",
      "2 4\n",
      "\n"
     ]
    }
   ],
   "source": [
    "f = open(\"archivo.txt\",\"r\")\n",
    "print(f.readline()) #imprime solo una linea cada vez que lo invocas\n",
    "print(f.readline())\n",
    "\n",
    "f.close()\n",
    "\n",
    "# for i in range(0,4):\n",
    "#     print(f.readline())"
   ]
  },
  {
   "cell_type": "code",
   "execution_count": 1,
   "id": "18e2da76",
   "metadata": {},
   "outputs": [
    {
     "name": "stdout",
     "output_type": "stream",
     "text": [
      "tipo  <class 'list'>\n",
      "numero de lineas 4\n",
      "--1--\n",
      "['1 2\\n', '2 4\\n', '3 6\\n', '4 8']\n",
      "--2--\n",
      "['1', '2']\n",
      "['2', '4']\n",
      "['3', '6']\n",
      "['4', '8']\n",
      "--3--\n",
      "1 2\n",
      "\n",
      "2 4\n",
      "\n",
      "3 6\n",
      "\n",
      "4 8\n",
      "--4--\n",
      "1 2\n",
      "2 4\n",
      "3 6\n",
      "4 8"
     ]
    }
   ],
   "source": [
    "# archivo = \"archivo.txt\"\n",
    "# text = open(archivo).readlines()\n",
    "\n",
    "f = open(\"archivo.txt\")\n",
    "text = f.readlines() #el metodo .readlines() mete el texto en un array, y cada linea en un indice\n",
    "\n",
    "print(\"tipo \",type(text)) #me doy cuenta de que .readlines() lo castea a list\n",
    "\n",
    "numLineas = len(text) #con esto puedo contar cuantas lineas tiene, xq cuenta la longitud del array\n",
    "print(\"numero de lineas\", numLineas)\n",
    "\n",
    "print(\"--1--\")\n",
    "print(text)\n",
    "\n",
    "print(\"--2--\")\n",
    "for line in text:\n",
    "    print(line.split()) #me doy cuenta de que split() divide cada indice de la lista y lo convierte en una lista nueva\n",
    "                     #por defecto usa como separador el espacio, pero le puedo pasar como argumento el separador q quiera\n",
    "                     #tambien me doy cuenta de que en vez de \"line\" puedo poner simplemente una \"i\"\n",
    "\n",
    "print(\"--3--\")\n",
    "for line in text:\n",
    "    print(line)\n",
    "    \n",
    "print(\"--4--\")\n",
    "for line in text:\n",
    "    print(line,end=\"\")\n",
    "    \n",
    "f.close()"
   ]
  },
  {
   "cell_type": "code",
   "execution_count": 4,
   "id": "969a430d",
   "metadata": {},
   "outputs": [
    {
     "name": "stdout",
     "output_type": "stream",
     "text": [
      "3.1416\n",
      "3.14159\n",
      "3.141593\n"
     ]
    }
   ],
   "source": [
    "from math import pi\n",
    "\n",
    "print(\"%0.4f\" % pi)\n",
    "print(\"%0.5f\" % pi)\n",
    "print(\"%0.6f\" % pi)"
   ]
  },
  {
   "cell_type": "code",
   "execution_count": 11,
   "id": "f284d891",
   "metadata": {},
   "outputs": [
    {
     "name": "stdout",
     "output_type": "stream",
     "text": [
      "hola\n",
      "3.1416\n"
     ]
    }
   ],
   "source": [
    "#ESTE SIRVE PARA ACOTAR STRING, %s (of string)\n",
    "print (\"%.4s\" % \"hola mundo\") \n",
    "\n",
    "#ESTE SIRVE PARA ACOTAR NUMEROS, %f (of float)\n",
    "from math import pi\n",
    "print(\"%.4f\" % pi)"
   ]
  },
  {
   "cell_type": "markdown",
   "id": "fd062ac8",
   "metadata": {},
   "source": [
    "<hr>\n",
    "<b><font color='red'>Ejercicio 01</font></b>  \n",
    "\n",
    "Lee el archivo.txt "
   ]
  },
  {
   "cell_type": "code",
   "execution_count": 15,
   "id": "028bead3",
   "metadata": {},
   "outputs": [
    {
     "name": "stdout",
     "output_type": "stream",
     "text": [
      "1 2\n",
      "2 4\n",
      "3 6\n",
      "4 8\n"
     ]
    }
   ],
   "source": [
    "f = open(\"archivo.txt\", \"r\")\n",
    "\n",
    "contenido = f.read()\n",
    "\n",
    "print(contenido)\n",
    "\n",
    "f.close()\n"
   ]
  },
  {
   "cell_type": "markdown",
   "id": "b57e045b",
   "metadata": {},
   "source": [
    "y haz que tenga la siguiente salida:\n",
    "\n",
    "    1.0   2.00  \n",
    "    2.0   4.00  \n",
    "    3.0   6.00  \n",
    "    4.0   8.00  \n"
   ]
  },
  {
   "cell_type": "code",
   "execution_count": 31,
   "id": "751beebb",
   "metadata": {},
   "outputs": [
    {
     "name": "stdout",
     "output_type": "stream",
     "text": [
      "   1 2\n",
      "   2 4\n",
      "   3 6\n",
      "   4 8"
     ]
    }
   ],
   "source": [
    "f = open(\"archivo.txt\", \"r\")\n",
    "\n",
    "contenido = f.readlines()\n",
    "\n",
    "for i in contenido:\n",
    "#     num = (\"%0.2f\"%i)\n",
    "    print(\"  \",i,end=\"\")\n",
    "# print(contenido)\n",
    "\n",
    "f.close()"
   ]
  },
  {
   "cell_type": "code",
   "execution_count": 53,
   "id": "3b7f0244",
   "metadata": {},
   "outputs": [
    {
     "name": "stdout",
     "output_type": "stream",
     "text": [
      "['1', '2', '2', '4', '3', '6', '4', '8']\n",
      "\n",
      "   1.00     2.00  \n",
      "   2.00     4.00  \n",
      "   3.00     6.00  \n",
      "   4.00     8.00  "
     ]
    }
   ],
   "source": [
    "f = open(\"archivo.txt\", \"r\")\n",
    "\n",
    "contenido = f.read()\n",
    "\n",
    "lista=[]\n",
    "for i in contenido: #hago una lectura de todo el fichero, si es un digit lo guardo en un array\n",
    "    if i.isdigit():\n",
    "        lista.append(i)\n",
    "print(lista)\n",
    "\n",
    "contador=1\n",
    "for i in lista: #aqui lo que hago es tratar a la lista como me de la gana\n",
    "    if contador%2:\n",
    "        print(\"\")\n",
    "    i = int(i)\n",
    "    print(\"  \",\"%0.2f\"%i, end=\"  \")\n",
    "    contador+=1\n",
    "\n",
    "f.close()"
   ]
  },
  {
   "cell_type": "markdown",
   "id": "fe595fa4",
   "metadata": {},
   "source": [
    "<hr>\n",
    "<b><font color='red'>Ejercicio 02</font></b>  "
   ]
  },
  {
   "cell_type": "markdown",
   "id": "d70f9268",
   "metadata": {},
   "source": [
    "Haz lo mismo con el archvo archivo_error.txt,con ciddado de que a este archivo le falta algún dato, haz que en ese caso cuando lo lea, si no hay dos columnas no lo escriba."
   ]
  },
  {
   "cell_type": "code",
   "execution_count": 96,
   "id": "6b25d398",
   "metadata": {},
   "outputs": [
    {
     "name": "stdout",
     "output_type": "stream",
     "text": [
      "\n",
      "  1.00   2.00 \n",
      "  3.00   6.00 \n",
      "  4.00   8.00 "
     ]
    }
   ],
   "source": [
    "f = open(\"archivo_error.txt\",\"r\")\n",
    "contenido = f.readlines()\n",
    "\n",
    "lista=[]\n",
    "for line in contenido:\n",
    "    if len(line.split()) == 2:\n",
    "#         print(line.split())\n",
    "        lista.append(line.split()[0])\n",
    "        lista.append(line.split()[1])\n",
    "        \n",
    "# print(lista)\n",
    "conatdor=1\n",
    "for i in lista:\n",
    "    if contador%2:\n",
    "        print(\"\")\n",
    "    i = int(i)\n",
    "    print(\" \",\"%0.2f\"%i,end=\" \")\n",
    "    contador+=1"
   ]
  },
  {
   "cell_type": "markdown",
   "id": "95f475e9",
   "metadata": {},
   "source": [
    "<hr>\n",
    "<b><font color='red'>Ejercicio 03</font></b>  "
   ]
  },
  {
   "cell_type": "markdown",
   "id": "c66381c8",
   "metadata": {},
   "source": [
    "Lee el archivo.txt, haz que imprima las columnas en las filas y las filas en las columnas"
   ]
  },
  {
   "cell_type": "code",
   "execution_count": 120,
   "id": "3795a2dd",
   "metadata": {},
   "outputs": [
    {
     "name": "stdout",
     "output_type": "stream",
     "text": [
      "1 2\n",
      "\n",
      "2 4\n",
      "\n",
      "3 6\n",
      "\n",
      "4 8\n",
      "['1 2\\n', '2 4\\n', '3 6\\n', '4 8']\n",
      "['1', '2']\n",
      "['2', '4']\n",
      "['3', '6']\n",
      "['4', '8']\n",
      "['1 2\\n', '2 4\\n', '3 6\\n', '4 8']\n",
      "1 2 3 4 \n",
      "2 4 6 8 "
     ]
    }
   ],
   "source": [
    "f = open(\"archivo.txt\")\n",
    "contenido = f.readlines()\n",
    "    \n",
    "print(contenido)\n",
    "for i in contenido:\n",
    "    print(i.split()[0],end=\" \")\n",
    "print(\"\")\n",
    "for i in contenido:\n",
    "    print(i.split()[1],end=\" \")\n",
    "\n",
    "f.close()"
   ]
  },
  {
   "cell_type": "markdown",
   "id": "654695e0",
   "metadata": {},
   "source": [
    "<hr>\n",
    "<b><font color='red'>Ejercicio 04</font></b>  "
   ]
  },
  {
   "cell_type": "markdown",
   "id": "1a6b5497",
   "metadata": {},
   "source": [
    "1. Escribe en un archivo la siguiente matriz:\n",
    "$\n",
    "\\begin{equation}\n",
    "\\begin{pmatrix}\n",
    "3 & 1 & 3\\\\\n",
    "-1 & 1 & 0\\\\\n",
    "-2 & 4 & 1\n",
    "\\end{pmatrix}\n",
    "\\end{equation} \n",
    "$\n",
    "2. Lee el archivo\n",
    "3. Calcula con los datos leidos el determinante de la matriz y lo saque por pantalla"
   ]
  },
  {
   "cell_type": "code",
   "execution_count": 139,
   "id": "b0d17c2e",
   "metadata": {},
   "outputs": [
    {
     "name": "stdout",
     "output_type": "stream",
     "text": [
      "['3 1 3\\n', '-1 1 0\\n', '-2 4 1']\n",
      "['3', '1', '3']\n",
      "['-1', '1', '0']\n",
      "['-2', '4', '1']\n"
     ]
    }
   ],
   "source": [
    "f = open(\"matriz.txt\")\n",
    "contenido = f.readlines()\n",
    "\n",
    "print(contenido)\n",
    "\n",
    "x=[]\n",
    "for line in contenido:\n",
    "#     lista.append(line)\n",
    "    print(line.split())\n",
    "\n",
    "# print(lista)\n",
    "f.close()"
   ]
  },
  {
   "cell_type": "markdown",
   "id": "8edfb622",
   "metadata": {},
   "source": [
    "<hr>\n",
    "<b><font color='red'>Ejercicio 05</font></b>  "
   ]
  },
  {
   "cell_type": "markdown",
   "id": "32ef1fa2",
   "metadata": {},
   "source": [
    "En el criptoanálisis, la técnica de análisis de frecuencias consiste en el aprovechamiento de estudios sobre la frecuencia de las letras o grupos de letras en los idiomas para poder establecer hipótesis para aprovecharlas para poder descifrar un texto cifrado sin tener la clave de descifrado (romper). Es un método típico para romper cifrados clásicos. \n",
    "Haz una anailisis de frecuencias para los 10 primeros càpitulos de el libro \"el_quijote.txt\""
   ]
  },
  {
   "cell_type": "code",
   "execution_count": 200,
   "id": "a3a70e8e",
   "metadata": {},
   "outputs": [
    {
     "name": "stdout",
     "output_type": "stream",
     "text": [
      "contador de solamente las letras: \n",
      "94079\n",
      "veces que se repite cada letra:\n",
      "[11975, 1609, 3434, 5001, 13021, 449, 1001, 1110, 4950, 619, 1, 5627, 2480, 6222, 0, 9313, 1990, 1825, 5765, 6882, 3446, 4554, 1015, 0, 15, 1370, 405]\n",
      "A   0.127\n",
      "B   0.017\n",
      "C   0.037\n",
      "D   0.053\n",
      "E   0.138\n",
      "F   0.005\n",
      "G   0.011\n",
      "H   0.012\n",
      "I   0.053\n",
      "J   0.007\n",
      "K   0.000\n",
      "L   0.060\n",
      "M   0.026\n",
      "N   0.066\n",
      "Ñ   0.000\n",
      "O   0.099\n",
      "P   0.021\n",
      "Q   0.019\n",
      "R   0.061\n",
      "S   0.073\n",
      "T   0.037\n",
      "U   0.048\n",
      "V   0.011\n",
      "W   0.000\n",
      "X   0.000\n",
      "Y   0.015\n",
      "Z   0.004\n"
     ]
    }
   ],
   "source": [
    "abc=\"ABCDEFGHIJKLMNÑOPQRSTUVWXYZ\"\n",
    "\n",
    "fichero = open(\"el_quijote.txt\",encoding=\"utf8\")\n",
    "contenido = fichero.read()\n",
    "\n",
    "s = []\n",
    "cont = 0\n",
    "for i in contenido:\n",
    "    s.append(i.upper().replace(\"Á\",\"A\").replace(\"É\",\"E\").replace(\"Í\",\"I\").replace(\"Ó\",\"O\").replace(\"Ú\",\"U\"))\n",
    "    if i.isalpha(): #esto era lo que me faltaba comprobar, comprobar que sea una letra\n",
    "        cont+=1\n",
    "    \n",
    "print(\"contador de solamente las letras: \")\n",
    "print(cont)\n",
    "\n",
    "#en este array guardo los numeros decima\n",
    "f=[]\n",
    "for i in abc:\n",
    "    f.append(0)\n",
    "    \n",
    "for i in s:\n",
    "    for j in range(27):\n",
    "        if i==abc[j]:\n",
    "            f[j]+=1\n",
    "\n",
    "print(\"veces que se repite cada letra:\")\n",
    "print(f)\n",
    "\n",
    "f2=[]\n",
    "for i in f:\n",
    "    f2.append(i/cont)\n",
    "#     print(i/cont)\n",
    "\n",
    "for i in abc:\n",
    "    print(\"%.2c  \" % i,\"%.3f\" % f2[(abc.index(i))])\n",
    "\n",
    "fichero.close()"
   ]
  },
  {
   "cell_type": "markdown",
   "id": "9ecb5a5b",
   "metadata": {},
   "source": [
    "Salida:\n",
    "\n",
    "    A   0.127\n",
    "    B   0.017\n",
    "    C   0.037\n",
    "    D   0.053\n",
    "    E   0.138\n",
    "    F   0.005\n",
    "    .\n",
    "    .\n",
    "    ."
   ]
  },
  {
   "cell_type": "markdown",
   "id": "f77c00f1",
   "metadata": {},
   "source": [
    "<hr>\n",
    "<b><font color='red'>Ejercicio 06</font></b>  "
   ]
  },
  {
   "cell_type": "markdown",
   "id": "a35c4463",
   "metadata": {},
   "source": [
    "haz un analisis de frecuencias en el libro encriptado \"RH RQCEPESEFM AR MPM.txt\", y comparala con el analisis anterior\n"
   ]
  },
  {
   "cell_type": "code",
   "execution_count": 204,
   "id": "0bd80656",
   "metadata": {},
   "outputs": [
    {
     "name": "stdout",
     "output_type": "stream",
     "text": [
      "contador de solamente las letras: \n",
      "58820\n",
      "veces que se repite cada letra:\n",
      "[2909, 375, 2354, 3576, 7410, 410, 8, 3066, 1907, 701, 4020, 86, 5494, 1593, 666, 571, 3882, 4080, 7983, 1017, 2615, 2655, 529, 19, 120, 546, 222]\n",
      "el_quijote.txt   RH RQCEPESEFM AR MPM.txt\n",
      "A   0.127        A   0.049\n",
      "B   0.017        B   0.006\n",
      "C   0.037        C   0.040\n",
      "D   0.053        D   0.061\n",
      "E   0.138        E   0.126\n",
      "F   0.005        F   0.007\n",
      "G   0.011        G   0.000\n",
      "H   0.012        H   0.052\n",
      "I   0.053        I   0.032\n",
      "J   0.007        J   0.012\n",
      "K   0.000        K   0.068\n",
      "L   0.060        L   0.001\n",
      "M   0.026        M   0.093\n",
      "N   0.066        N   0.027\n",
      "Ñ   0.000        Ñ   0.011\n",
      "O   0.099        O   0.010\n",
      "P   0.021        P   0.066\n",
      "Q   0.019        Q   0.069\n",
      "R   0.061        R   0.136\n",
      "S   0.073        S   0.017\n",
      "T   0.037        T   0.044\n",
      "U   0.048        U   0.045\n",
      "V   0.011        V   0.009\n",
      "W   0.000        W   0.000\n",
      "X   0.000        X   0.002\n",
      "Y   0.015        Y   0.009\n",
      "Z   0.004        Z   0.004\n"
     ]
    }
   ],
   "source": [
    "abc=\"ABCDEFGHIJKLMNÑOPQRSTUVWXYZ\"\n",
    "\n",
    "fichero = open(\"RH RQCEPESEFM AR MPM.txt\",encoding=\"utf8\")\n",
    "contenido = fichero.read()\n",
    "\n",
    "s = []\n",
    "cont = 0\n",
    "for i in contenido:\n",
    "    s.append(i.upper().replace(\"Á\",\"A\").replace(\"É\",\"E\").replace(\"Í\",\"I\").replace(\"Ó\",\"O\").replace(\"Ú\",\"U\"))\n",
    "    if i.isalpha(): #esto era lo que me faltaba comprobar, comprobar que sea una letra\n",
    "        cont+=1\n",
    "    \n",
    "print(\"contador de solamente las letras: \")\n",
    "print(cont)\n",
    "\n",
    "#en este array guardo los numeros decima\n",
    "f=[]\n",
    "for i in abc:\n",
    "    f.append(0)\n",
    "    \n",
    "for i in s:\n",
    "    for j in range(27):\n",
    "        if i==abc[j]:\n",
    "            f[j]+=1\n",
    "\n",
    "print(\"veces que se repite cada letra:\")\n",
    "print(f)\n",
    "\n",
    "f3=[]\n",
    "for i in f:\n",
    "    f3.append(i/cont)\n",
    "#     print(i/cont)\n",
    "\n",
    "# for i in abc:\n",
    "#     print(\"%.2c  \" % i,\"%.3f\" % f3[(abc.index(i))])\n",
    "    \n",
    "print(\"el_quijote.txt\",\"  RH RQCEPESEFM AR MPM.txt\")    \n",
    "for i in abc:\n",
    "    print(\"%.2c  \" % i,\"%.3f\" % f2[(abc.index(i))],\"       %.2c  \" % i,\"%.3f\" % f3[(abc.index(i))])\n",
    "\n",
    "fichero.close()"
   ]
  },
  {
   "cell_type": "markdown",
   "id": "56d63265",
   "metadata": {},
   "source": [
    "salida:\n",
    "\n",
    "    el_quijote.txt   RH RQCEPESEFM AR MPM.txt\n",
    "    A   0.127        A   0.049\n",
    "    B   0.017        B   0.006\n",
    "    C   0.037        C   0.040\n",
    "    .                .\n",
    "    .                .\n",
    "    .                ."
   ]
  }
 ],
 "metadata": {
  "kernelspec": {
   "display_name": "Python 3 (ipykernel)",
   "language": "python",
   "name": "python3"
  },
  "language_info": {
   "codemirror_mode": {
    "name": "ipython",
    "version": 3
   },
   "file_extension": ".py",
   "mimetype": "text/x-python",
   "name": "python",
   "nbconvert_exporter": "python",
   "pygments_lexer": "ipython3",
   "version": "3.10.0"
  }
 },
 "nbformat": 4,
 "nbformat_minor": 5
}
