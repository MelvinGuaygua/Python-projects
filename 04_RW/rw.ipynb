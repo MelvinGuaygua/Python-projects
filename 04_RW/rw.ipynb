{
 "cells": [
  {
   "cell_type": "markdown",
   "id": "0f9b9183",
   "metadata": {},
   "source": [
    "__Cuaderno de trabajo de:__ Melvin Guaygua Huallpa"
   ]
  },
  {
   "cell_type": "markdown",
   "id": "1742ac3f",
   "metadata": {},
   "source": [
    "## Lectura y escritura de archivos\n",
    "\n",
    "    f = open(\"archivo.txt\", \"w\")\n",
    "    f.write('Hola mundo\\n')\n",
    "tenemos los siguientes modos:\n",
    "- ‘r’ : Abre el archivo en modo lectura.\n",
    "-‘w’ : write, borra el fichero si ya existiese y crea uno nuevo con el nombre indicado.\n",
    "-‘a’ : append, añadirá el contenido al final del fichero, si el fichero no existe lo crea\n",
    "-‘b’ : binary, binario.\n",
    "-‘+’ : permite lectura y escritura simultáneas.\n",
    "-‘U’ : universal newline, saltos de línea universales"
   ]
  },
  {
   "cell_type": "code",
   "execution_count": 6,
   "id": "13b13a4d",
   "metadata": {},
   "outputs": [
    {
     "name": "stdout",
     "output_type": "stream",
     "text": [
      "<_io.TextIOWrapper name='archivo.txt' mode='r' encoding='cp1252'>\n"
     ]
    }
   ],
   "source": [
    "f = open(\"archivo.txt\", \"r\") \n",
    "print(f)"
   ]
  },
  {
   "cell_type": "code",
   "execution_count": 7,
   "id": "7deb95e9",
   "metadata": {},
   "outputs": [
    {
     "name": "stdout",
     "output_type": "stream",
     "text": [
      "1 2 \n",
      "2 4\n",
      "3 6    \n",
      "4 8\n"
     ]
    }
   ],
   "source": [
    "f = open(\"archivo.txt\", \"r\")  #crear un objeto para el fichero\n",
    "completo = f.read()  #despues guardar su contenido dentro de una variable con read()\n",
    "print(completo)  #imprimo la variable\n",
    "f.close()  "
   ]
  },
  {
   "cell_type": "code",
   "execution_count": 1,
   "id": "aec3d4d0",
   "metadata": {},
   "outputs": [
    {
     "name": "stdout",
     "output_type": "stream",
     "text": [
      "1 2\n",
      "2 4\n",
      "3\n"
     ]
    }
   ],
   "source": [
    "f = open(\"archivo.txt\", \"r\")\n",
    "parte = f.read(9) #(9) imprime 9 caracteres, el salto de linea lo cuenta como un caracter!\n",
    "print(parte)\n",
    "f.close()"
   ]
  },
  {
   "cell_type": "code",
   "execution_count": 23,
   "id": "722b2070",
   "metadata": {},
   "outputs": [
    {
     "name": "stdout",
     "output_type": "stream",
     "text": [
      "1 2\n",
      "\n",
      "2 4\n",
      "\n",
      "3 6\n",
      "\n",
      "4 8\n",
      "\n"
     ]
    }
   ],
   "source": [
    "f = open(\"archivo.txt\", \"r\")\n",
    "while True:\n",
    "    linea = f.readline() # readline() solo lee 1 linea cada vez que lo invocas\n",
    "    if not linea: \n",
    "        break\n",
    "    print(linea)"
   ]
  },
  {
   "cell_type": "code",
   "execution_count": 2,
   "id": "9a124e51",
   "metadata": {},
   "outputs": [
    {
     "name": "stdout",
     "output_type": "stream",
     "text": [
      "['1 2\\n', '2 4\\n', '3 6\\n', '4 8']\n",
      "numero de lineas que tiene el texto: \n",
      "4\n",
      "['1', '2']\n",
      "['2', '4']\n",
      "['3', '6']\n",
      "['4', '8']\n",
      "len de cada linea: \n",
      "2\n",
      "2\n",
      "2\n",
      "2\n"
     ]
    }
   ],
   "source": [
    "archivo = \"archivo.txt\"\n",
    "text = open(archivo).readlines()\n",
    "\n",
    "nmaxlines = len(text)\n",
    "print(\"numero de lineas que tiene el texto: \")\n",
    "print(nmaxlines)\n",
    "for line in text:\n",
    "    print(line.split())\n",
    "    \n",
    "print(\"len de cada linea: \")\n",
    "for line in text:\n",
    "    print(len(line.split()))\n",
    "    "
   ]
  },
  {
   "cell_type": "markdown",
   "id": "6c54e639",
   "metadata": {},
   "source": [
    "## Manejando excepciones"
   ]
  },
  {
   "cell_type": "code",
   "execution_count": 6,
   "id": "066535ef",
   "metadata": {},
   "outputs": [
    {
     "name": "stdout",
     "output_type": "stream",
     "text": [
      "archivo.txt tiene 4 lineas\n",
      "no pude abrir no_existe.txt\n"
     ]
    }
   ],
   "source": [
    "archivo=\"archivo.txt\"\n",
    "try:\n",
    "    f = open(archivo, 'r')\n",
    "except IOError:\n",
    "    print('no pude abrir', archivo)\n",
    "else:\n",
    "    print(archivo, 'tiene', len(f.readlines()), 'lineas')\n",
    "    f.close()\n",
    "\n",
    "archivo=\"no_existe.txt\"\n",
    "try:\n",
    "    f = open(archivo, 'r')\n",
    "except IOError:\n",
    "    print('no pude abrir', archivo)\n",
    "else:\n",
    "    print(archivo, 'tiene', len(f.readlines()), 'lineas')\n",
    "    f.close()"
   ]
  },
  {
   "cell_type": "markdown",
   "id": "655cf3ad",
   "metadata": {},
   "source": [
    "## Format\n",
    "La forma más sencilla de mostrar algo en la salida estándar es mediante el uso de la sentencia print, la cual permite también utilizar técnicas avanzadas de formateo, de forma similar al sprintf de C\n",
    "Los especificadores más sencillos están formados por el símbolo % seguido de una letra que indica el tipo con el que formatear el valor Por ejemplo:\n",
    "\n",
    "Especificador | Formato\n",
    ":--------: | :-------:\n",
    "%s |Cadena\n",
    "%d |Entero\n",
    "%o |Octal\n",
    "%x |Hexadecimal\n",
    "%f |Real\n"
   ]
  },
  {
   "cell_type": "code",
   "execution_count": 13,
   "id": "afc0948a",
   "metadata": {},
   "outputs": [
    {
     "name": "stdout",
     "output_type": "stream",
     "text": [
      " Hola mundo\n"
     ]
    }
   ],
   "source": [
    "print (\"%5s mundo\" % \"Hola\") #a partir de 5 comienza a dejar 1 espacio a la IZQUIERDA"
   ]
  },
  {
   "cell_type": "code",
   "execution_count": 7,
   "id": "d1b203e5",
   "metadata": {},
   "outputs": [
    {
     "name": "stdout",
     "output_type": "stream",
     "text": [
      "      Hola mundo\n"
     ]
    }
   ],
   "source": [
    "print (\"%10s mundo\" % \"Hola\")"
   ]
  },
  {
   "cell_type": "code",
   "execution_count": 8,
   "id": "ad212174",
   "metadata": {},
   "outputs": [
    {
     "name": "stdout",
     "output_type": "stream",
     "text": [
      "Hola       mundo\n"
     ]
    }
   ],
   "source": [
    "print (\"%-10s mundo\" % \"Hola\") #a partir de 5 comienza a dejar 1 espacio a la DERECHA"
   ]
  },
  {
   "cell_type": "code",
   "execution_count": 16,
   "id": "ad8c9594",
   "metadata": {},
   "outputs": [
    {
     "name": "stdout",
     "output_type": "stream",
     "text": [
      "3.1416\n",
      "3.141593\n",
      "3.1416 3.141593\n"
     ]
    }
   ],
   "source": [
    "from math import pi\n",
    "print(\"%.4f\" % pi)\n",
    "print(\"%.6f\" % pi)\n",
    "print(\"%.4f\" % pi,\"%.6f\" % pi)"
   ]
  },
  {
   "cell_type": "code",
   "execution_count": 39,
   "id": "557a93b5",
   "metadata": {},
   "outputs": [
    {
     "name": "stdout",
     "output_type": "stream",
     "text": [
      "hola\n"
     ]
    }
   ],
   "source": [
    "print (\"%.4s\" % \"hola mundo\") #el .4 despues del % es una forma de acotar, solo guarda las primera 4 letras"
   ]
  },
  {
   "cell_type": "code",
   "execution_count": 11,
   "id": "d7a8b51b",
   "metadata": {},
   "outputs": [
    {
     "name": "stdout",
     "output_type": "stream",
     "text": [
      "  123.456789    123.456789  \n",
      " 9876.543210   9876.543210  \n"
     ]
    }
   ],
   "source": [
    "n=123.456789\n",
    "cadena='{0:12.6f}  '.format(n)\n",
    "cadena=cadena+'{0:12.6f}  '.format(n)\n",
    "cadena=cadena+\"\\n\"\n",
    "n=9876.54321\n",
    "cadena=cadena+'{0:12.6f}  '.format(n)\n",
    "cadena=cadena+'{0:12.6f}  '.format(n)\n",
    "print(cadena)"
   ]
  },
  {
   "cell_type": "markdown",
   "id": "3504e92d",
   "metadata": {},
   "source": [
    "<hr>\n",
    "<b><font color='red'>Ejercicio 01</font></b>  \n",
    "\n",
    "Lee el archivo.txt "
   ]
  },
  {
   "cell_type": "code",
   "execution_count": 17,
   "id": "490ec3a6",
   "metadata": {},
   "outputs": [
    {
     "name": "stdout",
     "output_type": "stream",
     "text": [
      "   1.0   2.00\n",
      "   2.0   4.00\n",
      "   3.0   6.00\n",
      "   4.0   8.00\n"
     ]
    }
   ],
   "source": [
    "f = open(\"archivo.txt\", \"r\")\n",
    "\n",
    "contenido = f.read()\n",
    "# print(contenido)\n",
    "\n",
    "contador=1 #el contador tiene que ir fuera del bucle for, si va dentro no se suman los numeros\n",
    "for i in contenido:\n",
    "    if i.isdigit():\n",
    "        num = int(i)\n",
    "        if contador%2!=0:\n",
    "            print(\"  \",\"%.1f\" % num, end=\"   \") #este es el que manda, cuando es impar\n",
    "            contador+=1\n",
    "        elif contador%2==0:\n",
    "            print(\"%.2f\" % num)\n",
    "            contador+=1\n",
    "\n",
    "f.close()"
   ]
  },
  {
   "cell_type": "markdown",
   "id": "efb2518c",
   "metadata": {},
   "source": [
    "y haz que tenga la siguiente salida:\n",
    "\n",
    "    1.0   2.00  \n",
    "    2.0   4.00  \n",
    "    3.0   6.00  \n",
    "    4.0   8.00  \n"
   ]
  },
  {
   "cell_type": "markdown",
   "id": "e6b0c37c",
   "metadata": {},
   "source": [
    "<hr>\n",
    "<b><font color='red'>Ejercicio 02</font></b>  "
   ]
  },
  {
   "cell_type": "markdown",
   "id": "3674a8fc",
   "metadata": {},
   "source": [
    "Haz lo mismo con el archvo archivo_error.txt, con cuidado de que a este archivo le falta algún dato, haz que en ese caso cuando lo lea, si no hay dos columnas no lo escriba."
   ]
  },
  {
   "cell_type": "code",
   "execution_count": 4,
   "id": "b37c0956",
   "metadata": {},
   "outputs": [
    {
     "name": "stdout",
     "output_type": "stream",
     "text": [
      "  1.0   2.00\n",
      "  3.0   6.00\n",
      "  4.0   8.00\n"
     ]
    }
   ],
   "source": [
    "fichero = open(\"archivo_error.txt\", \"r\")\n",
    "\n",
    "contenido = fichero.readlines() #READLINES METE CADA LINEA EN UNA CELDA DE LISTA\n",
    "# print(contenido)\n",
    "\n",
    "for line in contenido:\n",
    "     #print(line.split()) #SPLIT METE EN UNA LISTA BIDIMENSIONAL A CADA LINEA\n",
    "     #print(len(line.split())) \n",
    "    if len(line.split()) == 2:\n",
    "        a = line.split()[0]\n",
    "        b = line.split()[1]\n",
    "        a = int(a)\n",
    "        b = int(b)\n",
    "        print(\"  %.1f\" % a, \"  %.2f\" % b)\n"
   ]
  },
  {
   "cell_type": "markdown",
   "id": "c83e335c",
   "metadata": {},
   "source": [
    "<hr>\n",
    "<b><font color='red'>Ejercicio 03</font></b>  "
   ]
  },
  {
   "cell_type": "markdown",
   "id": "2ba36fe9",
   "metadata": {},
   "source": [
    "Lee el archivo.txt, haz que imprima las columnas en las filas y las filas en las columnas"
   ]
  },
  {
   "cell_type": "code",
   "execution_count": 3,
   "id": "9d29f896",
   "metadata": {},
   "outputs": [
    {
     "name": "stdout",
     "output_type": "stream",
     "text": [
      "1 2 3 4 \n",
      "2 4 6 8 "
     ]
    }
   ],
   "source": [
    "fichero = open(\"archivo.txt\", \"r\")\n",
    "contenido = fichero.readlines() #READLINES METE CADA LINEA EN UNA CELDA DE LISTA\n",
    "\n",
    "# print(contenido)\n",
    "\n",
    "for line in contenido:\n",
    "    print(line.split()[0], end=\" \") #SPLIT METE EN UNA LISTA BIDIMENSIONAL A CADA LINEA\n",
    "    \n",
    "print()\n",
    "\n",
    "for lines in contenido:\n",
    "    print(lines.split()[1], end= \" \")"
   ]
  },
  {
   "cell_type": "markdown",
   "id": "46df5df1",
   "metadata": {},
   "source": [
    "<hr>\n",
    "<b><font color='red'>Ejercicio 04</font></b>  "
   ]
  },
  {
   "cell_type": "markdown",
   "id": "50bbf493",
   "metadata": {},
   "source": [
    "1. Escribe en un archivo la siguiente matriz:\n",
    "$\n",
    "\\begin{equation}\n",
    "\\begin{pmatrix}\n",
    "3 & 1 & 3\\\\\n",
    "-1 & 1 & 0\\\\\n",
    "-2 & 4 & 1\n",
    "\\end{pmatrix}\n",
    "\\end{equation} \n",
    "$\n",
    "2. Lee el archivo\n",
    "3. Calcula con los datos leidos el determinante de la matriz y lo saque por pantalla"
   ]
  },
  {
   "cell_type": "code",
   "execution_count": 6,
   "id": "25c03950",
   "metadata": {},
   "outputs": [
    {
     "name": "stdout",
     "output_type": "stream",
     "text": [
      "imprimiendo todas las lineas: \n",
      "['3', '1', '3']\n",
      "['-1', '1', '0']\n",
      "['-2', '4', '1']\n",
      "\n",
      "Resultado de la matriz: -2\n"
     ]
    }
   ],
   "source": [
    "archivo = \"matriz.txt\"\n",
    "text = open(archivo).readlines()\n",
    "\n",
    "print(\"imprimiendo todas las lineas: \") #imprimir todas las lineas\n",
    "for line in text:\n",
    "    print(line.split())\n",
    "\n",
    "x=[]\n",
    "for line in text:\n",
    "    x.append(line.split())\n",
    "\n",
    "#AQUI COMIENZA MI MATRIZ\n",
    "var1=x[0][0]\n",
    "var2=x[1][1]\n",
    "var3=x[2][2]\n",
    "resultado1=int(var1)*int(var2)*int(var3)\n",
    "\n",
    "var4=x[1][0]\n",
    "var5=x[2][1]\n",
    "var6=x[0][2]\n",
    "resultado2=int(var4)*int(var5)*int(var6)\n",
    "\n",
    "var7=x[2][0]\n",
    "var8=x[0][1]\n",
    "var9=x[1][2]\n",
    "resultado3=int(var7)*int(var8)*int(var9)\n",
    "\n",
    "var10=x[2][0]\n",
    "var11=x[1][1]\n",
    "var12=x[0][2]\n",
    "resultado4=int(var10)*int(var11)*int(var12)\n",
    "\n",
    "var13=x[0][1]\n",
    "var14=x[1][0]\n",
    "var15=x[2][2]\n",
    "resultado5=int(var13)*int(var14)*int(var15)\n",
    "\n",
    "var16=x[0][0]\n",
    "var17=x[1][2]\n",
    "var18=x[2][1]\n",
    "resultado6=int(var16)*int(var17)*int(var18)\n",
    "\n",
    "resultadoFinal=resultado1+resultado2+resultado3-(resultado4+resultado5+resultado6)\n",
    "print(\"\\nResultado de la matriz: \"+str(resultadoFinal))\n",
    "\n"
   ]
  },
  {
   "cell_type": "markdown",
   "id": "cc887d64",
   "metadata": {},
   "source": [
    "<hr>\n",
    "<b><font color='red'>Ejercicio 05</font></b>  "
   ]
  },
  {
   "cell_type": "markdown",
   "id": "c12b13d1",
   "metadata": {},
   "source": [
    "En el criptoanálisis, la técnica de análisis de frecuencias consiste en el aprovechamiento de estudios sobre la frecuencia de las letras o grupos de letras en los idiomas para poder establecer hipótesis para aprovecharlas para poder descifrar un texto cifrado sin tener la clave de descifrado (romper). Es un método típico para romper cifrados clásicos. \n",
    "Haz una analisis de frecuencias para los 10 primeros capitulos del libro \"el_quijote.txt\""
   ]
  },
  {
   "cell_type": "code",
   "execution_count": 23,
   "id": "482c3b4e",
   "metadata": {},
   "outputs": [
    {
     "data": {
      "text/plain": [
       "'Esribe tu código aquí'"
      ]
     },
     "execution_count": 23,
     "metadata": {},
     "output_type": "execute_result"
    }
   ],
   "source": [
    "# en el ejercicio del quijote: \n",
    "# los acentos te los cargas, luego lo pasas todo a mayusculas, y luego ir contando la cantidad de a's de b's etc\n",
    "abc=\"ABCDEFGHIJKLMNÑOPQRSTUVWXYZ\"  \n",
    "archivo=\"el_quijote.txt\"\n",
    "f=[]\n",
    "\n",
    "\"\"\"Esribe tu código aquí\"\"\"\n",
    "\n",
    "# for i in abc:\n",
    "#    print(\"%.2c  \" % i,\"%.3f\" % f[(abc.index(i))])"
   ]
  },
  {
   "cell_type": "markdown",
   "id": "bbda7117",
   "metadata": {},
   "source": [
    "Salida:\n",
    "\n",
    "    A   0.127\n",
    "    B   0.017\n",
    "    C   0.037\n",
    "    D   0.053\n",
    "    E   0.138\n",
    "    F   0.005\n",
    "    .\n",
    "    .\n",
    "    ."
   ]
  },
  {
   "cell_type": "markdown",
   "id": "2997dde5",
   "metadata": {},
   "source": [
    "<hr>\n",
    "<b><font color='red'>Ejercicio 06</font></b>  "
   ]
  },
  {
   "cell_type": "markdown",
   "id": "356ffebf",
   "metadata": {},
   "source": [
    "haz un analisis de frecuencias en el libro encriptado \"RH RQCEPESEFM AR MPM.txt\", y comparala con el analisis anterior\n"
   ]
  },
  {
   "cell_type": "code",
   "execution_count": 4,
   "id": "a3ca7ae1",
   "metadata": {},
   "outputs": [
    {
     "data": {
      "text/plain": [
       "'Esribe tu código aquí'"
      ]
     },
     "execution_count": 4,
     "metadata": {},
     "output_type": "execute_result"
    }
   ],
   "source": [
    "abc=\"ABCDEFGHIJKLMNÑOPQRSTUVWXYZ\"\n",
    "archivo=\"RH RQCEPESEFM AR MPM.txt\"\n",
    "\n",
    "\"\"\"Esribe tu código aquí\"\"\"\n",
    "    \n",
    "#print(\"el_quijote.txt\",\"  RH RQCEPESEFM AR MPM.txt\")    \n",
    "#for i in abc:\n",
    "#    print(\"%.2c  \" % i,\"%.3f\" % f[(abc.index(i))],\"       %.2c  \" % i,\"%.3f\" % f2[(abc.index(i))])"
   ]
  },
  {
   "cell_type": "markdown",
   "id": "34804739",
   "metadata": {},
   "source": [
    "salida:\n",
    "\n",
    "    el_quijote.txt   RH RQCEPESEFM AR MPM.txt\n",
    "    A   0.127        A   0.049\n",
    "    B   0.017        B   0.006\n",
    "    C   0.037        C   0.040\n",
    "    .                .\n",
    "    .                .\n",
    "    .                ."
   ]
  },
  {
   "cell_type": "markdown",
   "id": "09c15b53",
   "metadata": {},
   "source": [
    "<hr>\n",
    "<b><font color='red'>Ejercicio 07</font></b>  \n",
    "\n",
    "Comparando el analisis de frecuencia sabrías decir cual es el titulo del libro.  \n",
    "RH RQCEPESEFM AR MPM"
   ]
  },
  {
   "cell_type": "markdown",
   "id": "04c10573",
   "metadata": {},
   "source": []
  }
 ],
 "metadata": {
  "kernelspec": {
   "display_name": "Python 3 (ipykernel)",
   "language": "python",
   "name": "python3"
  },
  "language_info": {
   "codemirror_mode": {
    "name": "ipython",
    "version": 3
   },
   "file_extension": ".py",
   "mimetype": "text/x-python",
   "name": "python",
   "nbconvert_exporter": "python",
   "pygments_lexer": "ipython3",
   "version": "3.9.7"
  }
 },
 "nbformat": 4,
 "nbformat_minor": 5
}
