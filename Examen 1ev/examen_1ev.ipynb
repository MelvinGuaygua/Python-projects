{
 "cells": [
  {
   "cell_type": "markdown",
   "metadata": {},
   "source": [
    "__Examen de:__ Melvin Guaygua Huallpa"
   ]
  },
  {
   "cell_type": "code",
   "execution_count": 1,
   "metadata": {},
   "outputs": [],
   "source": [
    "#elegir 5 de las 8 preguntas "
   ]
  },
  {
   "cell_type": "code",
   "execution_count": 2,
   "metadata": {},
   "outputs": [
    {
     "name": "stdout",
     "output_type": "stream",
     "text": [
      "Tu número de control es 42\n"
     ]
    }
   ],
   "source": [
    "#pon aquí tus datos de nacimiento:\n",
    "año=1999\n",
    "día=31\n",
    "mes=12\n",
    "#--------------------------------\n",
    "n=(año+día+mes)%100\n",
    "num_control=str(n)\n",
    "if n<10:\n",
    "    num_control=str(0)+str(n)\n",
    "print(\"Tu número de control es \"+num_control)"
   ]
  },
  {
   "cell_type": "markdown",
   "metadata": {},
   "source": [
    "<hr>\n",
    "<b><font color='red'>Ejercicio 01</font></b> \n",
    "\n",
    "Lee el archivo fotos.dat y pasa el nombre de las fotos a una lista llamada ciudades saltandote las lineas en blanco, no puedes modificar el archivo a mano.  \n",
    "Cambia la foto llamada **\"tu_nombre.jpg\"** por **\"tu_mombre_num_control.jpg\"**, por ejemplo en mi caso cambiaría: tu_mombre_num_control.jpg por Daniel_05.jpg"
   ]
  },
  {
   "cell_type": "code",
   "execution_count": 9,
   "metadata": {},
   "outputs": [
    {
     "name": "stdout",
     "output_type": "stream",
     "text": [
      "mi resultado: \n",
      "[['Alemania.jpg'], ['Bélgica.png'], ['Croacia.gif'], ['Grecia.tiff'], ['Dinamarca.bmp'], '[melvin_42.jpg]', ['España.png'], ['Finlandia.jpg'], ['Francia.gif'], ['Italia.psd'], ['Polonia.jpg'], ['Portugal.tiff'], ['Rumanía.svg'], ['Bélgica.psd'], ['Suiza.gif'], ['Alemania.jpg'], ['Bélgica.png'], ['Croacia.gif'], ['Grecia.tiff'], ['Dinamarca.bmp'], ['España.png'], ['Finlandia.jpg'], ['Francia.gif'], ['Bélgica.psd'], ['Alemania.svg'], ['Portugal.tiff'], ['Rumanía.jpeg'], ['Suecia.eps'], ['Alemania.svg']]\n"
     ]
    }
   ],
   "source": [
    "archivo=\"fotos.dat\"\n",
    "\n",
    "text = open(\"fotos.dat\",\"r\",encoding=\"utf8\")\n",
    "contenido = text.readlines()\n",
    "\n",
    "cont3 = 0\n",
    "ciudades=[]\n",
    "for line in contenido:\n",
    "    if line.split():\n",
    "        ciudades.append(line.split())\n",
    "\n",
    "ciudades[5] = \"[melvin_42.jpg]\"\n",
    "\n",
    "print(\"mi resultado: \")\n",
    "print(ciudades)"
   ]
  },
  {
   "cell_type": "markdown",
   "metadata": {},
   "source": [
    "    ['Alemania.jpg', 'Bélgica.png', 'Croacia.gif', 'Grecia.tiff', 'Dinamarca.bmp', 'tu_nombre.jpg', 'España.png', 'Finlandia.jpg', 'Francia.gif', 'Italia.psd', 'Polonia.jpg', 'Portugal.tiff', 'Rumanía.svg', 'Bélgica.psd', 'Suiza.gif', 'Alemania.jpg', 'Bélgica.png', 'Croacia.gif', 'Grecia.tiff', 'Dinamarca.bmp', 'España.png', 'Finlandia.jpg', 'Francia.gif', 'Bélgica.psd', 'Alemania.svg', 'Portugal.tiff', 'Rumanía.jpeg', 'Suecia.eps', 'Alemania.svg']"
   ]
  },
  {
   "cell_type": "markdown",
   "metadata": {},
   "source": [
    "<hr>\n",
    "<b><font color='red'>Ejercicio 02</font></b>  \n",
    "Imagina que tenemos un programa que pasa todos los formatos a jpg, haz que salga por pantalla la siguiente información, para ello tienes que cambiar todas las extensiones png, gif, tiff, ... a jpg utilizando para ello la lista ciudades:\n",
    "\n",
    "    Alemania.jpg     pasa a   Alemania.jpg\n",
    "    Bélgica.png      pasa a   Bélgica.jpg\n",
    "    Croacia.gif      pasa a   Croacia.jpg\n",
    "    Grecia.tiff      pasa a   Grecia.jpg\n",
    "    Dinamarca.bmp    pasa a   Dinamarca.jpg\n",
    "    tu_nombre.jpg    pasa a   tu_nombre.jpg\n",
    "    España.png       pasa a   España.jpg\n",
    "    Finlandia.jpg    pasa a   Finlandia.jpg\n",
    "    Francia.gif      pasa a   Francia.jpg\n",
    "    Italia.psd       pasa a   Italia.jpg\n",
    "    Polonia.jpg      pasa a   Polonia.jpg\n",
    "    Portugal.tiff    pasa a   Portugal.jpg\n",
    "    Rumanía.svg      pasa a   Rumanía.jpg\n",
    "    Bélgica.psd      pasa a   Bélgica.jpg\n",
    "    Suiza.gif        pasa a   Suiza.jpg\n",
    "    Alemania.jpg     pasa a   Alemania.jpg\n",
    "    Bélgica.png      pasa a   Bélgica.jpg\n",
    "    Croacia.gif      pasa a   Croacia.jpg\n",
    "    Grecia.tiff      pasa a   Grecia.jpg\n",
    "    Dinamarca.bmp    pasa a   Dinamarca.jpg\n",
    "    España.png       pasa a   España.jpg\n",
    "    Finlandia.jpg    pasa a   Finlandia.jpg\n",
    "    Francia.gif      pasa a   Francia.jpg\n",
    "    Bélgica.psd      pasa a   Bélgica.jpg\n",
    "    Alemania.svg     pasa a   Alemania.jpg\n",
    "    Portugal.tiff    pasa a   Portugal.jpg\n",
    "    Rumanía.jpeg     pasa a   Rumanía.jpg\n",
    "    Suecia.eps       pasa a   Suecia.jpg\n",
    "    Alemania.svg     pasa a   Alemania.jpg"
   ]
  },
  {
   "cell_type": "code",
   "execution_count": 24,
   "metadata": {},
   "outputs": [
    {
     "name": "stdout",
     "output_type": "stream",
     "text": [
      "Alemania.jpg   pasa a   Alemania.jpg\n",
      "Bélgica.png   pasa a   Bélgica.jpg\n",
      "Croacia.gif   pasa a   Croacia.jpg\n",
      "Grecia.tiff   pasa a   Grecia.jpg\n",
      "Dinamarca.bmp   pasa a   Dinamarca.jpg\n",
      "melvin_42.jpg   pasa a   melvin_42.jpg\n",
      "España.png   pasa a   España.jpg\n",
      "Finlandia.jpg   pasa a   Finlandia.jpg\n",
      "Francia.gif   pasa a   Francia.jpg\n",
      "Italia.psd   pasa a   Italia.jpg\n",
      "Polonia.jpg   pasa a   Polonia.jpg\n",
      "Portugal.tiff   pasa a   Portugal.jpg\n",
      "Rumanía.svg   pasa a   Rumanía.jpg\n",
      "Bélgica.psd   pasa a   Bélgica.jpg\n",
      "Suiza.gif   pasa a   Suiza.jpg\n",
      "Alemania.jpg   pasa a   Alemania.jpg\n",
      "Bélgica.png   pasa a   Bélgica.jpg\n",
      "Croacia.gif   pasa a   Croacia.jpg\n",
      "Grecia.tiff   pasa a   Grecia.jpg\n",
      "Dinamarca.bmp   pasa a   Dinamarca.jpg\n",
      "España.png   pasa a   España.jpg\n",
      "Finlandia.jpg   pasa a   Finlandia.jpg\n",
      "Francia.gif   pasa a   Francia.jpg\n",
      "Bélgica.psd   pasa a   Bélgica.jpg\n",
      "Alemania.svg   pasa a   Alemania.jpg\n",
      "Portugal.tiff   pasa a   Portugal.jpg\n",
      "Rumanía.jpeg   pasa a   Rumanía.jpg\n",
      "Suecia.eps   pasa a   Suecia.jpg\n",
      "Alemania.svg   pasa a   Alemania.jpg\n"
     ]
    }
   ],
   "source": [
    "#En el caso de que no hayas terminado el ejercicio anterior descomenta la siguiente linea y cambia tu_nombre.jpg por tu_mombre_num_control.jpg\n",
    "ciudades=['Alemania.jpg', 'Bélgica.png', 'Croacia.gif', 'Grecia.tiff', 'Dinamarca.bmp', 'melvin_42.jpg', 'España.png', 'Finlandia.jpg', 'Francia.gif', 'Italia.psd', 'Polonia.jpg', 'Portugal.tiff', 'Rumanía.svg', 'Bélgica.psd', 'Suiza.gif', 'Alemania.jpg', 'Bélgica.png', 'Croacia.gif', 'Grecia.tiff', 'Dinamarca.bmp', 'España.png', 'Finlandia.jpg', 'Francia.gif', 'Bélgica.psd', 'Alemania.svg', 'Portugal.tiff', 'Rumanía.jpeg', 'Suecia.eps', 'Alemania.svg']   \n",
    "\n",
    "for i in ciudades:\n",
    "    archivo2 = i\n",
    "    array2 = archivo2.rsplit(\".\",1)\n",
    "    print(i+\"   pasa a   \"+array2[0]+\".jpg\")\n",
    "\n",
    "\n",
    "# print(\"--------------------\")\n",
    "# archivo=\"Alemania.jpg\"\n",
    "# #debería aparecer solo readme\n",
    "# array1 = archivo.rsplit(\".\", 1) #rsplit hace las divisiones comenzando desde la derecha\n",
    "# print(array1)                    #el 1 dice que realice como máximo una división\n",
    "# print(array1[0])\n",
    "    "
   ]
  },
  {
   "cell_type": "markdown",
   "metadata": {},
   "source": [
    "<hr>\n",
    "<b><font color='red'>Ejercicio 03</font></b>  \n",
    "Ordena los nombres de las fotos, y pon un contador en los nombres que aparezcan repetidas, haz que salga por pantalla la siguiente información:\n",
    "(no puedes copiar y pegar la salida directamente, utiliza la lista de ciudades)\n",
    "\n",
    "    Alemania_00.jpg\n",
    "    Alemania_01.jpg\n",
    "    Alemania_02.jpg\n",
    "    Alemania_03.jpg\n",
    "    Bélgica_00.jpg\n",
    "    Bélgica_01.jpg\n",
    "    Bélgica_02.jpg\n",
    "    Bélgica_03.jpg\n",
    "    Croacia_00.jpg\n",
    "    Croacia_01.jpg\n",
    "    Dinamarca_00.jpg\n",
    "    Dinamarca_01.jpg\n",
    "    España_00.jpg\n",
    "    España_01.jpg\n",
    "    Finlandia_00.jpg\n",
    "    Finlandia_01.jpg\n",
    "    Francia_00.jpg\n",
    "    Francia_01.jpg\n",
    "    Grecia_00.jpg\n",
    "    Grecia_01.jpg\n",
    "    Italia_00.jpg\n",
    "    Polonia_00.jpg\n",
    "    Portugal_00.jpg\n",
    "    Portugal_01.jpg\n",
    "    Rumanía_00.jpg\n",
    "    Rumanía_01.jpg\n",
    "    Suecia_00.jpg\n",
    "    Suiza_00.jpg\n",
    "    tu_nombre_00.jpg"
   ]
  },
  {
   "cell_type": "code",
   "execution_count": 78,
   "metadata": {},
   "outputs": [
    {
     "name": "stdout",
     "output_type": "stream",
     "text": [
      "contador de alemania  2\n",
      "Alemania.jpg\n",
      "Alemania.jpg\n",
      "Alemania.svg\n",
      "Alemania.svg\n",
      "Bélgica.png\n",
      "Bélgica.png\n",
      "Bélgica.psd\n",
      "Bélgica.psd\n",
      "Croacia.gif\n",
      "Croacia.gif\n",
      "Dinamarca.bmp\n",
      "Dinamarca.bmp\n",
      "España.png\n",
      "España.png\n",
      "Finlandia.jpg\n",
      "Finlandia.jpg\n",
      "Francia.gif\n",
      "Francia.gif\n",
      "Grecia.tiff\n",
      "Grecia.tiff\n",
      "Italia.psd\n",
      "Polonia.jpg\n",
      "Portugal.tiff\n",
      "Portugal.tiff\n",
      "Rumanía.jpeg\n",
      "Rumanía.svg\n",
      "Suecia.eps\n",
      "Suiza.gif\n",
      "melvin_42.jpg\n",
      "lista de contadores\n",
      "[4, 4, 2, 2, 2, 2, 2, 2, 1, 1, 2, 2, 1, 1, 1]\n",
      "contador de alemania  4\n",
      "Alemania00.jpg\n",
      "Alemania01.jpg\n",
      "Alemania02.jpg\n",
      "Alemania03.jpg\n",
      "Bélgica04.jpg\n",
      "Bélgica05.jpg\n",
      "Bélgica06.jpg\n",
      "Bélgica07.jpg\n",
      "Croacia08.jpg\n",
      "Croacia09.jpg\n"
     ]
    }
   ],
   "source": [
    "#En el caso de que no hayas terminado el ejercicio anterior descomenta la siguiente linea y cambia tu_nombre.jpg por tu_mombre_num_control.jpg\n",
    "ciudades=['Alemania.jpg', 'Bélgica.png', 'Croacia.gif', 'Grecia.tiff', 'Dinamarca.bmp', 'melvin_42.jpg', 'España.png', 'Finlandia.jpg', 'Francia.gif', 'Italia.psd', 'Polonia.jpg', 'Portugal.tiff', 'Rumanía.svg', 'Bélgica.psd', 'Suiza.gif', 'Alemania.jpg', 'Bélgica.png', 'Croacia.gif', 'Grecia.tiff', 'Dinamarca.bmp', 'España.png', 'Finlandia.jpg', 'Francia.gif', 'Bélgica.psd', 'Alemania.svg', 'Portugal.tiff', 'Rumanía.jpeg', 'Suecia.eps', 'Alemania.svg']   \n",
    "\n",
    "ciudades.sort()\n",
    "\n",
    "a = ciudades.count(\"Alemania.jpg\")\n",
    "print(\"contador de alemania \",a)\n",
    "for i in ciudades:\n",
    "    print(i)\n",
    "\n",
    "    \n",
    "lista=[]\n",
    "for i in ciudades:\n",
    "    archivo2 = i\n",
    "    array2 = archivo2.rsplit(\".\",1)\n",
    "    lista.append(array2[0])\n",
    "    \n",
    "listaContadores=[]\n",
    "paises=[\"Alemania\", \"Bélgica\", \"Croacia\",\"Dinamarca\", \"España\",\"Finlandia\", \"Francia\",\"Grecia\",\"Italia\",\"Polonia\",\"Portugal\",\"Rumanía\",\"Suecia\",\"Suiza\",\"melvin_42\"]\n",
    "for i in range (len(paises)):\n",
    "    contador = lista.count(paises[i])\n",
    "    listaContadores.append(contador)\n",
    "    \n",
    "print(\"lista de contadores\")\n",
    "print(listaContadores)\n",
    "c1 = lista.count(\"Alemania\")\n",
    "print(\"contador de alemania \",c1)\n",
    "# c1 = lista.count(\"Bélgica\")\n",
    "# print(\"contador de alemania \",c1)\n",
    "# c1 = lista.count(\"Croacia\")\n",
    "# print(\"contador de alemania \",c1)\n",
    "# c1 = lista.count(\"Dinamarca\")\n",
    "# print(\"contador de alemania \",c1)\n",
    "\n",
    "contador=0    \n",
    "superCon=0\n",
    "# for j in range (len(listaContadores)):\n",
    "    \n",
    "for i in range (len(lista)):\n",
    "    if contador<10:\n",
    "        print(lista[i]+\"0\"+str(superCon)+\".jpg\")\n",
    "        contador+=1\n",
    "#         superCon+=1\n",
    "        if superCon==(4-1):\n",
    "            superCon=0\n",
    "        superCon+=1\n",
    "\n",
    "    \n",
    "        "
   ]
  },
  {
   "cell_type": "markdown",
   "metadata": {},
   "source": [
    "<hr>\n",
    "<b><font color='red'>Ejercicio 04</font></b>\n",
    "\n",
    "Crea una clase Ficha, que sea capaz de cargar la siguiente lista (inicio) donde tenemos las posiciones iniciales del ajedrez, las mayusculas representan las blanca y las minusculas la negras, los siguientes carazteres indican la posición."
   ]
  },
  {
   "cell_type": "code",
   "execution_count": 1,
   "metadata": {},
   "outputs": [],
   "source": [
    "#blancas mayusculas y negras en minusculas\n",
    "inicio = ['Ta1', 'Cb1', 'Ac1', 'Qd1', 'Re1', 'Af1', 'Cg1', 'Th1',\n",
    "          'Pa2', 'Pb2', 'Pc2', 'Pd2', 'Pe2', 'Pf2', 'Pg2', 'Ph2',\n",
    "          'pa7', 'pb7', 'pc7', 'pd7', 'pe7', 'pf7', 'pg7', 'ph7',\n",
    "          'ta8', 'cb8', 'ac8', 'rd8', 'qe8' ,'af8', 'cg8', 'th8']    "
   ]
  },
  {
   "cell_type": "markdown",
   "metadata": {},
   "source": [
    "<img src=\"ajedrez.png\" ALIGN=\"left\" width=200 height=200)>"
   ]
  },
  {
   "cell_type": "markdown",
   "metadata": {},
   "source": [
    "La clase Fichas debe tener al menos los siguientes atributos (ejemplo Ta1 = Torre blanca en posición a1):\n",
    "\n",
    "    name = 'Ta1'\n",
    "    caracter = 'T'\n",
    "    pos = 'a1'\n",
    "    tipo = 'Torre'\n",
    "    color = 'Blanca'\n",
    "    \n",
    "Tiene que tener un método llamado info()\n",
    "\n",
    "        def info(self):\n",
    "            print(\"    \"+self.tipo+\" \"+self.color+\" \"+self.pos)"
   ]
  },
  {
   "cell_type": "code",
   "execution_count": 2,
   "metadata": {},
   "outputs": [
    {
     "ename": "TypeError",
     "evalue": "Ficha() takes no arguments",
     "output_type": "error",
     "traceback": [
      "\u001b[1;31m---------------------------------------------------------------------------\u001b[0m",
      "\u001b[1;31mTypeError\u001b[0m                                 Traceback (most recent call last)",
      "\u001b[1;32m~\\AppData\\Local\\Temp/ipykernel_2940/51606922.py\u001b[0m in \u001b[0;36m<module>\u001b[1;34m\u001b[0m\n\u001b[0;32m      6\u001b[0m \u001b[0mposicion_fichas\u001b[0m \u001b[1;33m=\u001b[0m \u001b[1;33m[\u001b[0m\u001b[1;33m]\u001b[0m    \u001b[1;31m#Carga las posiciones dadas en inicio en una lista de fichas\u001b[0m\u001b[1;33m\u001b[0m\u001b[1;33m\u001b[0m\u001b[0m\n\u001b[0;32m      7\u001b[0m \u001b[1;32mfor\u001b[0m \u001b[0mi\u001b[0m \u001b[1;32min\u001b[0m \u001b[0minicio\u001b[0m\u001b[1;33m:\u001b[0m\u001b[1;33m\u001b[0m\u001b[1;33m\u001b[0m\u001b[0m\n\u001b[1;32m----> 8\u001b[1;33m     \u001b[0mposicion_fichas\u001b[0m\u001b[1;33m.\u001b[0m\u001b[0mappend\u001b[0m\u001b[1;33m(\u001b[0m\u001b[0mFicha\u001b[0m\u001b[1;33m(\u001b[0m\u001b[0mi\u001b[0m\u001b[1;33m)\u001b[0m\u001b[1;33m)\u001b[0m\u001b[1;33m\u001b[0m\u001b[1;33m\u001b[0m\u001b[0m\n\u001b[0m\u001b[0;32m      9\u001b[0m \u001b[1;33m\u001b[0m\u001b[0m\n\u001b[0;32m     10\u001b[0m \u001b[1;33m\u001b[0m\u001b[0m\n",
      "\u001b[1;31mTypeError\u001b[0m: Ficha() takes no arguments"
     ]
    }
   ],
   "source": [
    "# class Ficha:\n",
    "#    #Esribe tu código aquí \n",
    "#    def info(self):\n",
    "#         print(\"    \"+self.tipo+\" \"+self.color+\" \"+self.pos)\n",
    "        \n",
    "# posicion_fichas = []    #Carga las posiciones dadas en inicio en una lista de fichas\n",
    "# for i in inicio:\n",
    "#     posicion_fichas.append(Ficha(i))\n",
    "\n",
    "\n",
    "# for ficha in posicion_fichas:   #Haz que se muestre la información por pantalla\n",
    "#     ficha.info() #Ten encuenta el genero\n",
    "    \n",
    "# #salida:"
   ]
  },
  {
   "cell_type": "markdown",
   "metadata": {},
   "source": [
    "    Torre Blanca a1\n",
    "    Caballo Blanco b1\n",
    "    Alfil Blanco c1\n",
    "    Reina Blanca d1\n",
    "    Rey Blanco e1\n",
    "    Alfil Blanco f1\n",
    "    Caballo Blanco g1\n",
    "    Torre Blanca h1\n",
    "    Peon Blanco a2\n",
    "    Peon Blanco b2\n",
    "    Peon Blanco c2\n",
    "    Peon Blanco d2\n",
    "    Peon Blanco e2\n",
    "    Peon Blanco f2\n",
    "    Peon Blanco g2\n",
    "    Peon Blanco h2\n",
    "    Peon Negro a7\n",
    "    Peon Negro b7\n",
    "    Peon Negro c7\n",
    "    Peon Negro d7\n",
    "    Peon Negro e7\n",
    "    Peon Negro f7\n",
    "    Peon Negro g7\n",
    "    Peon Negro h7\n",
    "    Torre Negra a8\n",
    "    Caballo Negro b8\n",
    "    Alfil Negro c8\n",
    "    Rey Negro d8\n",
    "    Reina Negra e8\n",
    "    Alfil Negro f8\n",
    "    Caballo Negro g8\n",
    "    Torre Negra h8\n"
   ]
  },
  {
   "cell_type": "markdown",
   "metadata": {},
   "source": [
    "<hr>\n",
    "<b><font color='red'>Ejercicio 05</font></b>\n",
    "\n",
    "Crea una función llamada pintar_tablero, que reciba una lista con las fichas y las saque por pantalla\n"
   ]
  },
  {
   "cell_type": "code",
   "execution_count": 217,
   "metadata": {},
   "outputs": [
    {
     "name": "stdout",
     "output_type": "stream",
     "text": [
      "mi resultado: \n",
      "['t', 'c', 'a', 'q', 'r', 'a', 'c', 't']\n",
      "['p', 'p', 'p', 'p', 'p', 'p', 'p', 'p']\n",
      "[' ', ' ', ' ', ' ', ' ', ' ', ' ', ' ']\n",
      "[' ', ' ', ' ', ' ', ' ', ' ', ' ', ' ']\n",
      "[' ', ' ', ' ', ' ', ' ', ' ', ' ', ' ']\n",
      "['P', 'P', 'P', 'P', 'P', 'P', 'P', 'P']\n",
      "['T', 'C', 'A', 'R', 'Q', 'A', 'C', 'T']\n"
     ]
    }
   ],
   "source": [
    "\n",
    "inicio = ['Ta1', 'Cb1', 'Ac1', 'Qd1', 'Re1', 'Af1', 'Cg1', 'Th1',\n",
    "          'Pa2', 'Pb2', 'Pc2', 'Pd2', 'Pe2', 'Pf2', 'Pg2', 'Ph2',\n",
    "          'pa7', 'pb7', 'pc7', 'pd7', 'pe7', 'pf7', 'pg7', 'ph7',\n",
    "          'ta8', 'cb8', 'ac8', 'rd8', 'qe8' ,'af8', 'cg8', 'th8']\n",
    "def pintar_tablero(inicio):\n",
    "    x1=[]\n",
    "    x2=[]\n",
    "    x3=[]\n",
    "    x4=[]\n",
    "    x5=[\" \",\" \",\" \",\" \",\" \",\" \",\" \",\" \"]\n",
    "\n",
    "    contador=0\n",
    "    for i in range(8):\n",
    "        a = inicio[contador]\n",
    "        a = a[0]\n",
    "        a = a.lower()\n",
    "        x1.append(a)\n",
    "        contador+=1\n",
    "    for i in range(8):\n",
    "        a = inicio[contador]\n",
    "        a = a[0]\n",
    "        a = a.lower()\n",
    "        x2.append(a)\n",
    "        contador+=1\n",
    "    for i in range(8):\n",
    "        a = inicio[contador]\n",
    "        a = a[0]\n",
    "        a = a.upper()\n",
    "        x3.append(a)\n",
    "        contador+=1\n",
    "    for i in range(8):\n",
    "        a = inicio[contador]\n",
    "        a = a[0]\n",
    "        a = a.upper()\n",
    "        x4.append(a)\n",
    "        contador+=1\n",
    "    print(x1)\n",
    "    print(x2)\n",
    "    print(x5)\n",
    "    print(x5)\n",
    "    print(x5)\n",
    "    print(x3)\n",
    "    print(x4)\n",
    "    \n",
    "print(\"mi resultado: \")\n",
    "pintar_tablero(inicio)\n",
    "\n"
   ]
  },
  {
   "cell_type": "markdown",
   "metadata": {},
   "source": [
    "    ['t', 'c', 'a', 'r', 'q', 'a', 'c', 't']\n",
    "    ['p', 'p', 'p', 'p', 'p', 'p', 'p', 'p']\n",
    "    [' ', ' ', ' ', ' ', ' ', ' ', ' ', ' ']\n",
    "    [' ', ' ', ' ', ' ', ' ', ' ', ' ', ' ']\n",
    "    [' ', ' ', ' ', ' ', ' ', ' ', ' ', ' ']\n",
    "    [' ', ' ', ' ', ' ', ' ', ' ', ' ', ' ']\n",
    "    ['P', 'P', 'P', 'P', 'P', 'P', 'P', 'P']\n",
    "    ['T', 'C', 'A', 'Q', 'R', 'A', 'C', 'T']\n"
   ]
  },
  {
   "cell_type": "markdown",
   "metadata": {},
   "source": [
    "<hr>\n",
    "<b><font color='red'>Ejercicio 06</font></b>\n",
    "\n",
    "Crea una función que cambie la posición de la ficha, haz el movimiento Cb1 -> Cc3"
   ]
  },
  {
   "cell_type": "code",
   "execution_count": 8,
   "metadata": {},
   "outputs": [],
   "source": [
    "#Esribe tu código aquí\n",
    "\n",
    "#cambiar_posicion_ficha(\"Cb1\",\"Cc3\")  \n",
    "\n",
    "#pintar_tablero(posicion_fichas)\n",
    "\n"
   ]
  },
  {
   "cell_type": "markdown",
   "metadata": {},
   "source": [
    "    ['t', 'c', 'a', 'r', 'q', 'a', 'c', 't']\n",
    "    ['p', 'p', 'p', 'p', 'p', 'p', 'p', 'p']\n",
    "    [' ', ' ', ' ', ' ', ' ', ' ', ' ', ' ']\n",
    "    [' ', ' ', ' ', ' ', ' ', ' ', ' ', ' ']\n",
    "    [' ', ' ', ' ', ' ', ' ', ' ', ' ', ' ']\n",
    "    [' ', ' ', 'C', ' ', ' ', ' ', ' ', ' ']\n",
    "    ['P', 'P', 'P', 'P', 'P', 'P', 'P', 'P']\n",
    "    ['T', ' ', 'A', 'Q', 'R', 'A', 'C', 'T']\n"
   ]
  },
  {
   "cell_type": "markdown",
   "metadata": {},
   "source": [
    "<hr>\n",
    "<b><font color='red'>Ejercicio 07</font></b>\n",
    "\n",
    "Dibuja el siguinete sistema de ecuaciones:\n",
    "$$ x+2y=3 $$\n",
    "$$ x+y=2 $$\n",
    "\n",
    "* Marca la solución con una $\\star$\n",
    "* Utiliza para las gráficas un ancho del linea de 1.\n",
    "* Los colores son verde, rojo y azul. \n",
    "* Dibuja una linea vertical que vaya hasta la solución.\n",
    "* La fuente de título es : \"Arial\" o \"DejaVu Sans\", de color darkred y tamaño 16\n"
   ]
  },
  {
   "cell_type": "code",
   "execution_count": 271,
   "metadata": {},
   "outputs": [
    {
     "data": {
      "image/png": "[encoded data removed]",
      "text/plain": [
       "<Figure size 432x288 with 1 Axes>"
      ]
     },
     "metadata": {
      "needs_background": "light"
     },
     "output_type": "display_data"
    }
   ],
   "source": [
    "x = np.arange(0.00, 2.01, 0.25)\n",
    "# y = np.arange(0.00, 2.01, 0.25)\n",
    "y = (3-x)/2\n",
    "\n",
    "x1 = np.arange(0.00, 2.01, 0.25)\n",
    "y1 = 2-x\n",
    "\n",
    "x2 = np.arange(1.00, 1.01, 0.25)\n",
    "y2 = 0.00 +x2\n",
    "\n",
    "x3 = np.arange(0.00, 0.01, 0.25)\n",
    "y3 = 2.00 + x3\n",
    "\n",
    "x4 = np.arange(2.00, 2.01, 0.25)\n",
    "y4 = -2.00 + x4\n",
    "\n",
    "x5 = np.arange(2.00, 2.01, 0.25)\n",
    "y5 = -1.50 + x5\n",
    "\n",
    "x6 = np.arange(0.00, 0.01, 0.25)\n",
    "y6 = 1.50 + x6\n",
    "\n",
    "plt.plot(x,y, linestyle = ':',linewidth = '1.5',color='g',label='y = (-x+3)/2')\n",
    "plt.plot(x1,y1, linestyle = '--',linewidth = '1.5',color='r',label='y = -x+2')\n",
    "plt.plot(x2,y2,marker = '*', linestyle = '-',linewidth = '1.5',color='b',label='solucion')\n",
    "plt.plot(x3,y3,marker = '.', linestyle = '-',linewidth = '2.5',color='r',markersize=12) #punto rojo\n",
    "plt.plot(x4,y4,marker = '.', linestyle = '-',linewidth = '2.5',color='r',markersize=12) #punto rojo\n",
    "plt.plot(x5,y5,marker = '.', linestyle = '-',linewidth = '2.5',color='g',markersize=12) #punto verde\n",
    "plt.plot(x6,y6,marker = '.', linestyle = '-',linewidth = '2.5',color='g',markersize=12) #punto verde\n",
    "\n",
    "\n",
    "font = {'family':'serif','color':'darkred','size':15}\n",
    "plt.title(\"Sistema de ecuaciones\", loc = 'center', fontdict = font)\n",
    "plt.xlabel(\"x\")\n",
    "plt.ylabel(\"y\")\n",
    "plt.legend()\n",
    "plt.grid()\n",
    "\n",
    "plt.vlines(x=1, ymin=0, ymax=1, linestyles='solid') #para trazar linea vertical\n",
    "\n",
    "plt.show()"
   ]
  },
  {
   "cell_type": "markdown",
   "metadata": {},
   "source": [
    "<img src=\"matplotlib.png\" ALIGN=\"left\">"
   ]
  },
  {
   "cell_type": "markdown",
   "metadata": {},
   "source": [
    "<hr>\n",
    "<b><font color='red'>Ejercicio 08</font></b>\n",
    "\n",
    "En 1674 G. Leibnitz da la serie:\n",
    "$$ \\frac{\\pi}{4} = 1-\\frac{1}{3}+\\frac{1}{5}-\\frac{1}{7}+\\frac{1}{9}+...$$\n",
    "Es decir que:\n",
    "$$ \\pi = 4-\\frac{4}{3}+\\frac{4}{5}-\\frac{4}{7}+\\frac{4}{9}+...$$\n",
    "Haz la serie hasta el termino $\\frac{4}{10000}$, el resultado es 3.14139265359....  \n",
    "Para ellor utiliza un arrray de numpy como se muestra a continuación:"
   ]
  },
  {
   "cell_type": "code",
   "execution_count": 216,
   "metadata": {},
   "outputs": [
    {
     "name": "stdout",
     "output_type": "stream",
     "text": [
      "[4. 4. 4. ... 4. 4. 4.]\n",
      "resultado: \n",
      "3.1414926535900345\n"
     ]
    }
   ],
   "source": [
    "import numpy as np\n",
    "\n",
    "matriz = np.ones(10000)*4\n",
    "print(matriz)\n",
    "\n",
    "a=0\n",
    "cont1 = 1\n",
    "aux=1\n",
    "for i in range(len(matriz)):\n",
    "    if aux%2==0: #si es par tiene que restar\n",
    "        num = float(matriz[i])\n",
    "        a = a - (num / cont1)\n",
    "        cont1+=2\n",
    "    elif aux%2!=0: #si es impar tiene que suma\n",
    "        num = float(matriz[i])\n",
    "        a = a + (num / cont1)\n",
    "        cont1+=2\n",
    "    aux+=1\n",
    "\n",
    "print(\"resultado: \")\n",
    "print(a)\n",
    "\n",
    "#salida : 3.1414926535900"
   ]
  }
 ],
 "metadata": {
  "kernelspec": {
   "display_name": "Python 3 (ipykernel)",
   "language": "python",
   "name": "python3"
  },
  "language_info": {
   "codemirror_mode": {
    "name": "ipython",
    "version": 3
   },
   "file_extension": ".py",
   "mimetype": "text/x-python",
   "name": "python",
   "nbconvert_exporter": "python",
   "pygments_lexer": "ipython3",
   "version": "3.10.0"
  }
 },
 "nbformat": 4,
 "nbformat_minor": 4
}
