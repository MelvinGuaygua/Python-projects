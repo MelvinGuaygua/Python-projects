{
 "cells": [
  {
   "cell_type": "code",
   "execution_count": 14,
   "id": "da030db8",
   "metadata": {},
   "outputs": [
    {
     "data": {
      "text/html": [
       "<div>\n",
       "<style scoped>\n",
       "    .dataframe tbody tr th:only-of-type {\n",
       "        vertical-align: middle;\n",
       "    }\n",
       "\n",
       "    .dataframe tbody tr th {\n",
       "        vertical-align: top;\n",
       "    }\n",
       "\n",
       "    .dataframe thead th {\n",
       "        text-align: right;\n",
       "    }\n",
       "</style>\n",
       "<table border=\"1\" class=\"dataframe\">\n",
       "  <thead>\n",
       "    <tr style=\"text-align: right;\">\n",
       "      <th></th>\n",
       "      <th>Nombrep</th>\n",
       "      <th>Artículo</th>\n",
       "      <th>Precio</th>\n",
       "      <th>Nombre</th>\n",
       "    </tr>\n",
       "  </thead>\n",
       "  <tbody>\n",
       "    <tr>\n",
       "      <th>Tienda 01</th>\n",
       "      <td>Homer</td>\n",
       "      <td>Rosquillas</td>\n",
       "      <td>3.7</td>\n",
       "      <td>NaN</td>\n",
       "    </tr>\n",
       "    <tr>\n",
       "      <th>Tienda 02</th>\n",
       "      <td>NaN</td>\n",
       "      <td>Cerveza duff</td>\n",
       "      <td>6.0</td>\n",
       "      <td>Barney</td>\n",
       "    </tr>\n",
       "    <tr>\n",
       "      <th>Tienda 03</th>\n",
       "      <td>NaN</td>\n",
       "      <td>Leche</td>\n",
       "      <td>4.5</td>\n",
       "      <td>Lenny</td>\n",
       "    </tr>\n",
       "  </tbody>\n",
       "</table>\n",
       "</div>"
      ],
      "text/plain": [
       "          Nombrep      Artículo  Precio  Nombre\n",
       "Tienda 01   Homer    Rosquillas     3.7     NaN\n",
       "Tienda 02     NaN  Cerveza duff     6.0  Barney\n",
       "Tienda 03     NaN         Leche     4.5   Lenny"
      ]
     },
     "execution_count": 14,
     "metadata": {},
     "output_type": "execute_result"
    }
   ],
   "source": [
    "%matplotlib inline\n",
    "import matplotlib.pyplot as plt\n",
    "import pandas as pd\n",
    "import numpy as np\n",
    "import seaborn as sns\n",
    "\n",
    "\n",
    "compra_01 = pd.Series({'Nombrep': 'Homer','Artículo': 'Rosquillas','Precio': 3.70})\n",
    "compra_02 =  pd.Series({'Nombre': 'Barney','Artículo': 'Cerveza duff','Precio': 6.00})\n",
    "compra_03 =  pd.Series({'Nombre': 'Lenny','Artículo': 'Leche','Precio': 4.50})\n",
    "\n",
    "df = pd.DataFrame([compra_01, compra_02, compra_03], index=['Tienda 01', 'Tienda 02', 'Tienda 03'])\n",
    "\n",
    "df.head()"
   ]
  },
  {
   "cell_type": "code",
   "execution_count": 16,
   "id": "4bab13b4",
   "metadata": {},
   "outputs": [
    {
     "data": {
      "text/plain": [
       "Tienda 01    Homer\n",
       "Tienda 02      NaN\n",
       "Tienda 03      NaN\n",
       "Name: Nombrep, dtype: object"
      ]
     },
     "execution_count": 16,
     "metadata": {},
     "output_type": "execute_result"
    }
   ],
   "source": [
    "df['Nombrep']"
   ]
  },
  {
   "cell_type": "markdown",
   "id": "dcd05097",
   "metadata": {},
   "source": [
    "<hr>\n",
    "<b><font color='red'>Ejercicio 03</font></b>  \n",
    "\n",
    "Crea un archivo llamado calendario.xlsx. Haz que tenga 12 hojas, llamadas\n",
    "[\"enero\",\"febrero\",\"marzo\",\"abril\",\"mayo\",\"junio\",\"julio\",\"agosto\",\"septiembre\",\"octubre\",\"noviembre\",\"diciembre\"]\n",
    "con los siguientes días por hoja\n",
    "[31,28,31,30,31,30,31,31,30,31,30,31]\n",
    "haz que apareza un calendario de ese mes en cada hoja como creas conveniente, es decir:\n",
    "\n",
    "    L M X J V S D\n",
    "    1 2 3 4 5 6 7\n",
    "    ....\n",
    "    \n",
    "    o\n",
    "    \n",
    "    1 2 3 4 5 6 ....31\n",
    "    \n",
    "    o\n",
    "    \n",
    "    1\n",
    "    2\n",
    "    3\n",
    "    4\n",
    "    .\n",
    "    ."
   ]
  },
  {
   "cell_type": "code",
   "execution_count": 1,
   "id": "f7e0a077",
   "metadata": {},
   "outputs": [
    {
     "ename": "NameError",
     "evalue": "name 'df' is not defined",
     "output_type": "error",
     "traceback": [
      "\u001b[1;31m---------------------------------------------------------------------------\u001b[0m",
      "\u001b[1;31mNameError\u001b[0m                                 Traceback (most recent call last)",
      "\u001b[1;32m~\\AppData\\Local\\Temp/ipykernel_16180/3167693469.py\u001b[0m in \u001b[0;36m<module>\u001b[1;34m\u001b[0m\n\u001b[0;32m      5\u001b[0m \u001b[1;33m\u001b[0m\u001b[0m\n\u001b[0;32m      6\u001b[0m \u001b[1;31m# df = pd.read_excel('Sample - Superstore.xls')\u001b[0m\u001b[1;33m\u001b[0m\u001b[1;33m\u001b[0m\u001b[0m\n\u001b[1;32m----> 7\u001b[1;33m \u001b[0mdf\u001b[0m\u001b[1;33m[\u001b[0m\u001b[1;34m'a_new_col'\u001b[0m\u001b[1;33m]\u001b[0m \u001b[1;33m=\u001b[0m \u001b[0mnp\u001b[0m\u001b[1;33m.\u001b[0m\u001b[0mrandom\u001b[0m\u001b[1;33m.\u001b[0m\u001b[0mrand\u001b[0m\u001b[1;33m(\u001b[0m\u001b[1;33m)\u001b[0m\u001b[1;33m\u001b[0m\u001b[1;33m\u001b[0m\u001b[0m\n\u001b[0m\u001b[0;32m      8\u001b[0m \u001b[0mdf\u001b[0m\u001b[1;33m.\u001b[0m\u001b[0mto_excel\u001b[0m\u001b[1;33m(\u001b[0m\u001b[1;34m'calendario_2022.xlsx'\u001b[0m\u001b[1;33m)\u001b[0m\u001b[1;33m\u001b[0m\u001b[1;33m\u001b[0m\u001b[0m\n\u001b[0;32m      9\u001b[0m \u001b[1;33m\u001b[0m\u001b[0m\n",
      "\u001b[1;31mNameError\u001b[0m: name 'df' is not defined"
     ]
    }
   ],
   "source": [
    "import pandas as pd\n",
    "import numpy as np\n",
    "\n",
    "writer = pd.ExcelWriter('calendario_2022.xlsx') #CON ESTO SE CREA EL EXCEL\n",
    "\n",
    "df\n",
    "# df = pd.read_excel('Sample - Superstore.xls')\n",
    "df['a_new_col'] = np.random.rand()\n",
    "df.to_excel('calendario_2022.xlsx')\n",
    "\n",
    "\n",
    "# df.to_excel(writer, sheet_name=\"Enero\", index=False)\n",
    "# df.to_excel(writer, sheet_name=\"Febrero\", index=False)\n",
    "# writer.save()\n",
    "# writer.close()\n",
    "\n",
    "\n",
    "# lista=[\"enero\",\"febrero\",\"marzo\",\"abril\",\"mayo\",\"junio\",\"julio\",\"agosto\",\"septiembre\",\"octubre\",\"noviembre\",\"diciembre\"]\n",
    "# df = pd.read_excel('calendario_2021.xlsx',index_col=0)  #no lea la columna 0\n",
    "# lista=[\"enero\",\"febrero\",\"marzo\",\"abril\",\"mayo\",\"junio\",\"julio\",\"agosto\",\"septiembre\",\"octubre\",\"noviembre\",\"diciembre\"]\n",
    "# df"
   ]
  },
  {
   "cell_type": "code",
   "execution_count": 20,
   "id": "227f7eca",
   "metadata": {},
   "outputs": [
    {
     "data": {
      "text/html": [
       "<div>\n",
       "<style scoped>\n",
       "    .dataframe tbody tr th:only-of-type {\n",
       "        vertical-align: middle;\n",
       "    }\n",
       "\n",
       "    .dataframe tbody tr th {\n",
       "        vertical-align: top;\n",
       "    }\n",
       "\n",
       "    .dataframe thead th {\n",
       "        text-align: right;\n",
       "    }\n",
       "</style>\n",
       "<table border=\"1\" class=\"dataframe\">\n",
       "  <thead>\n",
       "    <tr style=\"text-align: right;\">\n",
       "      <th></th>\n",
       "      <th>a</th>\n",
       "      <th>b</th>\n",
       "    </tr>\n",
       "  </thead>\n",
       "  <tbody>\n",
       "    <tr>\n",
       "      <th>0</th>\n",
       "      <td>1</td>\n",
       "      <td>2</td>\n",
       "    </tr>\n",
       "    <tr>\n",
       "      <th>1</th>\n",
       "      <td>3</td>\n",
       "      <td>4</td>\n",
       "    </tr>\n",
       "  </tbody>\n",
       "</table>\n",
       "</div>"
      ],
      "text/plain": [
       "   a  b\n",
       "0  1  2\n",
       "1  3  4"
      ]
     },
     "execution_count": 20,
     "metadata": {},
     "output_type": "execute_result"
    }
   ],
   "source": [
    "df = pd.DataFrame([[1, 2], [3, 4]], columns = [\"a\", \"b\"])\n",
    "df"
   ]
  },
  {
   "cell_type": "code",
   "execution_count": 17,
   "id": "0212f7cb",
   "metadata": {},
   "outputs": [],
   "source": [
    "#AÑADIR HOJAS AL EXCEL\n",
    "import numpy as np\n",
    "import pandas as pd\n",
    "from seaborn import load_dataset\n",
    "\n",
    "lista1=[\"enero\",\"febrero\",\"marzo\",\"abril\",\"mayo\",\"junio\",\"julio\",\"agosto\",\"septiembre\",\"octubre\",\"noviembre\",\"diciembre\"]\n",
    "lista2=[31,28,31,30,31,30,31,31,30,31,30,31]\n",
    "\n",
    "# array = np.full(12,1)\n",
    "# df = pd.DataFrame(\n",
    "#     [array],\n",
    "#     columns=[\"enero\",\"febrero\",\"marzo\",\"abril\",\"mayo\",\"junio\",\"julio\",\"agosto\",\"septiembre\",\"octubre\",\"noviembre\",\"diciembre\"]\n",
    "# )\n",
    "# array1 = np.arange(start=1, stop=32) #1-31\n",
    "# df = pd.DataFrame(\n",
    "#     [array1],\n",
    "#     columns=array1)\n",
    "# array2 = np.arange(start=1, stop=29) #1-28\n",
    "# df2 = pd.DataFrame(\n",
    "#     [array2],\n",
    "#     columns=array2)\n",
    "\n",
    "\n",
    "writer = pd.ExcelWriter('archivoEj.xlsx') \n",
    "#-----------------------------------\n",
    "for i in range(12): \n",
    "    array1 = np.arange(start=1, stop=lista2[i]+1) #1-31 #PRIMERO CREO EL ARRAY\n",
    "    df = pd.DataFrame(\n",
    "        [array1],\n",
    "        columns=array1)\n",
    "    df.to_excel(writer, sheet_name=lista1[i], index=False)\n",
    "#-----------------------------------\n",
    "# df.to_excel(writer, sheet_name=\"Enero\", index=False)\n",
    "# df2.to_excel(writer, sheet_name=\"Febrero\", index=False)\n",
    "writer.save()\n",
    "writer.close()"
   ]
  },
  {
   "cell_type": "code",
   "execution_count": 1,
   "id": "2a7597c3",
   "metadata": {},
   "outputs": [],
   "source": [
    "#EJERCICIO BIEN\n",
    "import numpy as np\n",
    "import pandas as pd\n",
    "from seaborn import load_dataset\n",
    "\n",
    "lista1=[\"enero\",\"febrero\",\"marzo\",\"abril\",\"mayo\",\"junio\",\"julio\",\"agosto\",\"septiembre\",\"octubre\",\"noviembre\",\"diciembre\"]\n",
    "lista2=[31,28,31,30,31,30,31,31,30,31,30,31]\n",
    "\n",
    "\n",
    "writer = pd.ExcelWriter('calendario2023.xlsx') \n",
    "#-----------------------------------\n",
    "for i in range(12): \n",
    "    array1 = np.arange(start=1, stop=lista2[i]+1) #1-31 #PRIMERO CREO EL ARRAY\n",
    "    df = pd.DataFrame([array1], columns=array1, index=['dias'])\n",
    "    df.to_excel(writer, sheet_name=lista1[i], index=False)\n",
    "#-----------------------------------\n",
    "writer.save()\n",
    "writer.close()"
   ]
  },
  {
   "cell_type": "code",
   "execution_count": null,
   "id": "1fcc9e76",
   "metadata": {},
   "outputs": [],
   "source": []
  }
 ],
 "metadata": {
  "kernelspec": {
   "display_name": "Python 3 (ipykernel)",
   "language": "python",
   "name": "python3"
  },
  "language_info": {
   "codemirror_mode": {
    "name": "ipython",
    "version": 3
   },
   "file_extension": ".py",
   "mimetype": "text/x-python",
   "name": "python",
   "nbconvert_exporter": "python",
   "pygments_lexer": "ipython3",
   "version": "3.10.0"
  }
 },
 "nbformat": 4,
 "nbformat_minor": 5
}
