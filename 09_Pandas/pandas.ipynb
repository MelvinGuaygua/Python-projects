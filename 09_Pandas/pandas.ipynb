{
 "cells": [
  {
   "cell_type": "markdown",
   "metadata": {},
   "source": [
    "__Cuaderno de trabajo de:__ Nombre Apellido"
   ]
  },
  {
   "cell_type": "markdown",
   "metadata": {},
   "source": [
    "# Pandas"
   ]
  },
  {
   "cell_type": "markdown",
   "metadata": {},
   "source": [
    "Antes de poder hacer estadística descriptiva, o inferencia estadística, es necesario recolectar los datos, y es muy conveniente cargarlos en el ordenador en un formato adecuado.\n",
    "También es importante *inspeccionar* y *previsualizar* esos datos para detectar posibles errores en los propios datos o en alguna de las fases del proceso de recolección.\n",
    "\n",
    "`pandas` es una librería de python cuyo objetivo es ayudar en estas fases previas al análisis estadístico, para simplificar el trabajo posterior.\n",
    "\n",
    "Para ello, `pandas` proporciona los `dataframes`, unas estructuras de datos bidimensionales, similares a las tablas de una hoja de cálculo, fáciles de usar y de alto rendimiento."
   ]
  },
  {
   "cell_type": "markdown",
   "metadata": {},
   "source": [
    "## Creación de dataframes\n",
    "\n",
    "Podemos crear un dataframe a partir de varias Series: cada una actuará a modo de registro en nuestra tabla. Por ejemplo, crearemos una tabla con tres registros y cuyas columnas sean `Cost`, `Item Purchased` y `Name`:"
   ]
  },
  {
   "cell_type": "code",
   "execution_count": 1,
   "metadata": {},
   "outputs": [],
   "source": [
    "%matplotlib inline\n",
    "import matplotlib.pyplot as plt\n",
    "import pandas as pd\n",
    "import numpy as np\n",
    "\n",
    "import seaborn as sns"
   ]
  },
  {
   "cell_type": "code",
   "execution_count": 2,
   "metadata": {
    "code_folding": []
   },
   "outputs": [],
   "source": [
    "compra_01 = pd.Series({'Nombre': 'Homer',\n",
    "                        'Artículo': 'Rosquillas',\n",
    "                        'Precio': 3.70})\n",
    "compra_02 =  pd.Series({'Nombre': 'Barney',\n",
    "                        'Artículo': 'Cerveza duff',\n",
    "                        'Precio': 6.00})\n",
    "compra_03 =  pd.Series({'Nombre': 'Lenny',\n",
    "                        'Artículo': 'Leche',\n",
    "                        'Precio': 4.50})\n",
    "\n",
    "df = pd.DataFrame([compra_01, compra_02, compra_03], index=['Tienda 01', 'Tienda 02', 'Tienda 03'])"
   ]
  },
  {
   "cell_type": "markdown",
   "metadata": {},
   "source": [
    "Observamos que basta proporcionarle una serie por cada entrada en nuestra tabla. Además, los campos de la Serie deben ser los mismos a lo largo de cada registro, con el fin de que se pueda formar correctamente la tabla.\n",
    "El argumento index sirve para introducir identificadores a cada registro. Por defecto será un número entero, pero en este caso hemos utilizado strings."
   ]
  },
  {
   "cell_type": "code",
   "execution_count": 3,
   "metadata": {},
   "outputs": [
    {
     "data": {
      "text/html": [
       "<div>\n",
       "<style scoped>\n",
       "    .dataframe tbody tr th:only-of-type {\n",
       "        vertical-align: middle;\n",
       "    }\n",
       "\n",
       "    .dataframe tbody tr th {\n",
       "        vertical-align: top;\n",
       "    }\n",
       "\n",
       "    .dataframe thead th {\n",
       "        text-align: right;\n",
       "    }\n",
       "</style>\n",
       "<table border=\"1\" class=\"dataframe\">\n",
       "  <thead>\n",
       "    <tr style=\"text-align: right;\">\n",
       "      <th></th>\n",
       "      <th>Nombre</th>\n",
       "      <th>Artículo</th>\n",
       "      <th>Precio</th>\n",
       "    </tr>\n",
       "  </thead>\n",
       "  <tbody>\n",
       "    <tr>\n",
       "      <th>Tienda 01</th>\n",
       "      <td>Homer</td>\n",
       "      <td>Rosquillas</td>\n",
       "      <td>3.7</td>\n",
       "    </tr>\n",
       "    <tr>\n",
       "      <th>Tienda 02</th>\n",
       "      <td>Barney</td>\n",
       "      <td>Cerveza duff</td>\n",
       "      <td>6.0</td>\n",
       "    </tr>\n",
       "    <tr>\n",
       "      <th>Tienda 03</th>\n",
       "      <td>Lenny</td>\n",
       "      <td>Leche</td>\n",
       "      <td>4.5</td>\n",
       "    </tr>\n",
       "  </tbody>\n",
       "</table>\n",
       "</div>"
      ],
      "text/plain": [
       "           Nombre      Artículo  Precio\n",
       "Tienda 01   Homer    Rosquillas     3.7\n",
       "Tienda 02  Barney  Cerveza duff     6.0\n",
       "Tienda 03   Lenny         Leche     4.5"
      ]
     },
     "execution_count": 3,
     "metadata": {},
     "output_type": "execute_result"
    }
   ],
   "source": [
    "df.head()"
   ]
  },
  {
   "cell_type": "markdown",
   "metadata": {},
   "source": [
    "Para seleccionar un subconjunto de registros conociendo su índice, podemos utilizar `loc`"
   ]
  },
  {
   "cell_type": "code",
   "execution_count": 4,
   "metadata": {},
   "outputs": [
    {
     "data": {
      "text/plain": [
       "Tienda 01    3.7\n",
       "Tienda 02    6.0\n",
       "Tienda 03    4.5\n",
       "Name: Precio, dtype: float64"
      ]
     },
     "execution_count": 4,
     "metadata": {},
     "output_type": "execute_result"
    }
   ],
   "source": [
    "df['Precio']"
   ]
  },
  {
   "cell_type": "code",
   "execution_count": 5,
   "metadata": {},
   "outputs": [
    {
     "data": {
      "text/plain": [
       "Nombre            Barney\n",
       "Artículo    Cerveza duff\n",
       "Precio               6.0\n",
       "Name: Tienda 02, dtype: object"
      ]
     },
     "execution_count": 5,
     "metadata": {},
     "output_type": "execute_result"
    }
   ],
   "source": [
    "df.loc['Tienda 02']"
   ]
  },
  {
   "cell_type": "code",
   "execution_count": 6,
   "metadata": {},
   "outputs": [
    {
     "data": {
      "text/plain": [
       "pandas.core.series.Series"
      ]
     },
     "execution_count": 6,
     "metadata": {},
     "output_type": "execute_result"
    }
   ],
   "source": [
    "type(df['Precio'])"
   ]
  },
  {
   "cell_type": "code",
   "execution_count": 7,
   "metadata": {},
   "outputs": [
    {
     "data": {
      "text/plain": [
       "3.7"
      ]
     },
     "execution_count": 7,
     "metadata": {},
     "output_type": "execute_result"
    }
   ],
   "source": [
    "df.loc['Tienda 01']['Precio']"
   ]
  },
  {
   "cell_type": "code",
   "execution_count": 8,
   "metadata": {},
   "outputs": [
    {
     "data": {
      "text/plain": [
       "3.7"
      ]
     },
     "execution_count": 8,
     "metadata": {},
     "output_type": "execute_result"
    }
   ],
   "source": [
    "df.loc['Tienda 01', 'Precio']"
   ]
  },
  {
   "cell_type": "code",
   "execution_count": 9,
   "metadata": {},
   "outputs": [
    {
     "data": {
      "text/plain": [
       "numpy.float64"
      ]
     },
     "execution_count": 9,
     "metadata": {},
     "output_type": "execute_result"
    }
   ],
   "source": [
    "type(df.loc['Tienda 01', 'Precio'])"
   ]
  },
  {
   "cell_type": "markdown",
   "metadata": {},
   "source": [
    "A su vez, estos argumentos pueden ser listas!"
   ]
  },
  {
   "cell_type": "code",
   "execution_count": 10,
   "metadata": {},
   "outputs": [
    {
     "data": {
      "text/html": [
       "<div>\n",
       "<style scoped>\n",
       "    .dataframe tbody tr th:only-of-type {\n",
       "        vertical-align: middle;\n",
       "    }\n",
       "\n",
       "    .dataframe tbody tr th {\n",
       "        vertical-align: top;\n",
       "    }\n",
       "\n",
       "    .dataframe thead th {\n",
       "        text-align: right;\n",
       "    }\n",
       "</style>\n",
       "<table border=\"1\" class=\"dataframe\">\n",
       "  <thead>\n",
       "    <tr style=\"text-align: right;\">\n",
       "      <th></th>\n",
       "      <th>Nombre</th>\n",
       "      <th>Artículo</th>\n",
       "      <th>Precio</th>\n",
       "    </tr>\n",
       "  </thead>\n",
       "  <tbody>\n",
       "    <tr>\n",
       "      <th>Tienda 01</th>\n",
       "      <td>Homer</td>\n",
       "      <td>Rosquillas</td>\n",
       "      <td>3.7</td>\n",
       "    </tr>\n",
       "    <tr>\n",
       "      <th>Tienda 02</th>\n",
       "      <td>Barney</td>\n",
       "      <td>Cerveza duff</td>\n",
       "      <td>6.0</td>\n",
       "    </tr>\n",
       "  </tbody>\n",
       "</table>\n",
       "</div>"
      ],
      "text/plain": [
       "           Nombre      Artículo  Precio\n",
       "Tienda 01   Homer    Rosquillas     3.7\n",
       "Tienda 02  Barney  Cerveza duff     6.0"
      ]
     },
     "execution_count": 10,
     "metadata": {},
     "output_type": "execute_result"
    }
   ],
   "source": [
    "df.loc[['Tienda 01', 'Tienda 02']]"
   ]
  },
  {
   "cell_type": "code",
   "execution_count": 11,
   "metadata": {},
   "outputs": [
    {
     "data": {
      "text/html": [
       "<div>\n",
       "<style scoped>\n",
       "    .dataframe tbody tr th:only-of-type {\n",
       "        vertical-align: middle;\n",
       "    }\n",
       "\n",
       "    .dataframe tbody tr th {\n",
       "        vertical-align: top;\n",
       "    }\n",
       "\n",
       "    .dataframe thead th {\n",
       "        text-align: right;\n",
       "    }\n",
       "</style>\n",
       "<table border=\"1\" class=\"dataframe\">\n",
       "  <thead>\n",
       "    <tr style=\"text-align: right;\">\n",
       "      <th></th>\n",
       "      <th>Precio</th>\n",
       "      <th>Nombre</th>\n",
       "    </tr>\n",
       "  </thead>\n",
       "  <tbody>\n",
       "    <tr>\n",
       "      <th>Tienda 01</th>\n",
       "      <td>3.7</td>\n",
       "      <td>Homer</td>\n",
       "    </tr>\n",
       "    <tr>\n",
       "      <th>Tienda 02</th>\n",
       "      <td>6.0</td>\n",
       "      <td>Barney</td>\n",
       "    </tr>\n",
       "  </tbody>\n",
       "</table>\n",
       "</div>"
      ],
      "text/plain": [
       "           Precio  Nombre\n",
       "Tienda 01     3.7   Homer\n",
       "Tienda 02     6.0  Barney"
      ]
     },
     "execution_count": 11,
     "metadata": {},
     "output_type": "execute_result"
    }
   ],
   "source": [
    "df[['Precio','Nombre']].loc[['Tienda 01', 'Tienda 02']]"
   ]
  },
  {
   "cell_type": "code",
   "execution_count": 12,
   "metadata": {},
   "outputs": [
    {
     "data": {
      "text/html": [
       "<div>\n",
       "<style scoped>\n",
       "    .dataframe tbody tr th:only-of-type {\n",
       "        vertical-align: middle;\n",
       "    }\n",
       "\n",
       "    .dataframe tbody tr th {\n",
       "        vertical-align: top;\n",
       "    }\n",
       "\n",
       "    .dataframe thead th {\n",
       "        text-align: right;\n",
       "    }\n",
       "</style>\n",
       "<table border=\"1\" class=\"dataframe\">\n",
       "  <thead>\n",
       "    <tr style=\"text-align: right;\">\n",
       "      <th></th>\n",
       "      <th>Precio</th>\n",
       "      <th>Nombre</th>\n",
       "    </tr>\n",
       "  </thead>\n",
       "  <tbody>\n",
       "    <tr>\n",
       "      <th>Tienda 01</th>\n",
       "      <td>3.7</td>\n",
       "      <td>Homer</td>\n",
       "    </tr>\n",
       "    <tr>\n",
       "      <th>Tienda 02</th>\n",
       "      <td>6.0</td>\n",
       "      <td>Barney</td>\n",
       "    </tr>\n",
       "  </tbody>\n",
       "</table>\n",
       "</div>"
      ],
      "text/plain": [
       "           Precio  Nombre\n",
       "Tienda 01     3.7   Homer\n",
       "Tienda 02     6.0  Barney"
      ]
     },
     "execution_count": 12,
     "metadata": {},
     "output_type": "execute_result"
    }
   ],
   "source": [
    "df.loc[['Tienda 01', 'Tienda 02']][['Precio','Nombre']]"
   ]
  },
  {
   "cell_type": "markdown",
   "metadata": {},
   "source": [
    "Si en lugar de mediante los strings queremos acceder utilizando las posiciones (como enteros), podemos usar `iloc`.\n",
    "Por ejemplo, el siguiente comando toma las dos primeras filas y todas las columnas"
   ]
  },
  {
   "cell_type": "code",
   "execution_count": 13,
   "metadata": {},
   "outputs": [
    {
     "data": {
      "text/html": [
       "<div>\n",
       "<style scoped>\n",
       "    .dataframe tbody tr th:only-of-type {\n",
       "        vertical-align: middle;\n",
       "    }\n",
       "\n",
       "    .dataframe tbody tr th {\n",
       "        vertical-align: top;\n",
       "    }\n",
       "\n",
       "    .dataframe thead th {\n",
       "        text-align: right;\n",
       "    }\n",
       "</style>\n",
       "<table border=\"1\" class=\"dataframe\">\n",
       "  <thead>\n",
       "    <tr style=\"text-align: right;\">\n",
       "      <th></th>\n",
       "      <th>Nombre</th>\n",
       "      <th>Artículo</th>\n",
       "      <th>Precio</th>\n",
       "    </tr>\n",
       "  </thead>\n",
       "  <tbody>\n",
       "    <tr>\n",
       "      <th>Tienda 01</th>\n",
       "      <td>Homer</td>\n",
       "      <td>Rosquillas</td>\n",
       "      <td>3.7</td>\n",
       "    </tr>\n",
       "    <tr>\n",
       "      <th>Tienda 02</th>\n",
       "      <td>Barney</td>\n",
       "      <td>Cerveza duff</td>\n",
       "      <td>6.0</td>\n",
       "    </tr>\n",
       "    <tr>\n",
       "      <th>Tienda 03</th>\n",
       "      <td>Lenny</td>\n",
       "      <td>Leche</td>\n",
       "      <td>4.5</td>\n",
       "    </tr>\n",
       "  </tbody>\n",
       "</table>\n",
       "</div>"
      ],
      "text/plain": [
       "           Nombre      Artículo  Precio\n",
       "Tienda 01   Homer    Rosquillas     3.7\n",
       "Tienda 02  Barney  Cerveza duff     6.0\n",
       "Tienda 03   Lenny         Leche     4.5"
      ]
     },
     "execution_count": 13,
     "metadata": {},
     "output_type": "execute_result"
    }
   ],
   "source": [
    "df"
   ]
  },
  {
   "cell_type": "code",
   "execution_count": 14,
   "metadata": {},
   "outputs": [
    {
     "data": {
      "text/html": [
       "<div>\n",
       "<style scoped>\n",
       "    .dataframe tbody tr th:only-of-type {\n",
       "        vertical-align: middle;\n",
       "    }\n",
       "\n",
       "    .dataframe tbody tr th {\n",
       "        vertical-align: top;\n",
       "    }\n",
       "\n",
       "    .dataframe thead th {\n",
       "        text-align: right;\n",
       "    }\n",
       "</style>\n",
       "<table border=\"1\" class=\"dataframe\">\n",
       "  <thead>\n",
       "    <tr style=\"text-align: right;\">\n",
       "      <th></th>\n",
       "      <th>Nombre</th>\n",
       "      <th>Artículo</th>\n",
       "      <th>Precio</th>\n",
       "    </tr>\n",
       "  </thead>\n",
       "  <tbody>\n",
       "    <tr>\n",
       "      <th>Tienda 02</th>\n",
       "      <td>Barney</td>\n",
       "      <td>Cerveza duff</td>\n",
       "      <td>6.0</td>\n",
       "    </tr>\n",
       "    <tr>\n",
       "      <th>Tienda 03</th>\n",
       "      <td>Lenny</td>\n",
       "      <td>Leche</td>\n",
       "      <td>4.5</td>\n",
       "    </tr>\n",
       "  </tbody>\n",
       "</table>\n",
       "</div>"
      ],
      "text/plain": [
       "           Nombre      Artículo  Precio\n",
       "Tienda 02  Barney  Cerveza duff     6.0\n",
       "Tienda 03   Lenny         Leche     4.5"
      ]
     },
     "execution_count": 14,
     "metadata": {},
     "output_type": "execute_result"
    }
   ],
   "source": [
    "df.iloc[1:]"
   ]
  },
  {
   "cell_type": "code",
   "execution_count": 15,
   "metadata": {},
   "outputs": [
    {
     "data": {
      "text/html": [
       "<div>\n",
       "<style scoped>\n",
       "    .dataframe tbody tr th:only-of-type {\n",
       "        vertical-align: middle;\n",
       "    }\n",
       "\n",
       "    .dataframe tbody tr th {\n",
       "        vertical-align: top;\n",
       "    }\n",
       "\n",
       "    .dataframe thead th {\n",
       "        text-align: right;\n",
       "    }\n",
       "</style>\n",
       "<table border=\"1\" class=\"dataframe\">\n",
       "  <thead>\n",
       "    <tr style=\"text-align: right;\">\n",
       "      <th></th>\n",
       "      <th>Nombre</th>\n",
       "      <th>Artículo</th>\n",
       "    </tr>\n",
       "  </thead>\n",
       "  <tbody>\n",
       "    <tr>\n",
       "      <th>Tienda 01</th>\n",
       "      <td>Homer</td>\n",
       "      <td>Rosquillas</td>\n",
       "    </tr>\n",
       "    <tr>\n",
       "      <th>Tienda 02</th>\n",
       "      <td>Barney</td>\n",
       "      <td>Cerveza duff</td>\n",
       "    </tr>\n",
       "  </tbody>\n",
       "</table>\n",
       "</div>"
      ],
      "text/plain": [
       "           Nombre      Artículo\n",
       "Tienda 01   Homer    Rosquillas\n",
       "Tienda 02  Barney  Cerveza duff"
      ]
     },
     "execution_count": 15,
     "metadata": {},
     "output_type": "execute_result"
    }
   ],
   "source": [
    "df.iloc[:2,:2]"
   ]
  },
  {
   "cell_type": "code",
   "execution_count": 16,
   "metadata": {},
   "outputs": [
    {
     "data": {
      "text/html": [
       "<div>\n",
       "<style scoped>\n",
       "    .dataframe tbody tr th:only-of-type {\n",
       "        vertical-align: middle;\n",
       "    }\n",
       "\n",
       "    .dataframe tbody tr th {\n",
       "        vertical-align: top;\n",
       "    }\n",
       "\n",
       "    .dataframe thead th {\n",
       "        text-align: right;\n",
       "    }\n",
       "</style>\n",
       "<table border=\"1\" class=\"dataframe\">\n",
       "  <thead>\n",
       "    <tr style=\"text-align: right;\">\n",
       "      <th></th>\n",
       "      <th>Nombre</th>\n",
       "      <th>Artículo</th>\n",
       "      <th>Precio</th>\n",
       "    </tr>\n",
       "  </thead>\n",
       "  <tbody>\n",
       "    <tr>\n",
       "      <th>Tienda 01</th>\n",
       "      <td>Homer</td>\n",
       "      <td>Rosquillas</td>\n",
       "      <td>3.7</td>\n",
       "    </tr>\n",
       "    <tr>\n",
       "      <th>Tienda 02</th>\n",
       "      <td>Barney</td>\n",
       "      <td>Cerveza duff</td>\n",
       "      <td>6.0</td>\n",
       "    </tr>\n",
       "  </tbody>\n",
       "</table>\n",
       "</div>"
      ],
      "text/plain": [
       "           Nombre      Artículo  Precio\n",
       "Tienda 01   Homer    Rosquillas     3.7\n",
       "Tienda 02  Barney  Cerveza duff     6.0"
      ]
     },
     "execution_count": 16,
     "metadata": {},
     "output_type": "execute_result"
    }
   ],
   "source": [
    "df[:2]"
   ]
  },
  {
   "cell_type": "markdown",
   "metadata": {},
   "source": [
    "<br>\n",
    "Si queremos borrar algún registro conociendo su índice, basta usar `drop`"
   ]
  },
  {
   "cell_type": "code",
   "execution_count": 17,
   "metadata": {},
   "outputs": [],
   "source": [
    "df2=df.drop('Tienda 01')"
   ]
  },
  {
   "cell_type": "code",
   "execution_count": 18,
   "metadata": {},
   "outputs": [
    {
     "data": {
      "text/html": [
       "<div>\n",
       "<style scoped>\n",
       "    .dataframe tbody tr th:only-of-type {\n",
       "        vertical-align: middle;\n",
       "    }\n",
       "\n",
       "    .dataframe tbody tr th {\n",
       "        vertical-align: top;\n",
       "    }\n",
       "\n",
       "    .dataframe thead th {\n",
       "        text-align: right;\n",
       "    }\n",
       "</style>\n",
       "<table border=\"1\" class=\"dataframe\">\n",
       "  <thead>\n",
       "    <tr style=\"text-align: right;\">\n",
       "      <th></th>\n",
       "      <th>Nombre</th>\n",
       "      <th>Artículo</th>\n",
       "      <th>Precio</th>\n",
       "    </tr>\n",
       "  </thead>\n",
       "  <tbody>\n",
       "    <tr>\n",
       "      <th>Tienda 02</th>\n",
       "      <td>Barney</td>\n",
       "      <td>Cerveza duff</td>\n",
       "      <td>6.0</td>\n",
       "    </tr>\n",
       "    <tr>\n",
       "      <th>Tienda 03</th>\n",
       "      <td>Lenny</td>\n",
       "      <td>Leche</td>\n",
       "      <td>4.5</td>\n",
       "    </tr>\n",
       "  </tbody>\n",
       "</table>\n",
       "</div>"
      ],
      "text/plain": [
       "           Nombre      Artículo  Precio\n",
       "Tienda 02  Barney  Cerveza duff     6.0\n",
       "Tienda 03   Lenny         Leche     4.5"
      ]
     },
     "execution_count": 18,
     "metadata": {},
     "output_type": "execute_result"
    }
   ],
   "source": [
    "df2"
   ]
  },
  {
   "cell_type": "code",
   "execution_count": 19,
   "metadata": {},
   "outputs": [
    {
     "data": {
      "text/html": [
       "<div>\n",
       "<style scoped>\n",
       "    .dataframe tbody tr th:only-of-type {\n",
       "        vertical-align: middle;\n",
       "    }\n",
       "\n",
       "    .dataframe tbody tr th {\n",
       "        vertical-align: top;\n",
       "    }\n",
       "\n",
       "    .dataframe thead th {\n",
       "        text-align: right;\n",
       "    }\n",
       "</style>\n",
       "<table border=\"1\" class=\"dataframe\">\n",
       "  <thead>\n",
       "    <tr style=\"text-align: right;\">\n",
       "      <th></th>\n",
       "      <th>Nombre</th>\n",
       "      <th>Artículo</th>\n",
       "      <th>Precio</th>\n",
       "    </tr>\n",
       "  </thead>\n",
       "  <tbody>\n",
       "    <tr>\n",
       "      <th>Tienda 01</th>\n",
       "      <td>Homer</td>\n",
       "      <td>Rosquillas</td>\n",
       "      <td>3.7</td>\n",
       "    </tr>\n",
       "    <tr>\n",
       "      <th>Tienda 02</th>\n",
       "      <td>Barney</td>\n",
       "      <td>Cerveza duff</td>\n",
       "      <td>6.0</td>\n",
       "    </tr>\n",
       "    <tr>\n",
       "      <th>Tienda 03</th>\n",
       "      <td>Lenny</td>\n",
       "      <td>Leche</td>\n",
       "      <td>4.5</td>\n",
       "    </tr>\n",
       "  </tbody>\n",
       "</table>\n",
       "</div>"
      ],
      "text/plain": [
       "           Nombre      Artículo  Precio\n",
       "Tienda 01   Homer    Rosquillas     3.7\n",
       "Tienda 02  Barney  Cerveza duff     6.0\n",
       "Tienda 03   Lenny         Leche     4.5"
      ]
     },
     "execution_count": 19,
     "metadata": {},
     "output_type": "execute_result"
    }
   ],
   "source": [
    "#Atención: df sigue igual que antes\n",
    "df"
   ]
  },
  {
   "cell_type": "markdown",
   "metadata": {},
   "source": [
    "El comando `drop`, por defecto, crea una copia con el nuevo dataframe actualizado. En lugar de `df2 = df.drop(...)` podemos hacer lo siguiente para que la actualización se realice en el mismo lugar de memoria del objeto `df`\n",
    "\n",
    "```python\n",
    "df.drop('Tienda 01', inplace=True)\n",
    "```\n",
    "\n",
    "> **pandas suele devolver un nuevo DataFrame, sin modificar el DataFrame original**"
   ]
  },
  {
   "cell_type": "code",
   "execution_count": 20,
   "metadata": {
    "scrolled": true
   },
   "outputs": [
    {
     "data": {
      "text/html": [
       "<div>\n",
       "<style scoped>\n",
       "    .dataframe tbody tr th:only-of-type {\n",
       "        vertical-align: middle;\n",
       "    }\n",
       "\n",
       "    .dataframe tbody tr th {\n",
       "        vertical-align: top;\n",
       "    }\n",
       "\n",
       "    .dataframe thead th {\n",
       "        text-align: right;\n",
       "    }\n",
       "</style>\n",
       "<table border=\"1\" class=\"dataframe\">\n",
       "  <thead>\n",
       "    <tr style=\"text-align: right;\">\n",
       "      <th></th>\n",
       "      <th>Nombre</th>\n",
       "      <th>Artículo</th>\n",
       "      <th>Precio</th>\n",
       "    </tr>\n",
       "  </thead>\n",
       "  <tbody>\n",
       "    <tr>\n",
       "      <th>Tienda 02</th>\n",
       "      <td>Barney</td>\n",
       "      <td>Cerveza duff</td>\n",
       "      <td>6.0</td>\n",
       "    </tr>\n",
       "    <tr>\n",
       "      <th>Tienda 03</th>\n",
       "      <td>Lenny</td>\n",
       "      <td>Leche</td>\n",
       "      <td>4.5</td>\n",
       "    </tr>\n",
       "  </tbody>\n",
       "</table>\n",
       "</div>"
      ],
      "text/plain": [
       "           Nombre      Artículo  Precio\n",
       "Tienda 02  Barney  Cerveza duff     6.0\n",
       "Tienda 03   Lenny         Leche     4.5"
      ]
     },
     "execution_count": 20,
     "metadata": {},
     "output_type": "execute_result"
    }
   ],
   "source": [
    "df.drop('Tienda 01', inplace=True)\n",
    "df"
   ]
  },
  {
   "cell_type": "code",
   "execution_count": null,
   "metadata": {},
   "outputs": [],
   "source": []
  },
  {
   "cell_type": "markdown",
   "metadata": {},
   "source": [
    "### Otra forma de crear DataFrames\n",
    "\n",
    "Podemos pasar a ``pd.DataFrame`` como argumento un diccionario, donde las claves del diccionario son los nombres de las columnas y los valores son listas con los datos.\n",
    "*Todas las listas deben tener la misma longitud.*"
   ]
  },
  {
   "cell_type": "code",
   "execution_count": 21,
   "metadata": {},
   "outputs": [
    {
     "data": {
      "text/html": [
       "<div>\n",
       "<style scoped>\n",
       "    .dataframe tbody tr th:only-of-type {\n",
       "        vertical-align: middle;\n",
       "    }\n",
       "\n",
       "    .dataframe tbody tr th {\n",
       "        vertical-align: top;\n",
       "    }\n",
       "\n",
       "    .dataframe thead th {\n",
       "        text-align: right;\n",
       "    }\n",
       "</style>\n",
       "<table border=\"1\" class=\"dataframe\">\n",
       "  <thead>\n",
       "    <tr style=\"text-align: right;\">\n",
       "      <th></th>\n",
       "      <th>Cálculo</th>\n",
       "      <th>Álgebra</th>\n",
       "    </tr>\n",
       "  </thead>\n",
       "  <tbody>\n",
       "    <tr>\n",
       "      <th>Jaimita</th>\n",
       "      <td>10</td>\n",
       "      <td>8</td>\n",
       "    </tr>\n",
       "    <tr>\n",
       "      <th>Fulano</th>\n",
       "      <td>5</td>\n",
       "      <td>7</td>\n",
       "    </tr>\n",
       "    <tr>\n",
       "      <th>Mengano</th>\n",
       "      <td>8</td>\n",
       "      <td>6</td>\n",
       "    </tr>\n",
       "    <tr>\n",
       "      <th>Zutanita</th>\n",
       "      <td>7</td>\n",
       "      <td>5</td>\n",
       "    </tr>\n",
       "  </tbody>\n",
       "</table>\n",
       "</div>"
      ],
      "text/plain": [
       "          Cálculo  Álgebra\n",
       "Jaimita        10        8\n",
       "Fulano          5        7\n",
       "Mengano         8        6\n",
       "Zutanita        7        5"
      ]
     },
     "execution_count": 21,
     "metadata": {},
     "output_type": "execute_result"
    }
   ],
   "source": [
    "df = pd.DataFrame(data = {\n",
    "    \"Cálculo\": [10,5,8,7],\n",
    "    \"Álgebra\": [8,7,6,5],\n",
    "    },\n",
    "    index = [\"Jaimita\", \"Fulano\", \"Mengano\", \"Zutanita\"],\n",
    ")\n",
    "df"
   ]
  },
  {
   "cell_type": "markdown",
   "metadata": {},
   "source": [
    "## Carga de dataframes"
   ]
  },
  {
   "cell_type": "markdown",
   "metadata": {},
   "source": [
    "El trabajo normalmente no comienza con datos creados en el código, si no que éstos ya se encontrarán en archivos del disco duro. Pandas cuenta con funciones para leer el contenido de estos archivos, y volcarlos a un dataframe.\n",
    "\n",
    "De todas formas es importante poder crear nuevos DataFrames a partir de los que leemos del disco duro.\n",
    "\n",
    "Las funciones que se ocupan de esto comienzan por `pd.read_...`. Existen para documentos excel, html, json. Nosotros utilizaremos la más común, `pd.read_csv`, que lee del respectivo archivo .csv (cada fila es un registro de la tabla, y los valores están separados por comas)."
   ]
  },
  {
   "cell_type": "code",
   "execution_count": 22,
   "metadata": {},
   "outputs": [],
   "source": [
    "pd.read_csv?"
   ]
  },
  {
   "cell_type": "markdown",
   "metadata": {},
   "source": [
    "A continuación cargaremos datos `tips.csv` en un `dataframe` de `pandas`. Esta base de datos, contiene información acerca de las cuentas de un restaurante. "
   ]
  },
  {
   "cell_type": "code",
   "execution_count": 23,
   "metadata": {},
   "outputs": [],
   "source": [
    "tips = pd.read_csv('cuentas.csv')"
   ]
  },
  {
   "cell_type": "markdown",
   "metadata": {},
   "source": [
    "Además del nombre del archivo con los datos, `read_csv` tiene otros argumentos opcionales. Los más utilizados son:\n",
    "    \n",
    "* nrows: lee solo cierto número de filas (útil para hacer una prueba antes de procesar un archivo muy grande).\n",
    "* usecols: el dataframe resultante solo tendrá estas columnas\n",
    "* dtype: especifica el tipo de cada columna (por defecto, pandas trata de inferirlo automáticamente de los datos, pero a veces es necesario: por ejemplo para que lea un número como string en lugar de int)."
   ]
  },
  {
   "cell_type": "markdown",
   "metadata": {},
   "source": [
    "# Análisis exploratorio"
   ]
  },
  {
   "cell_type": "markdown",
   "metadata": {},
   "source": [
    "Una vez ya tenemos los datos cargados, podemos echarles un vistazo mediante las siguientes cuatro funciones: `head` y `tail` para observar las primeras y últimas filas, respectivamente, `describe` para obtener algunos estadísticos básicos, e `info` para obtener datos sobre los tipos"
   ]
  },
  {
   "cell_type": "code",
   "execution_count": 24,
   "metadata": {},
   "outputs": [
    {
     "data": {
      "text/html": [
       "<div>\n",
       "<style scoped>\n",
       "    .dataframe tbody tr th:only-of-type {\n",
       "        vertical-align: middle;\n",
       "    }\n",
       "\n",
       "    .dataframe tbody tr th {\n",
       "        vertical-align: top;\n",
       "    }\n",
       "\n",
       "    .dataframe thead th {\n",
       "        text-align: right;\n",
       "    }\n",
       "</style>\n",
       "<table border=\"1\" class=\"dataframe\">\n",
       "  <thead>\n",
       "    <tr style=\"text-align: right;\">\n",
       "      <th></th>\n",
       "      <th>cuenta</th>\n",
       "      <th>propina</th>\n",
       "      <th>sex</th>\n",
       "      <th>fumador</th>\n",
       "      <th>día</th>\n",
       "      <th>hora</th>\n",
       "      <th>tamaño</th>\n",
       "    </tr>\n",
       "  </thead>\n",
       "  <tbody>\n",
       "    <tr>\n",
       "      <th>0</th>\n",
       "      <td>16.99</td>\n",
       "      <td>1.01</td>\n",
       "      <td>Mujer</td>\n",
       "      <td>No</td>\n",
       "      <td>Domingo</td>\n",
       "      <td>Comida</td>\n",
       "      <td>2</td>\n",
       "    </tr>\n",
       "    <tr>\n",
       "      <th>1</th>\n",
       "      <td>10.34</td>\n",
       "      <td>1.66</td>\n",
       "      <td>Hombre</td>\n",
       "      <td>No</td>\n",
       "      <td>Domingo</td>\n",
       "      <td>Comida</td>\n",
       "      <td>3</td>\n",
       "    </tr>\n",
       "    <tr>\n",
       "      <th>2</th>\n",
       "      <td>21.01</td>\n",
       "      <td>3.50</td>\n",
       "      <td>Hombre</td>\n",
       "      <td>No</td>\n",
       "      <td>Domingo</td>\n",
       "      <td>Comida</td>\n",
       "      <td>3</td>\n",
       "    </tr>\n",
       "    <tr>\n",
       "      <th>3</th>\n",
       "      <td>23.68</td>\n",
       "      <td>3.31</td>\n",
       "      <td>Hombre</td>\n",
       "      <td>No</td>\n",
       "      <td>Domingo</td>\n",
       "      <td>Comida</td>\n",
       "      <td>2</td>\n",
       "    </tr>\n",
       "    <tr>\n",
       "      <th>4</th>\n",
       "      <td>24.59</td>\n",
       "      <td>3.61</td>\n",
       "      <td>Mujer</td>\n",
       "      <td>No</td>\n",
       "      <td>Domingo</td>\n",
       "      <td>Comida</td>\n",
       "      <td>4</td>\n",
       "    </tr>\n",
       "    <tr>\n",
       "      <th>5</th>\n",
       "      <td>25.29</td>\n",
       "      <td>4.71</td>\n",
       "      <td>Hombre</td>\n",
       "      <td>No</td>\n",
       "      <td>Domingo</td>\n",
       "      <td>Comida</td>\n",
       "      <td>4</td>\n",
       "    </tr>\n",
       "    <tr>\n",
       "      <th>6</th>\n",
       "      <td>8.77</td>\n",
       "      <td>2.00</td>\n",
       "      <td>Hombre</td>\n",
       "      <td>No</td>\n",
       "      <td>Domingo</td>\n",
       "      <td>Comida</td>\n",
       "      <td>2</td>\n",
       "    </tr>\n",
       "    <tr>\n",
       "      <th>7</th>\n",
       "      <td>26.88</td>\n",
       "      <td>3.12</td>\n",
       "      <td>Hombre</td>\n",
       "      <td>No</td>\n",
       "      <td>Domingo</td>\n",
       "      <td>Comida</td>\n",
       "      <td>4</td>\n",
       "    </tr>\n",
       "    <tr>\n",
       "      <th>8</th>\n",
       "      <td>15.04</td>\n",
       "      <td>1.96</td>\n",
       "      <td>Hombre</td>\n",
       "      <td>No</td>\n",
       "      <td>Domingo</td>\n",
       "      <td>Comida</td>\n",
       "      <td>2</td>\n",
       "    </tr>\n",
       "    <tr>\n",
       "      <th>9</th>\n",
       "      <td>14.78</td>\n",
       "      <td>3.23</td>\n",
       "      <td>Hombre</td>\n",
       "      <td>No</td>\n",
       "      <td>Domingo</td>\n",
       "      <td>Comida</td>\n",
       "      <td>2</td>\n",
       "    </tr>\n",
       "  </tbody>\n",
       "</table>\n",
       "</div>"
      ],
      "text/plain": [
       "   cuenta  propina     sex fumador      día    hora  tamaño\n",
       "0   16.99     1.01   Mujer      No  Domingo  Comida       2\n",
       "1   10.34     1.66  Hombre      No  Domingo  Comida       3\n",
       "2   21.01     3.50  Hombre      No  Domingo  Comida       3\n",
       "3   23.68     3.31  Hombre      No  Domingo  Comida       2\n",
       "4   24.59     3.61   Mujer      No  Domingo  Comida       4\n",
       "5   25.29     4.71  Hombre      No  Domingo  Comida       4\n",
       "6    8.77     2.00  Hombre      No  Domingo  Comida       2\n",
       "7   26.88     3.12  Hombre      No  Domingo  Comida       4\n",
       "8   15.04     1.96  Hombre      No  Domingo  Comida       2\n",
       "9   14.78     3.23  Hombre      No  Domingo  Comida       2"
      ]
     },
     "execution_count": 24,
     "metadata": {},
     "output_type": "execute_result"
    }
   ],
   "source": [
    "tips.head(10) #Entre paréntesis, el número de entradas que queremos mostrar. Por defecto,\n",
    "            # este número es 5."
   ]
  },
  {
   "cell_type": "code",
   "execution_count": 25,
   "metadata": {},
   "outputs": [
    {
     "data": {
      "text/html": [
       "<div>\n",
       "<style scoped>\n",
       "    .dataframe tbody tr th:only-of-type {\n",
       "        vertical-align: middle;\n",
       "    }\n",
       "\n",
       "    .dataframe tbody tr th {\n",
       "        vertical-align: top;\n",
       "    }\n",
       "\n",
       "    .dataframe thead th {\n",
       "        text-align: right;\n",
       "    }\n",
       "</style>\n",
       "<table border=\"1\" class=\"dataframe\">\n",
       "  <thead>\n",
       "    <tr style=\"text-align: right;\">\n",
       "      <th></th>\n",
       "      <th>cuenta</th>\n",
       "      <th>propina</th>\n",
       "      <th>sex</th>\n",
       "      <th>fumador</th>\n",
       "      <th>día</th>\n",
       "      <th>hora</th>\n",
       "      <th>tamaño</th>\n",
       "    </tr>\n",
       "  </thead>\n",
       "  <tbody>\n",
       "    <tr>\n",
       "      <th>241</th>\n",
       "      <td>22.67</td>\n",
       "      <td>2.00</td>\n",
       "      <td>Hombre</td>\n",
       "      <td>Yes</td>\n",
       "      <td>Sábado</td>\n",
       "      <td>Comida</td>\n",
       "      <td>2</td>\n",
       "    </tr>\n",
       "    <tr>\n",
       "      <th>242</th>\n",
       "      <td>17.82</td>\n",
       "      <td>1.75</td>\n",
       "      <td>Hombre</td>\n",
       "      <td>No</td>\n",
       "      <td>Sábado</td>\n",
       "      <td>Comida</td>\n",
       "      <td>2</td>\n",
       "    </tr>\n",
       "    <tr>\n",
       "      <th>243</th>\n",
       "      <td>18.78</td>\n",
       "      <td>3.00</td>\n",
       "      <td>Mujer</td>\n",
       "      <td>No</td>\n",
       "      <td>Jueves</td>\n",
       "      <td>Comida</td>\n",
       "      <td>2</td>\n",
       "    </tr>\n",
       "  </tbody>\n",
       "</table>\n",
       "</div>"
      ],
      "text/plain": [
       "     cuenta  propina     sex fumador     día    hora  tamaño\n",
       "241   22.67     2.00  Hombre     Yes  Sábado  Comida       2\n",
       "242   17.82     1.75  Hombre      No  Sábado  Comida       2\n",
       "243   18.78     3.00   Mujer      No  Jueves  Comida       2"
      ]
     },
     "execution_count": 25,
     "metadata": {},
     "output_type": "execute_result"
    }
   ],
   "source": [
    "tips.tail(3)"
   ]
  },
  {
   "cell_type": "code",
   "execution_count": 26,
   "metadata": {},
   "outputs": [
    {
     "data": {
      "text/html": [
       "<div>\n",
       "<style scoped>\n",
       "    .dataframe tbody tr th:only-of-type {\n",
       "        vertical-align: middle;\n",
       "    }\n",
       "\n",
       "    .dataframe tbody tr th {\n",
       "        vertical-align: top;\n",
       "    }\n",
       "\n",
       "    .dataframe thead th {\n",
       "        text-align: right;\n",
       "    }\n",
       "</style>\n",
       "<table border=\"1\" class=\"dataframe\">\n",
       "  <thead>\n",
       "    <tr style=\"text-align: right;\">\n",
       "      <th></th>\n",
       "      <th>cuenta</th>\n",
       "      <th>propina</th>\n",
       "      <th>tamaño</th>\n",
       "    </tr>\n",
       "  </thead>\n",
       "  <tbody>\n",
       "    <tr>\n",
       "      <th>count</th>\n",
       "      <td>244.000000</td>\n",
       "      <td>244.000000</td>\n",
       "      <td>244.000000</td>\n",
       "    </tr>\n",
       "    <tr>\n",
       "      <th>mean</th>\n",
       "      <td>19.785943</td>\n",
       "      <td>2.998279</td>\n",
       "      <td>2.569672</td>\n",
       "    </tr>\n",
       "    <tr>\n",
       "      <th>std</th>\n",
       "      <td>8.902412</td>\n",
       "      <td>1.383638</td>\n",
       "      <td>0.951100</td>\n",
       "    </tr>\n",
       "    <tr>\n",
       "      <th>min</th>\n",
       "      <td>3.070000</td>\n",
       "      <td>1.000000</td>\n",
       "      <td>1.000000</td>\n",
       "    </tr>\n",
       "    <tr>\n",
       "      <th>25%</th>\n",
       "      <td>13.347500</td>\n",
       "      <td>2.000000</td>\n",
       "      <td>2.000000</td>\n",
       "    </tr>\n",
       "    <tr>\n",
       "      <th>50%</th>\n",
       "      <td>17.795000</td>\n",
       "      <td>2.900000</td>\n",
       "      <td>2.000000</td>\n",
       "    </tr>\n",
       "    <tr>\n",
       "      <th>75%</th>\n",
       "      <td>24.127500</td>\n",
       "      <td>3.562500</td>\n",
       "      <td>3.000000</td>\n",
       "    </tr>\n",
       "    <tr>\n",
       "      <th>max</th>\n",
       "      <td>50.810000</td>\n",
       "      <td>10.000000</td>\n",
       "      <td>6.000000</td>\n",
       "    </tr>\n",
       "  </tbody>\n",
       "</table>\n",
       "</div>"
      ],
      "text/plain": [
       "           cuenta     propina      tamaño\n",
       "count  244.000000  244.000000  244.000000\n",
       "mean    19.785943    2.998279    2.569672\n",
       "std      8.902412    1.383638    0.951100\n",
       "min      3.070000    1.000000    1.000000\n",
       "25%     13.347500    2.000000    2.000000\n",
       "50%     17.795000    2.900000    2.000000\n",
       "75%     24.127500    3.562500    3.000000\n",
       "max     50.810000   10.000000    6.000000"
      ]
     },
     "execution_count": 26,
     "metadata": {},
     "output_type": "execute_result"
    }
   ],
   "source": [
    "tips.describe()"
   ]
  },
  {
   "cell_type": "markdown",
   "metadata": {},
   "source": [
    "Para datos de tipo numérico, `describe` proporciona información del número de valores no omitidos (count), la media, la desviación estándar, los valores mínimo y máximo y algunos cuantiles, entre ellos la mediana (50%).\n",
    "\n",
    "En el caso de que la tabla contenga tanto datos numéricos como categóricos, `describe` por defecto solo muestra los estadísticos para las numéricas. Si queremos que también muestre los otros:"
   ]
  },
  {
   "cell_type": "code",
   "execution_count": 27,
   "metadata": {},
   "outputs": [
    {
     "data": {
      "text/html": [
       "<div>\n",
       "<style scoped>\n",
       "    .dataframe tbody tr th:only-of-type {\n",
       "        vertical-align: middle;\n",
       "    }\n",
       "\n",
       "    .dataframe tbody tr th {\n",
       "        vertical-align: top;\n",
       "    }\n",
       "\n",
       "    .dataframe thead th {\n",
       "        text-align: right;\n",
       "    }\n",
       "</style>\n",
       "<table border=\"1\" class=\"dataframe\">\n",
       "  <thead>\n",
       "    <tr style=\"text-align: right;\">\n",
       "      <th></th>\n",
       "      <th>cuenta</th>\n",
       "      <th>propina</th>\n",
       "      <th>sex</th>\n",
       "      <th>fumador</th>\n",
       "      <th>día</th>\n",
       "      <th>hora</th>\n",
       "      <th>tamaño</th>\n",
       "    </tr>\n",
       "  </thead>\n",
       "  <tbody>\n",
       "    <tr>\n",
       "      <th>count</th>\n",
       "      <td>244.000000</td>\n",
       "      <td>244.000000</td>\n",
       "      <td>244</td>\n",
       "      <td>244</td>\n",
       "      <td>244</td>\n",
       "      <td>244</td>\n",
       "      <td>244.000000</td>\n",
       "    </tr>\n",
       "    <tr>\n",
       "      <th>unique</th>\n",
       "      <td>NaN</td>\n",
       "      <td>NaN</td>\n",
       "      <td>2</td>\n",
       "      <td>2</td>\n",
       "      <td>4</td>\n",
       "      <td>2</td>\n",
       "      <td>NaN</td>\n",
       "    </tr>\n",
       "    <tr>\n",
       "      <th>top</th>\n",
       "      <td>NaN</td>\n",
       "      <td>NaN</td>\n",
       "      <td>Hombre</td>\n",
       "      <td>No</td>\n",
       "      <td>Sábado</td>\n",
       "      <td>Comida</td>\n",
       "      <td>NaN</td>\n",
       "    </tr>\n",
       "    <tr>\n",
       "      <th>freq</th>\n",
       "      <td>NaN</td>\n",
       "      <td>NaN</td>\n",
       "      <td>157</td>\n",
       "      <td>151</td>\n",
       "      <td>87</td>\n",
       "      <td>176</td>\n",
       "      <td>NaN</td>\n",
       "    </tr>\n",
       "    <tr>\n",
       "      <th>mean</th>\n",
       "      <td>19.785943</td>\n",
       "      <td>2.998279</td>\n",
       "      <td>NaN</td>\n",
       "      <td>NaN</td>\n",
       "      <td>NaN</td>\n",
       "      <td>NaN</td>\n",
       "      <td>2.569672</td>\n",
       "    </tr>\n",
       "    <tr>\n",
       "      <th>std</th>\n",
       "      <td>8.902412</td>\n",
       "      <td>1.383638</td>\n",
       "      <td>NaN</td>\n",
       "      <td>NaN</td>\n",
       "      <td>NaN</td>\n",
       "      <td>NaN</td>\n",
       "      <td>0.951100</td>\n",
       "    </tr>\n",
       "    <tr>\n",
       "      <th>min</th>\n",
       "      <td>3.070000</td>\n",
       "      <td>1.000000</td>\n",
       "      <td>NaN</td>\n",
       "      <td>NaN</td>\n",
       "      <td>NaN</td>\n",
       "      <td>NaN</td>\n",
       "      <td>1.000000</td>\n",
       "    </tr>\n",
       "    <tr>\n",
       "      <th>25%</th>\n",
       "      <td>13.347500</td>\n",
       "      <td>2.000000</td>\n",
       "      <td>NaN</td>\n",
       "      <td>NaN</td>\n",
       "      <td>NaN</td>\n",
       "      <td>NaN</td>\n",
       "      <td>2.000000</td>\n",
       "    </tr>\n",
       "    <tr>\n",
       "      <th>50%</th>\n",
       "      <td>17.795000</td>\n",
       "      <td>2.900000</td>\n",
       "      <td>NaN</td>\n",
       "      <td>NaN</td>\n",
       "      <td>NaN</td>\n",
       "      <td>NaN</td>\n",
       "      <td>2.000000</td>\n",
       "    </tr>\n",
       "    <tr>\n",
       "      <th>75%</th>\n",
       "      <td>24.127500</td>\n",
       "      <td>3.562500</td>\n",
       "      <td>NaN</td>\n",
       "      <td>NaN</td>\n",
       "      <td>NaN</td>\n",
       "      <td>NaN</td>\n",
       "      <td>3.000000</td>\n",
       "    </tr>\n",
       "    <tr>\n",
       "      <th>max</th>\n",
       "      <td>50.810000</td>\n",
       "      <td>10.000000</td>\n",
       "      <td>NaN</td>\n",
       "      <td>NaN</td>\n",
       "      <td>NaN</td>\n",
       "      <td>NaN</td>\n",
       "      <td>6.000000</td>\n",
       "    </tr>\n",
       "  </tbody>\n",
       "</table>\n",
       "</div>"
      ],
      "text/plain": [
       "            cuenta     propina     sex fumador     día    hora      tamaño\n",
       "count   244.000000  244.000000     244     244     244     244  244.000000\n",
       "unique         NaN         NaN       2       2       4       2         NaN\n",
       "top            NaN         NaN  Hombre      No  Sábado  Comida         NaN\n",
       "freq           NaN         NaN     157     151      87     176         NaN\n",
       "mean     19.785943    2.998279     NaN     NaN     NaN     NaN    2.569672\n",
       "std       8.902412    1.383638     NaN     NaN     NaN     NaN    0.951100\n",
       "min       3.070000    1.000000     NaN     NaN     NaN     NaN    1.000000\n",
       "25%      13.347500    2.000000     NaN     NaN     NaN     NaN    2.000000\n",
       "50%      17.795000    2.900000     NaN     NaN     NaN     NaN    2.000000\n",
       "75%      24.127500    3.562500     NaN     NaN     NaN     NaN    3.000000\n",
       "max      50.810000   10.000000     NaN     NaN     NaN     NaN    6.000000"
      ]
     },
     "execution_count": 27,
     "metadata": {},
     "output_type": "execute_result"
    }
   ],
   "source": [
    "tips.describe(include='all')"
   ]
  },
  {
   "cell_type": "markdown",
   "metadata": {},
   "source": [
    "Para las variables categóricas, se muestran los nuevos estadísticos de: número de valores únicos, valor más frecuente (top) y frecuencia de éste. Por ejemplo, para el caso del sexo, hay 244 anotaciones, y el valor más frecuente es Male (157 de 244), además de tener dos valores únicos (por lo que asumiremos que el otro valor es Female)"
   ]
  },
  {
   "cell_type": "code",
   "execution_count": 28,
   "metadata": {},
   "outputs": [
    {
     "data": {
      "image/png": "[encoded data removed]",
      "text/plain": [
       "<Figure size 432x288 with 3 Axes>"
      ]
     },
     "metadata": {
      "needs_background": "light"
     },
     "output_type": "display_data"
    }
   ],
   "source": [
    "# diagrama de caja \n",
    "tips.plot(kind='box', subplots=True, layout=(1,3), sharex=False, sharey=False)\n",
    "plt.show()"
   ]
  },
  {
   "cell_type": "markdown",
   "metadata": {},
   "source": [
    "<img src=\"440px-Boxplot_vs_PDF.svg.png\">  "
   ]
  },
  {
   "cell_type": "code",
   "execution_count": 29,
   "metadata": {},
   "outputs": [
    {
     "name": "stdout",
     "output_type": "stream",
     "text": [
      "<class 'pandas.core.frame.DataFrame'>\n",
      "RangeIndex: 244 entries, 0 to 243\n",
      "Data columns (total 7 columns):\n",
      " #   Column   Non-Null Count  Dtype  \n",
      "---  ------   --------------  -----  \n",
      " 0   cuenta   244 non-null    float64\n",
      " 1   propina  244 non-null    float64\n",
      " 2   sex      244 non-null    object \n",
      " 3   fumador  244 non-null    object \n",
      " 4   día      244 non-null    object \n",
      " 5   hora     244 non-null    object \n",
      " 6   tamaño   244 non-null    int64  \n",
      "dtypes: float64(2), int64(1), object(4)\n",
      "memory usage: 13.5+ KB\n"
     ]
    }
   ],
   "source": [
    "tips.info() "
   ]
  },
  {
   "cell_type": "markdown",
   "metadata": {},
   "source": [
    "### Covarianza\n",
    "\n",
    "Para estudiar la relación lineal existente entre dos variables continuas es necesario disponer de parámetros que permitan cuantificar dicha relación. Uno de estos parámetros es la covarianza, que mide el grado de variación conjunta de dos variables aleatorias.\n",
    "Covarianza muestral\n",
    "\n",
    "$$ Cov(X,Y)=\\frac{\\sum^{n}_{i=1}(x_i− \\bar x )(y_i− \\bar y)}{N−1} $$\n",
    "\n",
    "donde $\\bar x$ e $\\bar y$ son la media de cada variable, y $x_i$ e $y_i$ son el valor de las variables para la observación i.\n",
    "\n",
    "Valores positivos indican que las dos variables cambian en la misma dirección y, valores negativos, que lo hacen en direcciones opuestas.\n",
    "\n",
    "La principal limitación de la covarianza es que, su magnitud, depende de las escalas en que se miden las variables estudiadas. Esto implica que no puede utilizarse para comparar el grado de asociación entre pares de variables medidas en distintas escalas. Una forma de evitar esta limitación y poder hacer comparaciones consiste en estandarizar la covarianza, generando lo que se conoce como coeficientes de correlación.\n",
    "\n",
    "### Coeficientes de correlación lineal\n",
    "\n",
    "Los coeficientes de correlación lineal son estadísticos que cuantifican la asociación lineal entre dos variables numéricas. Su valor está comprendido en el rango [+1 , -1]. Siendo +1 una correlación positiva perfecta y -1 una correlación negativa perfecta, con 0 tendríamos una asociación nula.\n",
    "Existen varios tipos de correlación. La más conocida es, sin duda, la de Pearson. De hecho, si no decimos cuál estamos usando, se asume que usamos la de Pearson. Además de la de Pearson también tenemos la correlación de Spearman y la de Kendall."
   ]
  },
  {
   "cell_type": "code",
   "execution_count": 63,
   "metadata": {},
   "outputs": [
    {
     "data": {
      "text/html": [
       "<div>\n",
       "<style scoped>\n",
       "    .dataframe tbody tr th:only-of-type {\n",
       "        vertical-align: middle;\n",
       "    }\n",
       "\n",
       "    .dataframe tbody tr th {\n",
       "        vertical-align: top;\n",
       "    }\n",
       "\n",
       "    .dataframe thead th {\n",
       "        text-align: right;\n",
       "    }\n",
       "</style>\n",
       "<table border=\"1\" class=\"dataframe\">\n",
       "  <thead>\n",
       "    <tr style=\"text-align: right;\">\n",
       "      <th></th>\n",
       "      <th>cuenta</th>\n",
       "      <th>propina</th>\n",
       "      <th>tamaño</th>\n",
       "      <th>col_vacia</th>\n",
       "      <th>col_random</th>\n",
       "      <th>total</th>\n",
       "    </tr>\n",
       "  </thead>\n",
       "  <tbody>\n",
       "    <tr>\n",
       "      <th>cuenta</th>\n",
       "      <td>1.000000</td>\n",
       "      <td>0.675734</td>\n",
       "      <td>0.598315</td>\n",
       "      <td>NaN</td>\n",
       "      <td>-0.007979</td>\n",
       "      <td>0.954002</td>\n",
       "    </tr>\n",
       "    <tr>\n",
       "      <th>propina</th>\n",
       "      <td>0.675734</td>\n",
       "      <td>1.000000</td>\n",
       "      <td>0.489299</td>\n",
       "      <td>NaN</td>\n",
       "      <td>0.058079</td>\n",
       "      <td>0.722002</td>\n",
       "    </tr>\n",
       "    <tr>\n",
       "      <th>tamaño</th>\n",
       "      <td>0.598315</td>\n",
       "      <td>0.489299</td>\n",
       "      <td>1.000000</td>\n",
       "      <td>NaN</td>\n",
       "      <td>0.028530</td>\n",
       "      <td>0.596148</td>\n",
       "    </tr>\n",
       "    <tr>\n",
       "      <th>col_vacia</th>\n",
       "      <td>NaN</td>\n",
       "      <td>NaN</td>\n",
       "      <td>NaN</td>\n",
       "      <td>NaN</td>\n",
       "      <td>NaN</td>\n",
       "      <td>NaN</td>\n",
       "    </tr>\n",
       "    <tr>\n",
       "      <th>col_random</th>\n",
       "      <td>-0.007979</td>\n",
       "      <td>0.058079</td>\n",
       "      <td>0.028530</td>\n",
       "      <td>NaN</td>\n",
       "      <td>1.000000</td>\n",
       "      <td>0.003617</td>\n",
       "    </tr>\n",
       "    <tr>\n",
       "      <th>total</th>\n",
       "      <td>0.954002</td>\n",
       "      <td>0.722002</td>\n",
       "      <td>0.596148</td>\n",
       "      <td>NaN</td>\n",
       "      <td>0.003617</td>\n",
       "      <td>1.000000</td>\n",
       "    </tr>\n",
       "  </tbody>\n",
       "</table>\n",
       "</div>"
      ],
      "text/plain": [
       "              cuenta   propina    tamaño  col_vacia  col_random     total\n",
       "cuenta      1.000000  0.675734  0.598315        NaN   -0.007979  0.954002\n",
       "propina     0.675734  1.000000  0.489299        NaN    0.058079  0.722002\n",
       "tamaño      0.598315  0.489299  1.000000        NaN    0.028530  0.596148\n",
       "col_vacia        NaN       NaN       NaN        NaN         NaN       NaN\n",
       "col_random -0.007979  0.058079  0.028530        NaN    1.000000  0.003617\n",
       "total       0.954002  0.722002  0.596148        NaN    0.003617  1.000000"
      ]
     },
     "execution_count": 63,
     "metadata": {},
     "output_type": "execute_result"
    }
   ],
   "source": [
    "#El método corr() de Pandas DataFrame se utiliza para calcular la matriz. \n",
    "#Por defecto, calcula el coeficiente de correlación de Pearson.\n",
    "tips.corr() "
   ]
  },
  {
   "cell_type": "code",
   "execution_count": 64,
   "metadata": {},
   "outputs": [
    {
     "data": {
      "image/png": "[encoded data removed]",
      "text/plain": [
       "<Figure size 432x288 with 2 Axes>"
      ]
     },
     "metadata": {
      "needs_background": "light"
     },
     "output_type": "display_data"
    }
   ],
   "source": [
    "import seaborn as sns\n",
    "import matplotlib.pyplot as plt\n",
    "sns.heatmap(tips.corr(), annot = True)\n",
    "plt.show()"
   ]
  },
  {
   "cell_type": "markdown",
   "metadata": {},
   "source": [
    "## Consultas de dataframes"
   ]
  },
  {
   "cell_type": "markdown",
   "metadata": {},
   "source": [
    "Hasta ahora hemos visto como acceder a ciertos registros y/o ciertas columnas de nuestra tabla. Veremos ahora algunas funciones nuevas para realizar consultas más dinámicas.\n",
    "\n",
    "Una forma rápida de acceder a una columna entera es"
   ]
  },
  {
   "cell_type": "code",
   "execution_count": 32,
   "metadata": {},
   "outputs": [
    {
     "data": {
      "text/html": [
       "<div>\n",
       "<style scoped>\n",
       "    .dataframe tbody tr th:only-of-type {\n",
       "        vertical-align: middle;\n",
       "    }\n",
       "\n",
       "    .dataframe tbody tr th {\n",
       "        vertical-align: top;\n",
       "    }\n",
       "\n",
       "    .dataframe thead th {\n",
       "        text-align: right;\n",
       "    }\n",
       "</style>\n",
       "<table border=\"1\" class=\"dataframe\">\n",
       "  <thead>\n",
       "    <tr style=\"text-align: right;\">\n",
       "      <th></th>\n",
       "      <th>cuenta</th>\n",
       "      <th>propina</th>\n",
       "      <th>sex</th>\n",
       "      <th>fumador</th>\n",
       "      <th>día</th>\n",
       "      <th>hora</th>\n",
       "      <th>tamaño</th>\n",
       "    </tr>\n",
       "  </thead>\n",
       "  <tbody>\n",
       "    <tr>\n",
       "      <th>0</th>\n",
       "      <td>16.99</td>\n",
       "      <td>1.01</td>\n",
       "      <td>Mujer</td>\n",
       "      <td>No</td>\n",
       "      <td>Domingo</td>\n",
       "      <td>Comida</td>\n",
       "      <td>2</td>\n",
       "    </tr>\n",
       "    <tr>\n",
       "      <th>1</th>\n",
       "      <td>10.34</td>\n",
       "      <td>1.66</td>\n",
       "      <td>Hombre</td>\n",
       "      <td>No</td>\n",
       "      <td>Domingo</td>\n",
       "      <td>Comida</td>\n",
       "      <td>3</td>\n",
       "    </tr>\n",
       "  </tbody>\n",
       "</table>\n",
       "</div>"
      ],
      "text/plain": [
       "   cuenta  propina     sex fumador      día    hora  tamaño\n",
       "0   16.99     1.01   Mujer      No  Domingo  Comida       2\n",
       "1   10.34     1.66  Hombre      No  Domingo  Comida       3"
      ]
     },
     "execution_count": 32,
     "metadata": {},
     "output_type": "execute_result"
    }
   ],
   "source": [
    "tips.head(2)"
   ]
  },
  {
   "cell_type": "code",
   "execution_count": 33,
   "metadata": {},
   "outputs": [
    {
     "data": {
      "text/html": [
       "<div>\n",
       "<style scoped>\n",
       "    .dataframe tbody tr th:only-of-type {\n",
       "        vertical-align: middle;\n",
       "    }\n",
       "\n",
       "    .dataframe tbody tr th {\n",
       "        vertical-align: top;\n",
       "    }\n",
       "\n",
       "    .dataframe thead th {\n",
       "        text-align: right;\n",
       "    }\n",
       "</style>\n",
       "<table border=\"1\" class=\"dataframe\">\n",
       "  <thead>\n",
       "    <tr style=\"text-align: right;\">\n",
       "      <th></th>\n",
       "      <th>propina</th>\n",
       "      <th>sex</th>\n",
       "    </tr>\n",
       "  </thead>\n",
       "  <tbody>\n",
       "    <tr>\n",
       "      <th>0</th>\n",
       "      <td>1.01</td>\n",
       "      <td>Mujer</td>\n",
       "    </tr>\n",
       "    <tr>\n",
       "      <th>1</th>\n",
       "      <td>1.66</td>\n",
       "      <td>Hombre</td>\n",
       "    </tr>\n",
       "  </tbody>\n",
       "</table>\n",
       "</div>"
      ],
      "text/plain": [
       "   propina     sex\n",
       "0     1.01   Mujer\n",
       "1     1.66  Hombre"
      ]
     },
     "execution_count": 33,
     "metadata": {},
     "output_type": "execute_result"
    }
   ],
   "source": [
    "tips[['propina', 'sex']].head(2)"
   ]
  },
  {
   "cell_type": "code",
   "execution_count": 34,
   "metadata": {},
   "outputs": [
    {
     "data": {
      "text/plain": [
       "0    16.99\n",
       "1    10.34\n",
       "2    21.01\n",
       "3    23.68\n",
       "4    24.59\n",
       "5    25.29\n",
       "6     8.77\n",
       "7    26.88\n",
       "8    15.04\n",
       "9    14.78\n",
       "Name: cuenta, dtype: float64"
      ]
     },
     "execution_count": 34,
     "metadata": {},
     "output_type": "execute_result"
    }
   ],
   "source": [
    "tips['cuenta'].head(10)"
   ]
  },
  {
   "cell_type": "markdown",
   "metadata": {},
   "source": [
    "Si el nombre de la columna es un nombre de variable válido, tb se puede hacer:"
   ]
  },
  {
   "cell_type": "code",
   "execution_count": 35,
   "metadata": {},
   "outputs": [
    {
     "data": {
      "text/plain": [
       "0    16.99\n",
       "1    10.34\n",
       "2    21.01\n",
       "3    23.68\n",
       "4    24.59\n",
       "Name: cuenta, dtype: float64"
      ]
     },
     "execution_count": 35,
     "metadata": {},
     "output_type": "execute_result"
    }
   ],
   "source": [
    "tips.cuenta.head()"
   ]
  },
  {
   "cell_type": "markdown",
   "metadata": {},
   "source": [
    "Por supuesto dibujar gráficas es una buena forma de explorar los datos, y detectar si hemos importado los datos correctamente. La próxima semana trataremos este tema con más detalle, esta semana sólo dibujaremos **histogramas** y **scatter plots**."
   ]
  },
  {
   "cell_type": "code",
   "execution_count": 36,
   "metadata": {},
   "outputs": [
    {
     "data": {
      "text/plain": [
       "<AxesSubplot:>"
      ]
     },
     "execution_count": 36,
     "metadata": {},
     "output_type": "execute_result"
    },
    {
     "data": {
      "image/png": "[encoded data removed]",
      "text/plain": [
       "<Figure size 432x288 with 1 Axes>"
      ]
     },
     "metadata": {
      "needs_background": "light"
     },
     "output_type": "display_data"
    }
   ],
   "source": [
    "tips['cuenta'].hist()"
   ]
  },
  {
   "cell_type": "code",
   "execution_count": 37,
   "metadata": {},
   "outputs": [
    {
     "data": {
      "text/plain": [
       "<AxesSubplot:>"
      ]
     },
     "execution_count": 37,
     "metadata": {},
     "output_type": "execute_result"
    },
    {
     "data": {
      "image/png": "[encoded data removed]",
      "text/plain": [
       "<Figure size 432x288 with 1 Axes>"
      ]
     },
     "metadata": {
      "needs_background": "light"
     },
     "output_type": "display_data"
    }
   ],
   "source": [
    "tips.cuenta.hist()"
   ]
  },
  {
   "cell_type": "code",
   "execution_count": 38,
   "metadata": {},
   "outputs": [
    {
     "data": {
      "text/plain": [
       "<AxesSubplot:xlabel='cuenta', ylabel='propina'>"
      ]
     },
     "execution_count": 38,
     "metadata": {},
     "output_type": "execute_result"
    },
    {
     "data": {
      "image/png": "[encoded data removed]",
      "text/plain": [
       "<Figure size 432x288 with 1 Axes>"
      ]
     },
     "metadata": {
      "needs_background": "light"
     },
     "output_type": "display_data"
    }
   ],
   "source": [
    "tips.plot.scatter('cuenta', 'propina')"
   ]
  },
  {
   "cell_type": "markdown",
   "metadata": {},
   "source": [
    "Podemos utilizar una sintaxis muy similar a la de numpy para, por ejemplo, calcular la media o la mediana de una serie de datos:"
   ]
  },
  {
   "cell_type": "code",
   "execution_count": 39,
   "metadata": {},
   "outputs": [
    {
     "data": {
      "text/plain": [
       "0      2\n",
       "1      3\n",
       "2      3\n",
       "3      2\n",
       "4      4\n",
       "      ..\n",
       "239    3\n",
       "240    2\n",
       "241    2\n",
       "242    2\n",
       "243    2\n",
       "Name: tamaño, Length: 244, dtype: int64"
      ]
     },
     "execution_count": 39,
     "metadata": {},
     "output_type": "execute_result"
    }
   ],
   "source": [
    "tips['tamaño']"
   ]
  },
  {
   "cell_type": "code",
   "execution_count": 40,
   "metadata": {},
   "outputs": [
    {
     "data": {
      "text/plain": [
       "17.795"
      ]
     },
     "execution_count": 40,
     "metadata": {},
     "output_type": "execute_result"
    }
   ],
   "source": [
    "tips['cuenta'].median()"
   ]
  },
  {
   "cell_type": "code",
   "execution_count": 41,
   "metadata": {},
   "outputs": [
    {
     "data": {
      "text/plain": [
       "2.569672131147541"
      ]
     },
     "execution_count": 41,
     "metadata": {},
     "output_type": "execute_result"
    }
   ],
   "source": [
    "tips['tamaño'].mean()"
   ]
  },
  {
   "cell_type": "markdown",
   "metadata": {},
   "source": [
    "...o para encontrar los registros cuyo valor es mayor que la mediana"
   ]
  },
  {
   "cell_type": "code",
   "execution_count": 42,
   "metadata": {
    "scrolled": true
   },
   "outputs": [
    {
     "data": {
      "text/plain": [
       "0      False\n",
       "1       True\n",
       "2       True\n",
       "3      False\n",
       "4       True\n",
       "       ...  \n",
       "239     True\n",
       "240    False\n",
       "241    False\n",
       "242    False\n",
       "243    False\n",
       "Name: tamaño, Length: 244, dtype: bool"
      ]
     },
     "execution_count": 42,
     "metadata": {},
     "output_type": "execute_result"
    }
   ],
   "source": [
    "size_median= tips['tamaño'].median()\n",
    "tips['tamaño'] > size_median"
   ]
  },
  {
   "cell_type": "markdown",
   "metadata": {},
   "source": [
    "La consulta anterior nos ha generado un array booleano, y **podemos utilizarlo para seleccionar filas en nuestro dataframe**:"
   ]
  },
  {
   "cell_type": "code",
   "execution_count": 43,
   "metadata": {},
   "outputs": [
    {
     "name": "stdout",
     "output_type": "stream",
     "text": [
      "244 84\n"
     ]
    },
    {
     "data": {
      "text/html": [
       "<div>\n",
       "<style scoped>\n",
       "    .dataframe tbody tr th:only-of-type {\n",
       "        vertical-align: middle;\n",
       "    }\n",
       "\n",
       "    .dataframe tbody tr th {\n",
       "        vertical-align: top;\n",
       "    }\n",
       "\n",
       "    .dataframe thead th {\n",
       "        text-align: right;\n",
       "    }\n",
       "</style>\n",
       "<table border=\"1\" class=\"dataframe\">\n",
       "  <thead>\n",
       "    <tr style=\"text-align: right;\">\n",
       "      <th></th>\n",
       "      <th>cuenta</th>\n",
       "      <th>propina</th>\n",
       "      <th>sex</th>\n",
       "      <th>fumador</th>\n",
       "      <th>día</th>\n",
       "      <th>hora</th>\n",
       "      <th>tamaño</th>\n",
       "    </tr>\n",
       "  </thead>\n",
       "  <tbody>\n",
       "    <tr>\n",
       "      <th>1</th>\n",
       "      <td>10.34</td>\n",
       "      <td>1.66</td>\n",
       "      <td>Hombre</td>\n",
       "      <td>No</td>\n",
       "      <td>Domingo</td>\n",
       "      <td>Comida</td>\n",
       "      <td>3</td>\n",
       "    </tr>\n",
       "    <tr>\n",
       "      <th>2</th>\n",
       "      <td>21.01</td>\n",
       "      <td>3.50</td>\n",
       "      <td>Hombre</td>\n",
       "      <td>No</td>\n",
       "      <td>Domingo</td>\n",
       "      <td>Comida</td>\n",
       "      <td>3</td>\n",
       "    </tr>\n",
       "    <tr>\n",
       "      <th>4</th>\n",
       "      <td>24.59</td>\n",
       "      <td>3.61</td>\n",
       "      <td>Mujer</td>\n",
       "      <td>No</td>\n",
       "      <td>Domingo</td>\n",
       "      <td>Comida</td>\n",
       "      <td>4</td>\n",
       "    </tr>\n",
       "    <tr>\n",
       "      <th>5</th>\n",
       "      <td>25.29</td>\n",
       "      <td>4.71</td>\n",
       "      <td>Hombre</td>\n",
       "      <td>No</td>\n",
       "      <td>Domingo</td>\n",
       "      <td>Comida</td>\n",
       "      <td>4</td>\n",
       "    </tr>\n",
       "    <tr>\n",
       "      <th>7</th>\n",
       "      <td>26.88</td>\n",
       "      <td>3.12</td>\n",
       "      <td>Hombre</td>\n",
       "      <td>No</td>\n",
       "      <td>Domingo</td>\n",
       "      <td>Comida</td>\n",
       "      <td>4</td>\n",
       "    </tr>\n",
       "  </tbody>\n",
       "</table>\n",
       "</div>"
      ],
      "text/plain": [
       "   cuenta  propina     sex fumador      día    hora  tamaño\n",
       "1   10.34     1.66  Hombre      No  Domingo  Comida       3\n",
       "2   21.01     3.50  Hombre      No  Domingo  Comida       3\n",
       "4   24.59     3.61   Mujer      No  Domingo  Comida       4\n",
       "5   25.29     4.71  Hombre      No  Domingo  Comida       4\n",
       "7   26.88     3.12  Hombre      No  Domingo  Comida       4"
      ]
     },
     "execution_count": 43,
     "metadata": {},
     "output_type": "execute_result"
    }
   ],
   "source": [
    "mesas_grandes = tips[ tips['tamaño'] > size_median ]\n",
    "print(len(tips), len(mesas_grandes))\n",
    "mesas_grandes.head()"
   ]
  },
  {
   "cell_type": "markdown",
   "metadata": {},
   "source": [
    "Observamos que conserva los índices de la tabla original. Si queremos resetearlos, basta con hacer"
   ]
  },
  {
   "cell_type": "code",
   "execution_count": 44,
   "metadata": {
    "scrolled": true
   },
   "outputs": [
    {
     "data": {
      "text/html": [
       "<div>\n",
       "<style scoped>\n",
       "    .dataframe tbody tr th:only-of-type {\n",
       "        vertical-align: middle;\n",
       "    }\n",
       "\n",
       "    .dataframe tbody tr th {\n",
       "        vertical-align: top;\n",
       "    }\n",
       "\n",
       "    .dataframe thead th {\n",
       "        text-align: right;\n",
       "    }\n",
       "</style>\n",
       "<table border=\"1\" class=\"dataframe\">\n",
       "  <thead>\n",
       "    <tr style=\"text-align: right;\">\n",
       "      <th></th>\n",
       "      <th>cuenta</th>\n",
       "      <th>propina</th>\n",
       "      <th>sex</th>\n",
       "      <th>fumador</th>\n",
       "      <th>día</th>\n",
       "      <th>hora</th>\n",
       "      <th>tamaño</th>\n",
       "    </tr>\n",
       "  </thead>\n",
       "  <tbody>\n",
       "    <tr>\n",
       "      <th>0</th>\n",
       "      <td>10.34</td>\n",
       "      <td>1.66</td>\n",
       "      <td>Hombre</td>\n",
       "      <td>No</td>\n",
       "      <td>Domingo</td>\n",
       "      <td>Comida</td>\n",
       "      <td>3</td>\n",
       "    </tr>\n",
       "    <tr>\n",
       "      <th>1</th>\n",
       "      <td>21.01</td>\n",
       "      <td>3.50</td>\n",
       "      <td>Hombre</td>\n",
       "      <td>No</td>\n",
       "      <td>Domingo</td>\n",
       "      <td>Comida</td>\n",
       "      <td>3</td>\n",
       "    </tr>\n",
       "    <tr>\n",
       "      <th>2</th>\n",
       "      <td>24.59</td>\n",
       "      <td>3.61</td>\n",
       "      <td>Mujer</td>\n",
       "      <td>No</td>\n",
       "      <td>Domingo</td>\n",
       "      <td>Comida</td>\n",
       "      <td>4</td>\n",
       "    </tr>\n",
       "    <tr>\n",
       "      <th>3</th>\n",
       "      <td>25.29</td>\n",
       "      <td>4.71</td>\n",
       "      <td>Hombre</td>\n",
       "      <td>No</td>\n",
       "      <td>Domingo</td>\n",
       "      <td>Comida</td>\n",
       "      <td>4</td>\n",
       "    </tr>\n",
       "    <tr>\n",
       "      <th>4</th>\n",
       "      <td>26.88</td>\n",
       "      <td>3.12</td>\n",
       "      <td>Hombre</td>\n",
       "      <td>No</td>\n",
       "      <td>Domingo</td>\n",
       "      <td>Comida</td>\n",
       "      <td>4</td>\n",
       "    </tr>\n",
       "  </tbody>\n",
       "</table>\n",
       "</div>"
      ],
      "text/plain": [
       "   cuenta  propina     sex fumador      día    hora  tamaño\n",
       "0   10.34     1.66  Hombre      No  Domingo  Comida       3\n",
       "1   21.01     3.50  Hombre      No  Domingo  Comida       3\n",
       "2   24.59     3.61   Mujer      No  Domingo  Comida       4\n",
       "3   25.29     4.71  Hombre      No  Domingo  Comida       4\n",
       "4   26.88     3.12  Hombre      No  Domingo  Comida       4"
      ]
     },
     "execution_count": 44,
     "metadata": {},
     "output_type": "execute_result"
    }
   ],
   "source": [
    "mesas_grandes.reset_index(inplace=True, drop=True)\n",
    "mesas_grandes.head()"
   ]
  },
  {
   "cell_type": "markdown",
   "metadata": {},
   "source": [
    "Los criterios de filtrado de filas pueden ser tan complejos como queramos, utilizando los operadores lógicos:\n",
    "\n",
    " - ``&``: el operador lógico **\"y\"**\n",
    " - ``|``: el operador lógico **\"o\"** (no excluyente)"
   ]
  },
  {
   "cell_type": "code",
   "execution_count": 45,
   "metadata": {},
   "outputs": [
    {
     "data": {
      "text/html": [
       "<div>\n",
       "<style scoped>\n",
       "    .dataframe tbody tr th:only-of-type {\n",
       "        vertical-align: middle;\n",
       "    }\n",
       "\n",
       "    .dataframe tbody tr th {\n",
       "        vertical-align: top;\n",
       "    }\n",
       "\n",
       "    .dataframe thead th {\n",
       "        text-align: right;\n",
       "    }\n",
       "</style>\n",
       "<table border=\"1\" class=\"dataframe\">\n",
       "  <thead>\n",
       "    <tr style=\"text-align: right;\">\n",
       "      <th></th>\n",
       "      <th>cuenta</th>\n",
       "      <th>propina</th>\n",
       "      <th>sex</th>\n",
       "      <th>fumador</th>\n",
       "      <th>día</th>\n",
       "      <th>hora</th>\n",
       "      <th>tamaño</th>\n",
       "    </tr>\n",
       "  </thead>\n",
       "  <tbody>\n",
       "    <tr>\n",
       "      <th>4</th>\n",
       "      <td>24.59</td>\n",
       "      <td>3.61</td>\n",
       "      <td>Mujer</td>\n",
       "      <td>No</td>\n",
       "      <td>Domingo</td>\n",
       "      <td>Comida</td>\n",
       "      <td>4</td>\n",
       "    </tr>\n",
       "    <tr>\n",
       "      <th>11</th>\n",
       "      <td>35.26</td>\n",
       "      <td>5.00</td>\n",
       "      <td>Mujer</td>\n",
       "      <td>No</td>\n",
       "      <td>Domingo</td>\n",
       "      <td>Comida</td>\n",
       "      <td>4</td>\n",
       "    </tr>\n",
       "    <tr>\n",
       "      <th>16</th>\n",
       "      <td>10.33</td>\n",
       "      <td>1.67</td>\n",
       "      <td>Mujer</td>\n",
       "      <td>No</td>\n",
       "      <td>Domingo</td>\n",
       "      <td>Comida</td>\n",
       "      <td>3</td>\n",
       "    </tr>\n",
       "    <tr>\n",
       "      <th>18</th>\n",
       "      <td>16.97</td>\n",
       "      <td>3.50</td>\n",
       "      <td>Mujer</td>\n",
       "      <td>No</td>\n",
       "      <td>Domingo</td>\n",
       "      <td>Comida</td>\n",
       "      <td>3</td>\n",
       "    </tr>\n",
       "    <tr>\n",
       "      <th>33</th>\n",
       "      <td>20.69</td>\n",
       "      <td>2.45</td>\n",
       "      <td>Mujer</td>\n",
       "      <td>No</td>\n",
       "      <td>Sábado</td>\n",
       "      <td>Comida</td>\n",
       "      <td>4</td>\n",
       "    </tr>\n",
       "  </tbody>\n",
       "</table>\n",
       "</div>"
      ],
      "text/plain": [
       "    cuenta  propina    sex fumador      día    hora  tamaño\n",
       "4    24.59     3.61  Mujer      No  Domingo  Comida       4\n",
       "11   35.26     5.00  Mujer      No  Domingo  Comida       4\n",
       "16   10.33     1.67  Mujer      No  Domingo  Comida       3\n",
       "18   16.97     3.50  Mujer      No  Domingo  Comida       3\n",
       "33   20.69     2.45  Mujer      No   Sábado  Comida       4"
      ]
     },
     "execution_count": 45,
     "metadata": {},
     "output_type": "execute_result"
    }
   ],
   "source": [
    "tips[ (tips['tamaño'] > 2) & (tips['sex'] == 'Mujer') ].head()"
   ]
  },
  {
   "cell_type": "code",
   "execution_count": 46,
   "metadata": {},
   "outputs": [
    {
     "data": {
      "text/html": [
       "<div>\n",
       "<style scoped>\n",
       "    .dataframe tbody tr th:only-of-type {\n",
       "        vertical-align: middle;\n",
       "    }\n",
       "\n",
       "    .dataframe tbody tr th {\n",
       "        vertical-align: top;\n",
       "    }\n",
       "\n",
       "    .dataframe thead th {\n",
       "        text-align: right;\n",
       "    }\n",
       "</style>\n",
       "<table border=\"1\" class=\"dataframe\">\n",
       "  <thead>\n",
       "    <tr style=\"text-align: right;\">\n",
       "      <th></th>\n",
       "      <th>cuenta</th>\n",
       "      <th>propina</th>\n",
       "      <th>sex</th>\n",
       "      <th>fumador</th>\n",
       "      <th>día</th>\n",
       "      <th>hora</th>\n",
       "      <th>tamaño</th>\n",
       "    </tr>\n",
       "  </thead>\n",
       "  <tbody>\n",
       "    <tr>\n",
       "      <th>0</th>\n",
       "      <td>16.99</td>\n",
       "      <td>1.01</td>\n",
       "      <td>Mujer</td>\n",
       "      <td>No</td>\n",
       "      <td>Domingo</td>\n",
       "      <td>Comida</td>\n",
       "      <td>2</td>\n",
       "    </tr>\n",
       "    <tr>\n",
       "      <th>1</th>\n",
       "      <td>10.34</td>\n",
       "      <td>1.66</td>\n",
       "      <td>Hombre</td>\n",
       "      <td>No</td>\n",
       "      <td>Domingo</td>\n",
       "      <td>Comida</td>\n",
       "      <td>3</td>\n",
       "    </tr>\n",
       "    <tr>\n",
       "      <th>2</th>\n",
       "      <td>21.01</td>\n",
       "      <td>3.50</td>\n",
       "      <td>Hombre</td>\n",
       "      <td>No</td>\n",
       "      <td>Domingo</td>\n",
       "      <td>Comida</td>\n",
       "      <td>3</td>\n",
       "    </tr>\n",
       "    <tr>\n",
       "      <th>4</th>\n",
       "      <td>24.59</td>\n",
       "      <td>3.61</td>\n",
       "      <td>Mujer</td>\n",
       "      <td>No</td>\n",
       "      <td>Domingo</td>\n",
       "      <td>Comida</td>\n",
       "      <td>4</td>\n",
       "    </tr>\n",
       "    <tr>\n",
       "      <th>5</th>\n",
       "      <td>25.29</td>\n",
       "      <td>4.71</td>\n",
       "      <td>Hombre</td>\n",
       "      <td>No</td>\n",
       "      <td>Domingo</td>\n",
       "      <td>Comida</td>\n",
       "      <td>4</td>\n",
       "    </tr>\n",
       "  </tbody>\n",
       "</table>\n",
       "</div>"
      ],
      "text/plain": [
       "   cuenta  propina     sex fumador      día    hora  tamaño\n",
       "0   16.99     1.01   Mujer      No  Domingo  Comida       2\n",
       "1   10.34     1.66  Hombre      No  Domingo  Comida       3\n",
       "2   21.01     3.50  Hombre      No  Domingo  Comida       3\n",
       "4   24.59     3.61   Mujer      No  Domingo  Comida       4\n",
       "5   25.29     4.71  Hombre      No  Domingo  Comida       4"
      ]
     },
     "execution_count": 46,
     "metadata": {},
     "output_type": "execute_result"
    }
   ],
   "source": [
    "tips[ (tips['tamaño'] > 2) | (tips['sex'] == 'Mujer') ].head()"
   ]
  },
  {
   "cell_type": "markdown",
   "metadata": {},
   "source": [
    "## Creando nuevas columnas"
   ]
  },
  {
   "cell_type": "markdown",
   "metadata": {},
   "source": [
    "Si queremos añadir una nueva columna a nuestra tabla, es tan sencillo como realizar una nueva asignación"
   ]
  },
  {
   "cell_type": "code",
   "execution_count": 47,
   "metadata": {},
   "outputs": [
    {
     "data": {
      "text/html": [
       "<div>\n",
       "<style scoped>\n",
       "    .dataframe tbody tr th:only-of-type {\n",
       "        vertical-align: middle;\n",
       "    }\n",
       "\n",
       "    .dataframe tbody tr th {\n",
       "        vertical-align: top;\n",
       "    }\n",
       "\n",
       "    .dataframe thead th {\n",
       "        text-align: right;\n",
       "    }\n",
       "</style>\n",
       "<table border=\"1\" class=\"dataframe\">\n",
       "  <thead>\n",
       "    <tr style=\"text-align: right;\">\n",
       "      <th></th>\n",
       "      <th>cuenta</th>\n",
       "      <th>propina</th>\n",
       "      <th>sex</th>\n",
       "      <th>fumador</th>\n",
       "      <th>día</th>\n",
       "      <th>hora</th>\n",
       "      <th>tamaño</th>\n",
       "    </tr>\n",
       "  </thead>\n",
       "  <tbody>\n",
       "    <tr>\n",
       "      <th>0</th>\n",
       "      <td>16.99</td>\n",
       "      <td>1.01</td>\n",
       "      <td>Mujer</td>\n",
       "      <td>No</td>\n",
       "      <td>Domingo</td>\n",
       "      <td>Comida</td>\n",
       "      <td>2</td>\n",
       "    </tr>\n",
       "    <tr>\n",
       "      <th>1</th>\n",
       "      <td>10.34</td>\n",
       "      <td>1.66</td>\n",
       "      <td>Hombre</td>\n",
       "      <td>No</td>\n",
       "      <td>Domingo</td>\n",
       "      <td>Comida</td>\n",
       "      <td>3</td>\n",
       "    </tr>\n",
       "    <tr>\n",
       "      <th>2</th>\n",
       "      <td>21.01</td>\n",
       "      <td>3.50</td>\n",
       "      <td>Hombre</td>\n",
       "      <td>No</td>\n",
       "      <td>Domingo</td>\n",
       "      <td>Comida</td>\n",
       "      <td>3</td>\n",
       "    </tr>\n",
       "    <tr>\n",
       "      <th>3</th>\n",
       "      <td>23.68</td>\n",
       "      <td>3.31</td>\n",
       "      <td>Hombre</td>\n",
       "      <td>No</td>\n",
       "      <td>Domingo</td>\n",
       "      <td>Comida</td>\n",
       "      <td>2</td>\n",
       "    </tr>\n",
       "    <tr>\n",
       "      <th>4</th>\n",
       "      <td>24.59</td>\n",
       "      <td>3.61</td>\n",
       "      <td>Mujer</td>\n",
       "      <td>No</td>\n",
       "      <td>Domingo</td>\n",
       "      <td>Comida</td>\n",
       "      <td>4</td>\n",
       "    </tr>\n",
       "  </tbody>\n",
       "</table>\n",
       "</div>"
      ],
      "text/plain": [
       "   cuenta  propina     sex fumador      día    hora  tamaño\n",
       "0   16.99     1.01   Mujer      No  Domingo  Comida       2\n",
       "1   10.34     1.66  Hombre      No  Domingo  Comida       3\n",
       "2   21.01     3.50  Hombre      No  Domingo  Comida       3\n",
       "3   23.68     3.31  Hombre      No  Domingo  Comida       2\n",
       "4   24.59     3.61   Mujer      No  Domingo  Comida       4"
      ]
     },
     "execution_count": 47,
     "metadata": {},
     "output_type": "execute_result"
    }
   ],
   "source": [
    "tips.head()"
   ]
  },
  {
   "cell_type": "code",
   "execution_count": 48,
   "metadata": {},
   "outputs": [
    {
     "data": {
      "text/html": [
       "<div>\n",
       "<style scoped>\n",
       "    .dataframe tbody tr th:only-of-type {\n",
       "        vertical-align: middle;\n",
       "    }\n",
       "\n",
       "    .dataframe tbody tr th {\n",
       "        vertical-align: top;\n",
       "    }\n",
       "\n",
       "    .dataframe thead th {\n",
       "        text-align: right;\n",
       "    }\n",
       "</style>\n",
       "<table border=\"1\" class=\"dataframe\">\n",
       "  <thead>\n",
       "    <tr style=\"text-align: right;\">\n",
       "      <th></th>\n",
       "      <th>cuenta</th>\n",
       "      <th>propina</th>\n",
       "      <th>sex</th>\n",
       "      <th>fumador</th>\n",
       "      <th>día</th>\n",
       "      <th>hora</th>\n",
       "      <th>tamaño</th>\n",
       "      <th>col_vacia</th>\n",
       "    </tr>\n",
       "  </thead>\n",
       "  <tbody>\n",
       "    <tr>\n",
       "      <th>0</th>\n",
       "      <td>16.99</td>\n",
       "      <td>1.01</td>\n",
       "      <td>Mujer</td>\n",
       "      <td>No</td>\n",
       "      <td>Domingo</td>\n",
       "      <td>Comida</td>\n",
       "      <td>2</td>\n",
       "      <td>2.3</td>\n",
       "    </tr>\n",
       "    <tr>\n",
       "      <th>1</th>\n",
       "      <td>10.34</td>\n",
       "      <td>1.66</td>\n",
       "      <td>Hombre</td>\n",
       "      <td>No</td>\n",
       "      <td>Domingo</td>\n",
       "      <td>Comida</td>\n",
       "      <td>3</td>\n",
       "      <td>2.3</td>\n",
       "    </tr>\n",
       "    <tr>\n",
       "      <th>2</th>\n",
       "      <td>21.01</td>\n",
       "      <td>3.50</td>\n",
       "      <td>Hombre</td>\n",
       "      <td>No</td>\n",
       "      <td>Domingo</td>\n",
       "      <td>Comida</td>\n",
       "      <td>3</td>\n",
       "      <td>2.3</td>\n",
       "    </tr>\n",
       "    <tr>\n",
       "      <th>3</th>\n",
       "      <td>23.68</td>\n",
       "      <td>3.31</td>\n",
       "      <td>Hombre</td>\n",
       "      <td>No</td>\n",
       "      <td>Domingo</td>\n",
       "      <td>Comida</td>\n",
       "      <td>2</td>\n",
       "      <td>2.3</td>\n",
       "    </tr>\n",
       "    <tr>\n",
       "      <th>4</th>\n",
       "      <td>24.59</td>\n",
       "      <td>3.61</td>\n",
       "      <td>Mujer</td>\n",
       "      <td>No</td>\n",
       "      <td>Domingo</td>\n",
       "      <td>Comida</td>\n",
       "      <td>4</td>\n",
       "      <td>2.3</td>\n",
       "    </tr>\n",
       "  </tbody>\n",
       "</table>\n",
       "</div>"
      ],
      "text/plain": [
       "   cuenta  propina     sex fumador      día    hora  tamaño  col_vacia\n",
       "0   16.99     1.01   Mujer      No  Domingo  Comida       2        2.3\n",
       "1   10.34     1.66  Hombre      No  Domingo  Comida       3        2.3\n",
       "2   21.01     3.50  Hombre      No  Domingo  Comida       3        2.3\n",
       "3   23.68     3.31  Hombre      No  Domingo  Comida       2        2.3\n",
       "4   24.59     3.61   Mujer      No  Domingo  Comida       4        2.3"
      ]
     },
     "execution_count": 48,
     "metadata": {},
     "output_type": "execute_result"
    }
   ],
   "source": [
    "#Un valor constante\n",
    "tips['col_vacia'] = 2.3\n",
    "tips.head()"
   ]
  },
  {
   "cell_type": "markdown",
   "metadata": {},
   "source": [
    "También podemos crear columnas utilizando funciones de numpy, por ejemplo, ahora la rellenaremos con valores aleatorios provenientes de una distribución Normal(0,1)"
   ]
  },
  {
   "cell_type": "code",
   "execution_count": 49,
   "metadata": {},
   "outputs": [
    {
     "data": {
      "text/html": [
       "<div>\n",
       "<style scoped>\n",
       "    .dataframe tbody tr th:only-of-type {\n",
       "        vertical-align: middle;\n",
       "    }\n",
       "\n",
       "    .dataframe tbody tr th {\n",
       "        vertical-align: top;\n",
       "    }\n",
       "\n",
       "    .dataframe thead th {\n",
       "        text-align: right;\n",
       "    }\n",
       "</style>\n",
       "<table border=\"1\" class=\"dataframe\">\n",
       "  <thead>\n",
       "    <tr style=\"text-align: right;\">\n",
       "      <th></th>\n",
       "      <th>cuenta</th>\n",
       "      <th>propina</th>\n",
       "      <th>sex</th>\n",
       "      <th>fumador</th>\n",
       "      <th>día</th>\n",
       "      <th>hora</th>\n",
       "      <th>tamaño</th>\n",
       "      <th>col_vacia</th>\n",
       "      <th>col_random</th>\n",
       "    </tr>\n",
       "  </thead>\n",
       "  <tbody>\n",
       "    <tr>\n",
       "      <th>0</th>\n",
       "      <td>16.99</td>\n",
       "      <td>1.01</td>\n",
       "      <td>Mujer</td>\n",
       "      <td>No</td>\n",
       "      <td>Domingo</td>\n",
       "      <td>Comida</td>\n",
       "      <td>2</td>\n",
       "      <td>2.3</td>\n",
       "      <td>0.976124</td>\n",
       "    </tr>\n",
       "    <tr>\n",
       "      <th>1</th>\n",
       "      <td>10.34</td>\n",
       "      <td>1.66</td>\n",
       "      <td>Hombre</td>\n",
       "      <td>No</td>\n",
       "      <td>Domingo</td>\n",
       "      <td>Comida</td>\n",
       "      <td>3</td>\n",
       "      <td>2.3</td>\n",
       "      <td>-0.355678</td>\n",
       "    </tr>\n",
       "    <tr>\n",
       "      <th>2</th>\n",
       "      <td>21.01</td>\n",
       "      <td>3.50</td>\n",
       "      <td>Hombre</td>\n",
       "      <td>No</td>\n",
       "      <td>Domingo</td>\n",
       "      <td>Comida</td>\n",
       "      <td>3</td>\n",
       "      <td>2.3</td>\n",
       "      <td>0.523008</td>\n",
       "    </tr>\n",
       "    <tr>\n",
       "      <th>3</th>\n",
       "      <td>23.68</td>\n",
       "      <td>3.31</td>\n",
       "      <td>Hombre</td>\n",
       "      <td>No</td>\n",
       "      <td>Domingo</td>\n",
       "      <td>Comida</td>\n",
       "      <td>2</td>\n",
       "      <td>2.3</td>\n",
       "      <td>-1.513037</td>\n",
       "    </tr>\n",
       "    <tr>\n",
       "      <th>4</th>\n",
       "      <td>24.59</td>\n",
       "      <td>3.61</td>\n",
       "      <td>Mujer</td>\n",
       "      <td>No</td>\n",
       "      <td>Domingo</td>\n",
       "      <td>Comida</td>\n",
       "      <td>4</td>\n",
       "      <td>2.3</td>\n",
       "      <td>0.294015</td>\n",
       "    </tr>\n",
       "  </tbody>\n",
       "</table>\n",
       "</div>"
      ],
      "text/plain": [
       "   cuenta  propina     sex fumador      día    hora  tamaño  col_vacia  \\\n",
       "0   16.99     1.01   Mujer      No  Domingo  Comida       2        2.3   \n",
       "1   10.34     1.66  Hombre      No  Domingo  Comida       3        2.3   \n",
       "2   21.01     3.50  Hombre      No  Domingo  Comida       3        2.3   \n",
       "3   23.68     3.31  Hombre      No  Domingo  Comida       2        2.3   \n",
       "4   24.59     3.61   Mujer      No  Domingo  Comida       4        2.3   \n",
       "\n",
       "   col_random  \n",
       "0    0.976124  \n",
       "1   -0.355678  \n",
       "2    0.523008  \n",
       "3   -1.513037  \n",
       "4    0.294015  "
      ]
     },
     "execution_count": 49,
     "metadata": {},
     "output_type": "execute_result"
    }
   ],
   "source": [
    "tips['col_random'] = np.random.randn(len(tips))\n",
    "tips.head()"
   ]
  },
  {
   "cell_type": "markdown",
   "metadata": {},
   "source": [
    "También es posible combinarlos con otras columnas de la tabla, siempre que las dimensiones lo permitan (en este caso, que tengan el mismo número de elementos)"
   ]
  },
  {
   "cell_type": "code",
   "execution_count": 50,
   "metadata": {},
   "outputs": [
    {
     "data": {
      "text/html": [
       "<div>\n",
       "<style scoped>\n",
       "    .dataframe tbody tr th:only-of-type {\n",
       "        vertical-align: middle;\n",
       "    }\n",
       "\n",
       "    .dataframe tbody tr th {\n",
       "        vertical-align: top;\n",
       "    }\n",
       "\n",
       "    .dataframe thead th {\n",
       "        text-align: right;\n",
       "    }\n",
       "</style>\n",
       "<table border=\"1\" class=\"dataframe\">\n",
       "  <thead>\n",
       "    <tr style=\"text-align: right;\">\n",
       "      <th></th>\n",
       "      <th>cuenta</th>\n",
       "      <th>propina</th>\n",
       "      <th>sex</th>\n",
       "      <th>fumador</th>\n",
       "      <th>día</th>\n",
       "      <th>hora</th>\n",
       "      <th>tamaño</th>\n",
       "      <th>col_vacia</th>\n",
       "      <th>col_random</th>\n",
       "      <th>total</th>\n",
       "    </tr>\n",
       "  </thead>\n",
       "  <tbody>\n",
       "    <tr>\n",
       "      <th>0</th>\n",
       "      <td>16.99</td>\n",
       "      <td>1.01</td>\n",
       "      <td>Mujer</td>\n",
       "      <td>No</td>\n",
       "      <td>Domingo</td>\n",
       "      <td>Comida</td>\n",
       "      <td>2</td>\n",
       "      <td>2.3</td>\n",
       "      <td>0.976124</td>\n",
       "      <td>18.00</td>\n",
       "    </tr>\n",
       "    <tr>\n",
       "      <th>1</th>\n",
       "      <td>10.34</td>\n",
       "      <td>1.66</td>\n",
       "      <td>Hombre</td>\n",
       "      <td>No</td>\n",
       "      <td>Domingo</td>\n",
       "      <td>Comida</td>\n",
       "      <td>3</td>\n",
       "      <td>2.3</td>\n",
       "      <td>-0.355678</td>\n",
       "      <td>12.00</td>\n",
       "    </tr>\n",
       "    <tr>\n",
       "      <th>2</th>\n",
       "      <td>21.01</td>\n",
       "      <td>3.50</td>\n",
       "      <td>Hombre</td>\n",
       "      <td>No</td>\n",
       "      <td>Domingo</td>\n",
       "      <td>Comida</td>\n",
       "      <td>3</td>\n",
       "      <td>2.3</td>\n",
       "      <td>0.523008</td>\n",
       "      <td>24.51</td>\n",
       "    </tr>\n",
       "    <tr>\n",
       "      <th>3</th>\n",
       "      <td>23.68</td>\n",
       "      <td>3.31</td>\n",
       "      <td>Hombre</td>\n",
       "      <td>No</td>\n",
       "      <td>Domingo</td>\n",
       "      <td>Comida</td>\n",
       "      <td>2</td>\n",
       "      <td>2.3</td>\n",
       "      <td>-1.513037</td>\n",
       "      <td>26.99</td>\n",
       "    </tr>\n",
       "    <tr>\n",
       "      <th>4</th>\n",
       "      <td>24.59</td>\n",
       "      <td>3.61</td>\n",
       "      <td>Mujer</td>\n",
       "      <td>No</td>\n",
       "      <td>Domingo</td>\n",
       "      <td>Comida</td>\n",
       "      <td>4</td>\n",
       "      <td>2.3</td>\n",
       "      <td>0.294015</td>\n",
       "      <td>28.20</td>\n",
       "    </tr>\n",
       "  </tbody>\n",
       "</table>\n",
       "</div>"
      ],
      "text/plain": [
       "   cuenta  propina     sex fumador      día    hora  tamaño  col_vacia  \\\n",
       "0   16.99     1.01   Mujer      No  Domingo  Comida       2        2.3   \n",
       "1   10.34     1.66  Hombre      No  Domingo  Comida       3        2.3   \n",
       "2   21.01     3.50  Hombre      No  Domingo  Comida       3        2.3   \n",
       "3   23.68     3.31  Hombre      No  Domingo  Comida       2        2.3   \n",
       "4   24.59     3.61   Mujer      No  Domingo  Comida       4        2.3   \n",
       "\n",
       "   col_random  total  \n",
       "0    0.976124  18.00  \n",
       "1   -0.355678  12.00  \n",
       "2    0.523008  24.51  \n",
       "3   -1.513037  26.99  \n",
       "4    0.294015  28.20  "
      ]
     },
     "execution_count": 50,
     "metadata": {},
     "output_type": "execute_result"
    }
   ],
   "source": [
    "tips['total'] = tips['cuenta'] + tips['propina']\n",
    "tips.head()"
   ]
  },
  {
   "cell_type": "code",
   "execution_count": 51,
   "metadata": {},
   "outputs": [
    {
     "data": {
      "text/html": [
       "<div>\n",
       "<style scoped>\n",
       "    .dataframe tbody tr th:only-of-type {\n",
       "        vertical-align: middle;\n",
       "    }\n",
       "\n",
       "    .dataframe tbody tr th {\n",
       "        vertical-align: top;\n",
       "    }\n",
       "\n",
       "    .dataframe thead th {\n",
       "        text-align: right;\n",
       "    }\n",
       "</style>\n",
       "<table border=\"1\" class=\"dataframe\">\n",
       "  <thead>\n",
       "    <tr style=\"text-align: right;\">\n",
       "      <th></th>\n",
       "      <th>cuenta</th>\n",
       "      <th>propina</th>\n",
       "      <th>sex</th>\n",
       "      <th>fumador</th>\n",
       "      <th>día</th>\n",
       "      <th>hora</th>\n",
       "      <th>tamaño</th>\n",
       "      <th>col_vacia</th>\n",
       "      <th>col_random</th>\n",
       "      <th>total</th>\n",
       "    </tr>\n",
       "  </thead>\n",
       "  <tbody>\n",
       "    <tr>\n",
       "      <th>0</th>\n",
       "      <td>16.99</td>\n",
       "      <td>1.01</td>\n",
       "      <td>Mujer</td>\n",
       "      <td>No</td>\n",
       "      <td>Domingo</td>\n",
       "      <td>Comida</td>\n",
       "      <td>2</td>\n",
       "      <td>2.3</td>\n",
       "      <td>0.976124</td>\n",
       "      <td>2.890372</td>\n",
       "    </tr>\n",
       "    <tr>\n",
       "      <th>1</th>\n",
       "      <td>10.34</td>\n",
       "      <td>1.66</td>\n",
       "      <td>Hombre</td>\n",
       "      <td>No</td>\n",
       "      <td>Domingo</td>\n",
       "      <td>Comida</td>\n",
       "      <td>3</td>\n",
       "      <td>2.3</td>\n",
       "      <td>-0.355678</td>\n",
       "      <td>2.484907</td>\n",
       "    </tr>\n",
       "    <tr>\n",
       "      <th>2</th>\n",
       "      <td>21.01</td>\n",
       "      <td>3.50</td>\n",
       "      <td>Hombre</td>\n",
       "      <td>No</td>\n",
       "      <td>Domingo</td>\n",
       "      <td>Comida</td>\n",
       "      <td>3</td>\n",
       "      <td>2.3</td>\n",
       "      <td>0.523008</td>\n",
       "      <td>3.199081</td>\n",
       "    </tr>\n",
       "    <tr>\n",
       "      <th>3</th>\n",
       "      <td>23.68</td>\n",
       "      <td>3.31</td>\n",
       "      <td>Hombre</td>\n",
       "      <td>No</td>\n",
       "      <td>Domingo</td>\n",
       "      <td>Comida</td>\n",
       "      <td>2</td>\n",
       "      <td>2.3</td>\n",
       "      <td>-1.513037</td>\n",
       "      <td>3.295466</td>\n",
       "    </tr>\n",
       "    <tr>\n",
       "      <th>4</th>\n",
       "      <td>24.59</td>\n",
       "      <td>3.61</td>\n",
       "      <td>Mujer</td>\n",
       "      <td>No</td>\n",
       "      <td>Domingo</td>\n",
       "      <td>Comida</td>\n",
       "      <td>4</td>\n",
       "      <td>2.3</td>\n",
       "      <td>0.294015</td>\n",
       "      <td>3.339322</td>\n",
       "    </tr>\n",
       "  </tbody>\n",
       "</table>\n",
       "</div>"
      ],
      "text/plain": [
       "   cuenta  propina     sex fumador      día    hora  tamaño  col_vacia  \\\n",
       "0   16.99     1.01   Mujer      No  Domingo  Comida       2        2.3   \n",
       "1   10.34     1.66  Hombre      No  Domingo  Comida       3        2.3   \n",
       "2   21.01     3.50  Hombre      No  Domingo  Comida       3        2.3   \n",
       "3   23.68     3.31  Hombre      No  Domingo  Comida       2        2.3   \n",
       "4   24.59     3.61   Mujer      No  Domingo  Comida       4        2.3   \n",
       "\n",
       "   col_random     total  \n",
       "0    0.976124  2.890372  \n",
       "1   -0.355678  2.484907  \n",
       "2    0.523008  3.199081  \n",
       "3   -1.513037  3.295466  \n",
       "4    0.294015  3.339322  "
      ]
     },
     "execution_count": 51,
     "metadata": {},
     "output_type": "execute_result"
    }
   ],
   "source": [
    "tips['total'] = np.log(tips['total'])\n",
    "tips.head()"
   ]
  },
  {
   "cell_type": "markdown",
   "metadata": {},
   "source": [
    "<hr>\n",
    "<b><font color='red'>Ejercicio 01</font></b>  \n",
    "\n",
    "Lee el archivo \"super.cvs\", haz que se muestren por pantalla los 10 primeros registros\n"
   ]
  },
  {
   "cell_type": "code",
   "execution_count": 52,
   "metadata": {},
   "outputs": [
    {
     "data": {
      "text/plain": [
       "'Esribe tu código aquí'"
      ]
     },
     "execution_count": 52,
     "metadata": {},
     "output_type": "execute_result"
    }
   ],
   "source": [
    "#¿Cuántos artículos de media se comprán? ¿Cuál es su precio?\n",
    "\n",
    "\"\"\"Esribe tu código aquí\"\"\""
   ]
  },
  {
   "cell_type": "code",
   "execution_count": 53,
   "metadata": {},
   "outputs": [
    {
     "data": {
      "text/plain": [
       "'Esribe tu código aquí'"
      ]
     },
     "execution_count": 53,
     "metadata": {},
     "output_type": "execute_result"
    }
   ],
   "source": [
    "#¿Cuántos artículos de media se comprán?\n",
    "#¿Cuál es su precio?\n",
    "\"\"\"Esribe tu código aquí\"\"\""
   ]
  },
  {
   "cell_type": "code",
   "execution_count": 54,
   "metadata": {},
   "outputs": [
    {
     "data": {
      "text/plain": [
       "'Esribe tu código aquí'"
      ]
     },
     "execution_count": 54,
     "metadata": {},
     "output_type": "execute_result"
    }
   ],
   "source": [
    "#Muestra los diagramas de cajas\n",
    "\"\"\"Esribe tu código aquí\"\"\""
   ]
  },
  {
   "cell_type": "code",
   "execution_count": 55,
   "metadata": {},
   "outputs": [
    {
     "data": {
      "text/plain": [
       "'Esribe tu código aquí'"
      ]
     },
     "execution_count": 55,
     "metadata": {},
     "output_type": "execute_result"
    }
   ],
   "source": [
    "#haz un histograma del precio\n",
    "\"\"\"Esribe tu código aquí\"\"\""
   ]
  },
  {
   "cell_type": "code",
   "execution_count": 56,
   "metadata": {},
   "outputs": [],
   "source": [
    "#muestra un gráfico (scatter) del número de artículos respecto al precio"
   ]
  },
  {
   "cell_type": "code",
   "execution_count": 57,
   "metadata": {},
   "outputs": [
    {
     "data": {
      "text/plain": [
       "'Esribe tu código aquí'"
      ]
     },
     "execution_count": 57,
     "metadata": {},
     "output_type": "execute_result"
    }
   ],
   "source": [
    "#Encuentra los registros que se han gastado más que la media, haz que salgan por pantalla los 5 primeros registros \n",
    "\"\"\"Esribe tu código aquí\"\"\""
   ]
  },
  {
   "cell_type": "code",
   "execution_count": 58,
   "metadata": {},
   "outputs": [
    {
     "data": {
      "text/plain": [
       "'Esribe tu código aquí'"
      ]
     },
     "execution_count": 58,
     "metadata": {},
     "output_type": "execute_result"
    }
   ],
   "source": [
    "#¿Cuántas compras se han hecho con un precio mayor de 50 €, por hombres y el lunes?\n",
    "\"\"\"Esribe tu código aquí\"\"\""
   ]
  },
  {
   "cell_type": "code",
   "execution_count": 59,
   "metadata": {},
   "outputs": [
    {
     "data": {
      "text/plain": [
       "'Esribe tu código aquí'"
      ]
     },
     "execution_count": 59,
     "metadata": {},
     "output_type": "execute_result"
    }
   ],
   "source": [
    "#crea un histograma en que se muestren la distribución de las compras por días\n",
    "\"\"\"Esribe tu código aquí\"\"\""
   ]
  },
  {
   "cell_type": "code",
   "execution_count": 60,
   "metadata": {},
   "outputs": [
    {
     "data": {
      "text/plain": [
       "'Esribe tu código aquí'"
      ]
     },
     "execution_count": 60,
     "metadata": {},
     "output_type": "execute_result"
    }
   ],
   "source": [
    "#crea una nueva columna en la que se muestre el valor medío de los artículos comprados, muestra los 5 primeros varlores\n",
    "\"\"\"Esribe tu código aquí\"\"\""
   ]
  },
  {
   "cell_type": "code",
   "execution_count": 61,
   "metadata": {
    "code_folding": []
   },
   "outputs": [
    {
     "data": {
      "text/plain": [
       "'Esribe tu código aquí'"
      ]
     },
     "execution_count": 61,
     "metadata": {},
     "output_type": "execute_result"
    }
   ],
   "source": [
    "#muestra un histograma del valor medio\n",
    "\"\"\"Esribe tu código aquí\"\"\""
   ]
  },
  {
   "cell_type": "code",
   "execution_count": 62,
   "metadata": {},
   "outputs": [
    {
     "data": {
      "text/plain": [
       "'Esribe tu código aquí'"
      ]
     },
     "execution_count": 62,
     "metadata": {},
     "output_type": "execute_result"
    }
   ],
   "source": [
    "#cual es el valor medio\n",
    "\"\"\"Esribe tu código aquí\"\"\""
   ]
  },
  {
   "cell_type": "markdown",
   "metadata": {},
   "source": [
    "Analiza la correlacción, obtinenes alguna conclusión."
   ]
  },
  {
   "cell_type": "code",
   "execution_count": null,
   "metadata": {},
   "outputs": [],
   "source": []
  }
 ],
 "metadata": {
  "kernelspec": {
   "display_name": "Python 3",
   "language": "python",
   "name": "python3"
  },
  "language_info": {
   "codemirror_mode": {
    "name": "ipython",
    "version": 3
   },
   "file_extension": ".py",
   "mimetype": "text/x-python",
   "name": "python",
   "nbconvert_exporter": "python",
   "pygments_lexer": "ipython3",
   "version": "3.8.10"
  }
 },
 "nbformat": 4,
 "nbformat_minor": 4
}
