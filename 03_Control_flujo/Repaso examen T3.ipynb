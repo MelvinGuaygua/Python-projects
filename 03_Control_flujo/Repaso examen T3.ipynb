{
 "cells": [
  {
   "cell_type": "code",
   "execution_count": 1,
   "id": "9a21730f",
   "metadata": {},
   "outputs": [
    {
     "name": "stdout",
     "output_type": "stream",
     "text": [
      "4\n"
     ]
    }
   ],
   "source": [
    "def f(x):\n",
    "    return x*x\n",
    "\n",
    "x=2\n",
    "print(f(x))"
   ]
  },
  {
   "cell_type": "code",
   "execution_count": 2,
   "id": "eb5e81a1",
   "metadata": {},
   "outputs": [
    {
     "name": "stdout",
     "output_type": "stream",
     "text": [
      "el segundo es mayor\n"
     ]
    }
   ],
   "source": [
    "def funcion(a, b):\n",
    "    if a>b:\n",
    "        print(\"el primero es mayor\")\n",
    "    elif b>a:\n",
    "        print(\"el segundo es mayor\")\n",
    "\n",
    "funcion(1,5)"
   ]
  },
  {
   "cell_type": "code",
   "execution_count": 4,
   "id": "e159e1d2",
   "metadata": {},
   "outputs": [
    {
     "name": "stdout",
     "output_type": "stream",
     "text": [
      "6\n",
      "6\n"
     ]
    }
   ],
   "source": [
    "def f(x, y):\n",
    "    return x * 2, y * 3\n",
    "\n",
    "a, b = f(1, 2)\n",
    "print(a)      # 2\n",
    "print(b)      # 6\n",
    "\n"
   ]
  },
  {
   "cell_type": "code",
   "execution_count": 10,
   "id": "8b89665b",
   "metadata": {},
   "outputs": [
    {
     "name": "stdout",
     "output_type": "stream",
     "text": [
      "6\n"
     ]
    }
   ],
   "source": [
    "def factorial(numeroRecibe):\n",
    "    if numeroRecibe > 1:\n",
    "        numeroRecibe = numeroRecibe * factorial(numeroRecibe-1)\n",
    "    return numeroRecibe\n",
    "\n",
    "print(factorial(3))"
   ]
  },
  {
   "cell_type": "code",
   "execution_count": 16,
   "id": "1614fbf5",
   "metadata": {},
   "outputs": [
    {
     "name": "stdout",
     "output_type": "stream",
     "text": [
      "0\n",
      "1\n",
      "2\n",
      "3\n",
      "4\n",
      "5\n",
      "el tiempo final es 5\n"
     ]
    }
   ],
   "source": [
    "#BUCLE WHILE\n",
    "tiempo = 0\n",
    "print(tiempo)\n",
    "while tiempo < 5:\n",
    "    tiempo+=1\n",
    "    print(tiempo)\n",
    "    \n",
    "    \n",
    "print(\"el tiempo final es \"+str(tiempo))\n",
    "    "
   ]
  },
  {
   "cell_type": "code",
   "execution_count": 29,
   "id": "73b286f2",
   "metadata": {},
   "outputs": [
    {
     "name": "stdout",
     "output_type": "stream",
     "text": [
      "uno\n",
      "dos\n",
      "tres\n",
      "---\n",
      "0\n",
      "1\n",
      "2\n",
      "3\n",
      "---\n",
      "0\n",
      "2\n",
      "4\n",
      "6\n",
      "8\n",
      "10\n"
     ]
    }
   ],
   "source": [
    "#BUCLE FOR\n",
    "secuencia = ['uno', 'dos', 'tres']\n",
    "for i in secuencia:\n",
    "    print(i)\n",
    "    \n",
    "print(\"---\")\n",
    "#BUCLE FOR CON RANGO\n",
    "for i in range(0,4):\n",
    "    print(i)\n",
    "    \n",
    "print(\"---\")\n",
    "#BUCLE FOR CON RANGO QUE SALTA\n",
    "for i in range(0,11,2):\n",
    "    print(i)"
   ]
  },
  {
   "cell_type": "markdown",
   "id": "c6098e35",
   "metadata": {},
   "source": [
    "<hr>\n",
    "<b><font color='red'>Ejercicio 01</font></b>  \n",
    "\n",
    "- __La media__, es el promedio  \n",
    "$$\\mu = \\frac{1}{N}\\sum_{i=1}^{N} x_i$$\n",
    "- __La desviación estandar__ es una medida que se utiliza para cuantificar la variación o la dispersión de un conjunto de datos numéricos  \n",
    "$$\\sigma = \\sqrt{\\frac{1}{N}\\sum_{i=1}^{N} ( \\mu  - x_i )^{2}} $$\n",
    "Crea una función que te devuelva la media y la desviación estándar de una lista ordenada.  \n",
    "Pruébalo con lista = [4, 1, 11, 13, 2, 7]  \n",
    "ayuda : https://es.wikipedia.org/wiki/Desviaci%C3%B3n_t%C3%ADpica"
   ]
  },
  {
   "cell_type": "code",
   "execution_count": 31,
   "id": "4905dc2c",
   "metadata": {},
   "outputs": [
    {
     "name": "stdout",
     "output_type": "stream",
     "text": [
      "[4, 1, 11, 13, 2, 7]\n",
      "media = 6.333333333333333 ± 4.459696053419884\n"
     ]
    }
   ],
   "source": [
    "def media(l):\n",
    "    contador=0\n",
    "    for i in l:\n",
    "        contador=contador+i\n",
    "    media = contador / len(l)\n",
    "    return media\n",
    "\n",
    "\n",
    "def DES(l):\n",
    "    miMedia = media(l) #con esto saco la media y lo guardo en una variable\n",
    "    desviacion = 0\n",
    "    for i in l:\n",
    "        desviacion = desviacion + ((miMedia-i)**2)\n",
    "    desviacion = desviacion / len(l)\n",
    "    desviacion = desviacion**0.5\n",
    "    return desviacion\n",
    "\n",
    "lista = [4, 1, 11, 13, 2, 7]\n",
    "print(lista)\n",
    "print(\"media = \"+str(media(lista))+\" \\u00B1 \"+str(DES(lista)))\n",
    "\n",
    "# respuesta: 6.33+- 4.4596"
   ]
  },
  {
   "cell_type": "markdown",
   "id": "7b4b811c",
   "metadata": {},
   "source": [
    "<hr>\n",
    "<b><font color='red'>Ejercicio 02 </font></b>  \n",
    "    \n",
    "En matemática, la sucesión o __serie de Fibonacci__ es la siguiente sucesión infinita de números naturales:  \n",
    "0 , 1 , 1 , 2 , 3 , 5 , 8 , 13 , 21 , 34 , 55 , 89 , 144 , 233 , 377 , 610 , 987 , 1597  \n",
    "Crea una función que te devuelva la serie de Fibonacci hasta un número dado"
   ]
  },
  {
   "cell_type": "code",
   "execution_count": 48,
   "id": "0ff61432",
   "metadata": {},
   "outputs": [
    {
     "name": "stdout",
     "output_type": "stream",
     "text": [
      "0 1 1 2 3 5 8 13 21 34 "
     ]
    }
   ],
   "source": [
    "def fibonacci(n):\n",
    "    lista=[0]\n",
    "    for i in range(0, n-1): #resto -1 a N porque he inicializado mi lista con el cero\n",
    "        if i==0 or i==1:\n",
    "            lista.append(1)\n",
    "        else: \n",
    "            num = lista[-2] + lista[-1]\n",
    "            lista.append(num)\n",
    "    return lista\n",
    "\n",
    "for i in fibonacci(10):\n",
    "    print(i,end=\" \")"
   ]
  },
  {
   "cell_type": "code",
   "execution_count": 42,
   "id": "569e9f0c",
   "metadata": {},
   "outputs": [
    {
     "name": "stdout",
     "output_type": "stream",
     "text": [
      "5\n"
     ]
    }
   ],
   "source": [
    "lista=[1,2,3,4,5]\n",
    "\n",
    "print(lista[len(lista)-1])"
   ]
  },
  {
   "cell_type": "markdown",
   "id": "56916784",
   "metadata": {},
   "source": [
    "<hr>\n",
    "<b><font color='red'>Ejercicio 03</font></b>  \n",
    "\n",
    "Cuenta que, cuando Julio César escribía sus mensajes, reemplazaba cada letra por la que estaba tres lugares más adelante en el alfabeto. Es decir,\n",
    "\"césar\" pasaba a ser \"FHVDU\", crea una función llamada Julio_Cesar.py que encripte los mensajes de entrada de la siguiente forma:\n",
    "- Pasa las palabras a mayúsculas\n",
    "- Quita los acentos Á -> A, etc ..\n",
    "- Cambia solo ABCDEFGHIJKLMNÑOPQRSTUVWXYZ"
   ]
  },
  {
   "cell_type": "code",
   "execution_count": 70,
   "id": "93584e66",
   "metadata": {},
   "outputs": [
    {
     "name": "stdout",
     "output_type": "stream",
     "text": [
      "KRÑD MXÑLR FHVDU, ¿TXH WDÑ HVWDV? DEFGHIJKLMNÑOPQRSTUVWXYZABC\n",
      "OHÑYLP\n"
     ]
    }
   ],
   "source": [
    "def Julio_Cesar(entrada):\n",
    "    abc=\"ABCDEFGHIJKLMNÑOPQRSTUVWXYZ\"\n",
    "    abc2=\"DEFGHIJKLMNÑOPQRSTUVWXYZABC\" #creo otra lista con letras desplazadas\n",
    "    s = entrada\n",
    "    s = s.upper()\n",
    "    s = s.replace(\"Á\",\"A\").replace(\"É\",\"E\").replace(\"Í\",\"I\").replace(\"Ó\",\"O\").replace(\"Ú\",\"U\")\n",
    "    \n",
    "    salida=\"\"\n",
    "    for i in range(len(s)):\n",
    "        if s[i] == \"¿\":\n",
    "            salida = salida+\"¿\"\n",
    "        elif s[i] == \"?\":\n",
    "            salida = salida+\"?\"\n",
    "        elif s[i] == \",\":\n",
    "            salida = salida+\",\"\n",
    "        elif abc.count(s[i]) > 0: #si esa palabra esta contenida en el string se cambia \n",
    "            indice = abc.index(s[i]) #guardo en una variable el indice de la letra i\n",
    "            salida = salida + abc2[indice] #buscon con ese indice en abc2\n",
    "        else:\n",
    "            salida = salida + \" \"\n",
    "    print(salida)\n",
    "    \n",
    "\n",
    "# #esta debería ser la salida\n",
    "# salida=\"KRÑD MXÑLR FHVDU, ¿TXH WDÑ HVWDV? DEFGHIJKLMNÑOPQRSTUVWXYZABC\"\n",
    "# print(salida)\n",
    "    \n",
    "Julio_Cesar(\"Hola Julio Cesar, ¿Qué tal estas? ABCDEFGHIJKLMNÑOPQRSTUVWXYZ\")"
   ]
  },
  {
   "cell_type": "code",
   "execution_count": 67,
   "id": "adf0102a",
   "metadata": {},
   "outputs": [
    {
     "name": "stdout",
     "output_type": "stream",
     "text": [
      "0\n",
      "0\n",
      "4\n",
      "HOLA JULIO CESAR, ¿QUE TAL ESTAS? ABCDEFGHIJKLMNÑOPQRSTUVWXYZ\n"
     ]
    }
   ],
   "source": [
    "s = \"Hola Julio Cesar, ¿Qué tal estas? ABCDEFGHIJKLMNÑOPQRSTUVWXYZ\"\n",
    "\n",
    "a = s.find(\"H\") #FIND ME DA EL INDICE DE LA PALABRA QUE BUSCO\n",
    "print(a)\n",
    "print(s.index(\"H\")) #INDEX ES LO MISMO QUE FIND\n",
    "\n",
    "print(s.count(\"a\")) #COUNT DEVUELVE CUANTAS VECES SALE LO QUE PONGO\n",
    "\n",
    "s = s.upper()\n",
    "s = s.replace(\"Á\",\"A\").replace(\"É\",\"E\").replace(\"Ì\",\"I\").replace(\"Ò\",\"O\").replace(\"Ù\",\"U\")\n",
    "print(s)"
   ]
  },
  {
   "cell_type": "code",
   "execution_count": 72,
   "id": "a2f08430",
   "metadata": {},
   "outputs": [
    {
     "name": "stdout",
     "output_type": "stream",
     "text": [
      "BÑGM HIGUCJ, ¿PTI SMG IRSMR? MELVINABCDFGHJKÑOPQRSTUWXYZ\n"
     ]
    }
   ],
   "source": [
    "def tuNombre(entrada):\n",
    "    abc=\"ABCDEFGHIJKLMNÑOPQRSTUVWXYZ\"\n",
    "    abc2=\"MELVINABCDFGHJKÑOPQRSTUWXYZ\" #me creo otra lista con letras desplazadas\n",
    "    s = entrada\n",
    "    s = s.upper()\n",
    "    s = s.replace(\"Á\",\"A\").replace(\"É\",\"E\").replace(\"Í\",\"I\").replace(\"Ó\",\"O\").replace(\"Ú\",\"U\")\n",
    "    \n",
    "    salida=\"\"\n",
    "    for i in range(len(s)):\n",
    "        if s[i] == \"¿\":\n",
    "            salida = salida+\"¿\"\n",
    "        elif s[i] == \"?\":\n",
    "            salida = salida+\"?\"\n",
    "        elif s[i] == \",\":\n",
    "            salida = salida+\",\"\n",
    "        elif abc.count(s[i]) > 0: #si esa palabra esta contenida en el string se cambia \n",
    "            indice = abc.index(s[i]) #guardo en una variable el indice de la letra i\n",
    "            salida = salida + abc2[indice] #buscon con ese indice en abc2\n",
    "        else:\n",
    "            salida = salida + \" \"\n",
    "    print(salida)\n",
    "    \n",
    "\n",
    "# #esta debería ser la salida\n",
    "# salida=\"KRÑD MXÑLR FHVDU, ¿TXH WDÑ HVWDV? DEFGHIJKLMNÑOPQRSTUVWXYZABC\"\n",
    "# print(salida)\n",
    "    \n",
    "tuNombre(\"Hola Melvin, ¿Qué tal estas? ABCDEFGHIJKLMNÑOPQRSTUVWXYZ\")"
   ]
  },
  {
   "cell_type": "code",
   "execution_count": null,
   "id": "1b868894",
   "metadata": {},
   "outputs": [],
   "source": []
  }
 ],
 "metadata": {
  "kernelspec": {
   "display_name": "Python 3 (ipykernel)",
   "language": "python",
   "name": "python3"
  },
  "language_info": {
   "codemirror_mode": {
    "name": "ipython",
    "version": 3
   },
   "file_extension": ".py",
   "mimetype": "text/x-python",
   "name": "python",
   "nbconvert_exporter": "python",
   "pygments_lexer": "ipython3",
   "version": "3.9.7"
  }
 },
 "nbformat": 4,
 "nbformat_minor": 5
}
