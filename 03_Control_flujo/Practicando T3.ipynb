{
 "cells": [
  {
   "cell_type": "code",
   "execution_count": 1,
   "id": "7ec27db8",
   "metadata": {},
   "outputs": [
    {
     "name": "stdout",
     "output_type": "stream",
     "text": [
      "muy mal\n"
     ]
    }
   ],
   "source": [
    "def funcion(x):\n",
    "    if x == 1: #en la mayoria de los casos tengo que usar ==/!= en vez de is/is not\n",
    "        print(\"muy bien\")\n",
    "    elif x==0:\n",
    "        print(\"muy mal\")\n",
    "        \n",
    "funcion(0)"
   ]
  },
  {
   "cell_type": "code",
   "execution_count": 8,
   "id": "60f754ae",
   "metadata": {},
   "outputs": [
    {
     "name": "stdout",
     "output_type": "stream",
     "text": [
      "uno\n",
      "dos\n",
      "tres\n",
      "uno\n",
      "dos\n",
      "tres\n",
      "----\n",
      "0\n",
      "1\n",
      "2\n",
      "3\n",
      "4\n",
      "0\n",
      "2\n",
      "4\n",
      "6\n",
      "8\n"
     ]
    }
   ],
   "source": [
    "secuencia = ['uno', 'dos', 'tres']\n",
    "for i in secuencia:\n",
    "    print(i)\n",
    "    \n",
    "for i in range(0,len(secuencia)):\n",
    "    print(secuencia[i])\n",
    "\n",
    "print(\"----\")\n",
    "\n",
    "for i in range(0,5):\n",
    "    print(i)\n",
    "for i in range(0,10,2):\n",
    "    print(i)"
   ]
  },
  {
   "cell_type": "markdown",
   "id": "5de198f3",
   "metadata": {},
   "source": [
    "<hr>\n",
    "<b><font color='red'>Ejercicio 01</font></b>  \n",
    "\n",
    "- __La media__, es el promedio  \n",
    "$$\\mu = \\frac{1}{N}\\sum_{i=1}^{N} x_i$$\n",
    "- __La desviación estandar__ es una medida que se utiliza para cuantificar la variación o la dispersión de un conjunto de datos numéricos  \n",
    "$$\\sigma = \\sqrt{\\frac{1}{N}\\sum_{i=1}^{N} ( \\mu  - x_i )^{2}} $$\n",
    "Crea una función que te devuelva la media y la desviación estándar de una lista ordenada.  \n",
    "Pruébalo con lista = [4, 1, 11, 13, 2, 7]  \n",
    "ayuda : https://es.wikipedia.org/wiki/Desviaci%C3%B3n_t%C3%ADpica\n"
   ]
  },
  {
   "cell_type": "code",
   "execution_count": 3,
   "id": "1e17a159",
   "metadata": {},
   "outputs": [
    {
     "name": "stdout",
     "output_type": "stream",
     "text": [
      "[4, 1, 11, 13, 2, 7]\n",
      "media = 6.333333333333333 ± 4.459696053419884\n"
     ]
    }
   ],
   "source": [
    "def media(l):\n",
    "    cont=0\n",
    "    for i in l:\n",
    "        cont=cont+i\n",
    "    media = cont/len(lista)\n",
    "    return media\n",
    "\n",
    "def DES(l):\n",
    "    m=media(l)\n",
    "    resul=0\n",
    "    for i in l:\n",
    "#         a=i-m\n",
    "#         a=a*a\n",
    "#         resul=resul+a\n",
    "        resul=resul+((i-m)**2)\n",
    "\n",
    "    resul=resul/len(l)\n",
    "    resul=resul**(1/2)\n",
    "    return resul\n",
    "\n",
    "lista = [4, 1, 11, 13, 2, 7]\n",
    "print(lista)\n",
    "print(\"media = \"+str(media(lista))+\" \\u00B1 \"+str(DES(lista)))"
   ]
  },
  {
   "cell_type": "code",
   "execution_count": 4,
   "id": "48c53cd4",
   "metadata": {},
   "outputs": [
    {
     "name": "stdout",
     "output_type": "stream",
     "text": [
      "6.333333333333333\n",
      "4.459696053419884\n"
     ]
    }
   ],
   "source": [
    "lista = [4, 1, 11, 13, 2, 7]\n",
    "\n",
    "def media(l):\n",
    "    cont=0\n",
    "    for i in l:\n",
    "        cont=cont+i\n",
    "    media = cont/len(lista)\n",
    "    return media\n",
    "\n",
    "print(media(lista))\n",
    "\n",
    "def DES(l):\n",
    "    m=media(l)\n",
    "    resul=0\n",
    "    for i in l:\n",
    "        a=i-m\n",
    "        a=a*a\n",
    "        resul=resul+a\n",
    "    resul=resul/len(l)\n",
    "    resul=resul**(1/2)\n",
    "    return resul\n",
    "    \n",
    "print(DES(lista))"
   ]
  },
  {
   "cell_type": "markdown",
   "id": "f329a7fa",
   "metadata": {},
   "source": [
    "<hr>\n",
    "<b><font color='red'>Ejercicio 02 </font></b>  \n",
    "    \n",
    "En matemática, la sucesión o __serie de Fibonacci__ es la siguiente sucesión infinita de números naturales:  \n",
    "0 , 1 , 1 , 2 , 3 , 5 , 8 , 13 , 21 , 34 , 55 , 89 , 144 , 233 , 377 , 610 , 987 , 1597  \n",
    "Crea una función que te devuelva la serie de Fibonacci hasta un número dado"
   ]
  },
  {
   "cell_type": "code",
   "execution_count": 7,
   "id": "29c01ca4",
   "metadata": {},
   "outputs": [
    {
     "name": "stdout",
     "output_type": "stream",
     "text": [
      "0 1 1 2 3 5 8 13 21 34 "
     ]
    }
   ],
   "source": [
    "def fibonacci(n):\n",
    "    lista=[0]\n",
    "    for i in range(0,n-1):\n",
    "        if i==0 or i==1:\n",
    "            lista.append(1)\n",
    "        else:\n",
    "            num = lista[-2]+lista[-1]\n",
    "            lista.append(num)\n",
    "#     for i in lista:\n",
    "#         print(i,end=\" \")\n",
    "    return lista\n",
    "\n",
    "for i in fibonacci(10):\n",
    "    print(i,end=\" \")"
   ]
  },
  {
   "cell_type": "code",
   "execution_count": 15,
   "id": "1a8aa589",
   "metadata": {},
   "outputs": [
    {
     "name": "stdout",
     "output_type": "stream",
     "text": [
      "0 1 1 2 3 5 8 13 21 34 "
     ]
    }
   ],
   "source": [
    "def fibonacci(n):\n",
    "    lista=[0]\n",
    "    for i in range(0,n-1): #este bucle recorre desde 0-9\n",
    "        if i==0 or i==1:\n",
    "#             print(\"prueba\",i)\n",
    "            lista.append(1)\n",
    "        else:\n",
    "#             print(\"prueba xd\",i)\n",
    "            num=lista[-2]+lista[-1]\n",
    "            lista.append(num)\n",
    "    for i in lista:\n",
    "        print(i,end=\" \")\n",
    "\n",
    "fibonacci(10)"
   ]
  },
  {
   "cell_type": "markdown",
   "id": "f254e5ed",
   "metadata": {},
   "source": [
    "<hr>\n",
    "<b><font color='red'>Ejercicio 03</font></b>  \n",
    "\n",
    "Cuenta que, cuando Julio César escribía sus mensajes, reemplazaba cada letra por la que estaba tres lugares más adelante en el alfabeto. Es decir,\n",
    "\"césar\" pasaba a ser \"FHVDU\", crea una función llamada Julio_Cesar.py que encripte los mensajes de entrada de la siguiente forma:\n",
    "- Pasa las palabras a mayúsculas\n",
    "- Quita los acentos Á -> A, etc ..\n",
    "- Cambia solo ABCDEFGHIJKLMNÑOPQRSTUVWXYZ\n"
   ]
  },
  {
   "cell_type": "code",
   "execution_count": 18,
   "id": "deb6d43d",
   "metadata": {},
   "outputs": [
    {
     "name": "stdout",
     "output_type": "stream",
     "text": [
      "Hola Julio Cesar, ¿Qué tal estas? ABCDEFGHIJKLMNÑOPQRSTUVWXYZ\n",
      "KRÑD MXÑLR FHVDU, ¿TXH WDÑ HVWDV? DEFGHIJKLMNÑOPQRSTUVWXYZABC\n"
     ]
    }
   ],
   "source": [
    "def Julio_Cesar(entrada):\n",
    "    print(entrada)\n",
    "    abc=\"ABCDEFGHIJKLMNÑOPQRSTUVWXYZ\"\n",
    "    \n",
    "    \"\"\"Esribe tu código aquí\"\"\"\n",
    "    \n",
    "    #esta debería ser la salida\n",
    "    salida=\"KRÑD MXÑLR FHVDU, ¿TXH WDÑ HVWDV? DEFGHIJKLMNÑOPQRSTUVWXYZABC\"\n",
    "    \n",
    "    print(salida)\n",
    "\n",
    "Julio_Cesar(\"Hola Julio Cesar, ¿Qué tal estas? ABCDEFGHIJKLMNÑOPQRSTUVWXYZ\")\n"
   ]
  },
  {
   "cell_type": "code",
   "execution_count": 46,
   "id": "806f0ed8",
   "metadata": {},
   "outputs": [
    {
     "name": "stdout",
     "output_type": "stream",
     "text": [
      "KRÑD MXÑLR FHVDU, ¿TXH WDÑ HVWDV? DEFGHIJKLMNÑOPQRSTUVWXYZABC\n"
     ]
    }
   ],
   "source": [
    "def Julio_Cesar(entrada):\n",
    "    abc=\"ABCDEFGHIJKLMNÑOPQRSTUVWXYZ\"\n",
    "    abc2=\"DEFGHIJKLMNÑOPQRSTUVWXYZABC\"\n",
    "    s=entrada\n",
    "    s=s.upper()\n",
    "    s=s.replace(\"Á\",\"A\").replace(\"É\",\"E\").replace(\"Í\",\"I\").replace(\"Ó\",\"O\").replace(\"Ú\",\"U\")\n",
    "    \n",
    "    resul=\"\"\n",
    "    for i in range(0,len(s)):\n",
    "        pos=abc.find(s[i])\n",
    "        if s[i]==\"¿\":\n",
    "            resul=resul+\"¿\"\n",
    "        elif s[i]==\"?\":\n",
    "            resul=resul+\"?\"\n",
    "        elif s[i]==\",\":\n",
    "            resul=resul+\",\"\n",
    "        elif abc.count(s[i])>0:\n",
    "            indice = abc.index(s[i]) #guardo en una variable el indice de la letra i\n",
    "            resul=resul+abc2[pos] #ese mismo indice lo busca en abc2 para añadirlo a mi string\n",
    "        else:\n",
    "            resul=resul+\" \"\n",
    "    print(resul)\n",
    "\n",
    "Julio_Cesar(\"Hola Julio Cesar, ¿Qué tal estas? ABCDEFGHIJKLMNÑOPQRSTUVWXYZ\")"
   ]
  },
  {
   "cell_type": "markdown",
   "id": "b8b59b29",
   "metadata": {},
   "source": [
    "<hr>\n",
    "<b><font color='red'>Ejercicio 04</font></b>  \n",
    "\n",
    "El cifrado con clave, hay algunas formas de mejorar el método de Julio Cesar sin complicarlo demasiado, por ejemplo elegir una palabra clave con todas sus letras diferentes, supongamos que elegimos TUNOMBRE. Escribimos entonces el alfabeto normal junto con el transformado siguiente:\n",
    "\n",
    "    abc=\"ABCDEFGHIJKLMNÑOPQRSTUVWXYZ\"\n",
    "    ABC=\"TUNOMBREACDFGHIJKLÑOPQVWXYZ\" \n",
    "Utiliza tu nombre sin repetir ninguna letra, es decir si te llamas ANTONIO usa ANTOI "
   ]
  },
  {
   "cell_type": "code",
   "execution_count": 50,
   "id": "1ff4a4ba",
   "metadata": {},
   "outputs": [
    {
     "name": "stdout",
     "output_type": "stream",
     "text": [
      "BÑGM HIGUCJ, ¿PTI SMG IRSMR? MELVINABCDFGHJKÑOPQRSTUWXYZ\n"
     ]
    }
   ],
   "source": [
    "def tu_nombre(entrada):\n",
    "    abc=\"ABCDEFGHIJKLMNÑOPQRSTUVWXYZ\"\n",
    "    abc2=\"MELVINABCDFGHJKÑOPQRSTUWXYZ\"\n",
    "    s=entrada\n",
    "    s=s.upper()\n",
    "    s=s.replace(\"Á\",\"A\").replace(\"É\",\"E\").replace(\"Í\",\"I\").replace(\"Ó\",\"O\").replace(\"Ú\",\"U\")\n",
    "    \n",
    "    resul=\"\"\n",
    "    for i in range(0,len(s)):\n",
    "        pos=abc.find(s[i])\n",
    "        if s[i]==\"¿\":\n",
    "            resul=resul+\"¿\"\n",
    "        elif s[i]==\"?\":\n",
    "            resul=resul+\"?\"\n",
    "        elif s[i]==\",\":\n",
    "            resul=resul+\",\"\n",
    "        elif abc.count(s[i])>0:\n",
    "            indice = abc.index(s[i]) #guardo en una variable el indice de la letra i\n",
    "            resul=resul+abc2[pos] #ese mismo indice lo busca en abc2 para añadirlo a mi string\n",
    "        else:\n",
    "            resul=resul+\" \"\n",
    "    print(resul)\n",
    "\n",
    "tu_nombre(\"Hola Melvin, ¿Qué tal estas? ABCDEFGHIJKLMNÑOPQRSTUVWXYZ\")\n",
    "\n"
   ]
  }
 ],
 "metadata": {
  "kernelspec": {
   "display_name": "Python 3 (ipykernel)",
   "language": "python",
   "name": "python3"
  },
  "language_info": {
   "codemirror_mode": {
    "name": "ipython",
    "version": 3
   },
   "file_extension": ".py",
   "mimetype": "text/x-python",
   "name": "python",
   "nbconvert_exporter": "python",
   "pygments_lexer": "ipython3",
   "version": "3.10.0"
  }
 },
 "nbformat": 4,
 "nbformat_minor": 5
}
