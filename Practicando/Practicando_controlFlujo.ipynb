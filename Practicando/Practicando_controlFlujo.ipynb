{
 "cells": [
  {
   "cell_type": "code",
   "execution_count": 4,
   "id": "e3cdf326",
   "metadata": {},
   "outputs": [
    {
     "name": "stdout",
     "output_type": "stream",
     "text": [
      "el resultado es 7\n",
      "el resultado es 7\n"
     ]
    }
   ],
   "source": [
    "y=2\n",
    "x=5\n",
    "resultado = x+y\n",
    "print(\"el resultado es \"+str(resultado)) #para concatenar un string y un int tengo que castear el int  \n",
    "print(\"el resultado es\",resultado)"
   ]
  },
  {
   "cell_type": "code",
   "execution_count": 10,
   "id": "72a90b81",
   "metadata": {},
   "outputs": [
    {
     "name": "stdout",
     "output_type": "stream",
     "text": [
      "9\n"
     ]
    }
   ],
   "source": [
    "def funcion1(x):\n",
    "    return x*x\n",
    "\n",
    "print(funcion1(3))"
   ]
  },
  {
   "cell_type": "code",
   "execution_count": 1,
   "id": "6f1b872e",
   "metadata": {},
   "outputs": [
    {
     "name": "stdout",
     "output_type": "stream",
     "text": [
      "hola melvin\n"
     ]
    }
   ],
   "source": [
    "def saludar(nombre):\n",
    "    return \"hola \"+nombre;\n",
    "\n",
    "print(saludar(\"melvin\"))"
   ]
  },
  {
   "cell_type": "code",
   "execution_count": 13,
   "id": "7f9df149",
   "metadata": {},
   "outputs": [
    {
     "name": "stdout",
     "output_type": "stream",
     "text": [
      "uno\n",
      "dos\n",
      "tres\n",
      "---------------\n",
      "1 2 3 4 5 \n",
      "---------------\n",
      "a\n",
      "b\n",
      "c\n"
     ]
    }
   ],
   "source": [
    "#imprimir una lista(array) con bucle for\n",
    "secuencia = ['uno', 'dos', 'tres']\n",
    "for i in secuencia:\n",
    "    print(i)\n",
    "print(\"---------------\")\n",
    "# imprimir lista con bucle for sin salto de linea\n",
    "lista = [1,2,3,4,5]\n",
    "for i in lista:\n",
    "    print(i, end=\" \")\n",
    "print(\"\")\n",
    "print(\"---------------\")\n",
    "#imprimir una lista usando una funcion\n",
    "secuencia = ['a', 'b', 'c']\n",
    "def funImprimir(lista):\n",
    "    for i in lista:\n",
    "        print(i)\n",
    "funImprimir(secuencia)"
   ]
  },
  {
   "cell_type": "code",
   "execution_count": 10,
   "id": "3e5ce078",
   "metadata": {},
   "outputs": [
    {
     "name": "stdout",
     "output_type": "stream",
     "text": [
      "7\n",
      "7\n",
      "7\n",
      "7\n",
      "hola, hola, hola, hola, "
     ]
    }
   ],
   "source": [
    "#BUCLE FOR\n",
    "for i in range(0,4):\n",
    "    print(7)\n",
    "\n",
    "#FUNCION QUE TIENE DENTRO UN BUCLE FOR\n",
    "def funcion(x):\n",
    "    for i in range(0,4):\n",
    "        print(x) \n",
    "funcion(\"hola\")\n",
    "    "
   ]
  },
  {
   "cell_type": "code",
   "execution_count": 34,
   "id": "714e197d",
   "metadata": {},
   "outputs": [
    {
     "name": "stdout",
     "output_type": "stream",
     "text": [
      "H o l a   J u l i o   C e s a r \n",
      "32 32 \n",
      "75 114 111 100 35 77 120 111 108 114 35 70 104 118 100 117 \n",
      "Krod  Mxolr  Fhvdu\n"
     ]
    }
   ],
   "source": [
    "s=\"Hola Julio Cesar\"\n",
    "salida=\"KRÑD MXÑLR FHVDU\"\n",
    "\n",
    "#CARACTERES IMPRIMIDOS\n",
    "for i in range(0,len(s)): #uso el len(s) para saber la longitud de s\n",
    "    print(s[i], end=\" \")\n",
    "print(\"\")\n",
    "\n",
    "#ASCII IMPRIMIDO\n",
    "for i in range(0,len(s)): #uso el len(s) para saber la longitud de s\n",
    "    if ord(s[i])==32:\n",
    "        print(ord(s[i]), end=\" \")\n",
    "print(\"\")\n",
    "\n",
    "#ASCII DESPLAZADO\n",
    "for i in range(0,len(s)): #uso el len(s) para saber la longitud de s\n",
    "    print(ord(s[i])+3, end=\" \")\n",
    "print(\"\")\n",
    "\n",
    "#CARACTERES DESPLAZADOS\n",
    "for i in range(0,len(s)): #uso el len(s) para saber la longitud de s\n",
    "    if ord(s[i])==32:\n",
    "        print(chr(ord(s[i])), end=\" \") #si el ascii es 32 (es decir, espacio) que no haga el cambio\n",
    "    else:\n",
    "        print(chr(ord(s[i])+3), end=\"\")\n",
    "print(\"\")"
   ]
  },
  {
   "cell_type": "code",
   "execution_count": 9,
   "id": "993e95ab",
   "metadata": {},
   "outputs": [
    {
     "name": "stdout",
     "output_type": "stream",
     "text": [
      "ABDCDE\n"
     ]
    }
   ],
   "source": [
    "import unicodedata\n",
    "entrada = \"ábdcdé\"\n",
    "# cadenaMayus=cadena.upper()\n",
    "# print(cadenaMayus)\n",
    "\n",
    "entradaMayus=(unicodedata.normalize(\"NFKD\", entrada).encode(\"ascii\",\"ignore\").decode(\"ascii\")).upper()\n",
    "print(entradaMayus)\n"
   ]
  },
  {
   "cell_type": "code",
   "execution_count": 3,
   "id": "46f0b7ca",
   "metadata": {},
   "outputs": [
    {
     "name": "stdout",
     "output_type": "stream",
     "text": [
      "¡Hola, mundo!\n",
      "¡HOLA, MUNDO!\n"
     ]
    }
   ],
   "source": [
    "def funcion1(cadenaSinTildes):\n",
    "    replacements = (\n",
    "        (\"á\", \"a\"),\n",
    "        (\"é\", \"e\"),\n",
    "        (\"í\", \"i\"),\n",
    "        (\"ó\", \"o\"),\n",
    "        (\"ú\", \"u\"),\n",
    "    )\n",
    "        \n",
    "    for a, b in replacements:\n",
    "        cadenaSinTildes = cadenaSinTildes.replace(a, b).replace(a.upper(), b.upper())\n",
    "    return cadenaSinTildes\n",
    "\n",
    "print(funcion1(\"¿Hólá, múndó?\"))\n",
    "print(funcion1(\"¡HÓLÁ, MÚNDÓ!\"))\n"
   ]
  },
  {
   "cell_type": "code",
   "execution_count": 16,
   "id": "5fda9944",
   "metadata": {},
   "outputs": [
    {
     "name": "stdout",
     "output_type": "stream",
     "text": [
      "ab¿?e\n"
     ]
    }
   ],
   "source": [
    "s=\"áb¿?é\"\n",
    "replacements = ((\"á\", \"a\"),(\"é\", \"e\"),(\"í\", \"i\"),(\"ó\", \"o\"),(\"ú\", \"u\"),)\n",
    "for a, b in replacements:\n",
    "#     s = (s.replace(a, b).replace(a.upper(), b.upper())).upper()\n",
    "     s = s.replace(a, b).replace(a.upper(), b.upper())\n",
    "\n",
    "print(s)"
   ]
  },
  {
   "cell_type": "code",
   "execution_count": null,
   "id": "f4e9165f",
   "metadata": {},
   "outputs": [],
   "source": []
  }
 ],
 "metadata": {
  "kernelspec": {
   "display_name": "Python 3 (ipykernel)",
   "language": "python",
   "name": "python3"
  },
  "language_info": {
   "codemirror_mode": {
    "name": "ipython",
    "version": 3
   },
   "file_extension": ".py",
   "mimetype": "text/x-python",
   "name": "python",
   "nbconvert_exporter": "python",
   "pygments_lexer": "ipython3",
   "version": "3.9.7"
  }
 },
 "nbformat": 4,
 "nbformat_minor": 5
}
