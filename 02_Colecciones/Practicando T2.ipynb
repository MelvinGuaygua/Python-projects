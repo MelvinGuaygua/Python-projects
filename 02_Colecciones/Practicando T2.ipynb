{
 "cells": [
  {
   "cell_type": "code",
   "execution_count": 8,
   "id": "7737c6d3",
   "metadata": {},
   "outputs": [
    {
     "name": "stdout",
     "output_type": "stream",
     "text": [
      "{'uno': 1, 'dos': 2, 'tres': 3}\n",
      "3\n",
      "1\n",
      "{'uno': 1, 'tres': 3}\n",
      "{'uno': 1, 'tres': 3, 'cuatro': 44}\n"
     ]
    }
   ],
   "source": [
    "dic={\n",
    "    \"uno\":1,\n",
    "    \"dos\":2,\n",
    "    \"tres\":3\n",
    "}\n",
    "\n",
    "print(dic)\n",
    "print(len(dic))\n",
    "print(dic[\"uno\"])\n",
    "\n",
    "dic.pop(\"dos\")\n",
    "\n",
    "print(dic)\n",
    "\n",
    "dic.update({\"cuatro\":44})\n",
    "print(dic)"
   ]
  },
  {
   "cell_type": "code",
   "execution_count": 17,
   "id": "24ca64cf",
   "metadata": {},
   "outputs": [
    {
     "name": "stdout",
     "output_type": "stream",
     "text": [
      "el septimo item:  Violeta\n",
      "['Rojo', 'Naranja', 'Verde', 'Azul', 'Añil', 'Violeta']\n",
      "['Rojo', 'Verde', 'Naranja', 'Azul', 'Añil', 'Violeta']\n",
      "['Azul', 'Añil', 'Naranja', 'Rojo', 'Verde', 'Violeta']\n",
      "6\n"
     ]
    }
   ],
   "source": [
    "lista = [\"Rojo\",\"Naranja\",\"Amarillo\",\"Verde\",\"Azul\",\"Añil\",\"Violeta\"]\n",
    "#imprime por pantalla el septimo item\n",
    "print(\"el septimo item: \",lista[6])\n",
    "#borra el Amarillo e imprime por pantalla la lista entera\n",
    "lista.remove(\"Amarillo\")\n",
    "print(lista)\n",
    "#cambia la posción del Naranja por la posición del Verde e imprime por pantalla la lista entera\n",
    "n = lista[1]\n",
    "v = lista[2]\n",
    "lista[1]=v\n",
    "lista[2]=n\n",
    "print(lista)\n",
    "#ordena la lista e imprimela por pantalla\n",
    "lista.sort()\n",
    "print(lista)\n",
    "#¿Cuál es la longitud de la lista?\n",
    "print(len(lista))"
   ]
  },
  {
   "cell_type": "code",
   "execution_count": 30,
   "id": "4db74784",
   "metadata": {},
   "outputs": [
    {
     "name": "stdout",
     "output_type": "stream",
     "text": [
      "======== listas =======\n",
      "8.0\n",
      "4.5\n",
      "[2.0, 3.1]\n",
      "[3.1, 4.5, 8.0]\n",
      "[2.1, 2.0, 3.1]\n",
      "[2.1, 2.0, 3.1, 4.5, 8.0]\n",
      "[8, 2.1, 2.0, 3.1, 4.5, 8.0]\n",
      "[2.1, 2.0, 4.5, 8.0]\n",
      "[2.1, 2.0, 8.0]\n",
      "[2.1, 2.0, 8.0, 2.1, 2.0, 8.0]\n",
      "[2.0, 2.0, 2.1, 2.1, 8.0, 8.0]\n",
      "[8.0, 8.0, 2.1, 2.1, 2.0, 2.0]\n"
     ]
    }
   ],
   "source": [
    "print ( \"======== listas =======\")\n",
    "lista = [ 2.1, 2.0, 3.1, 4.5, 8.0 ]\n",
    "\n",
    "# print(lista[-1])\n",
    "print(lista[-1])\n",
    "print(lista[-2])\n",
    "\n",
    "# print(lista[2:4])\n",
    "print(lista[1:3])\n",
    "\n",
    "# print(lista[2:])\n",
    "print(lista[2:])\n",
    "\n",
    "# print(lista[:4])\n",
    "print(lista[:3])\n",
    "\n",
    "# lista.insert(0,99) #en la posicion 0 inserta el 99\n",
    "# print(lista)\n",
    "print(lista)\n",
    "lista.insert(0,8)\n",
    "print(lista)\n",
    "\n",
    "# lista.append(50) #en la ultima posicion inserta el 50\n",
    "# print(lista)\n",
    "\n",
    "# lista.remove(2.1) #borra el elemento 2.1\n",
    "# print(lista) \n",
    "lista.remove(8) #busca y elimina ese elemento\n",
    "lista.remove(3.1) \n",
    "print(lista)\n",
    "\n",
    "# lista.pop(2) #borra el elemento en la posicion 1\n",
    "# print(lista)\n",
    "lista.pop(2)\n",
    "print(lista)\n",
    "\n",
    "# lista.extend(lista) #inserta una lista\n",
    "# print(lista)\n",
    "lista.extend(lista)\n",
    "print(lista)\n",
    "\n",
    "# lista.sort()\n",
    "# print(lista)\n",
    "# lista.sort(reverse= True)\n",
    "# print(lista)\n",
    "lista.sort()\n",
    "print(lista)\n",
    "lista.sort(reverse=True)\n",
    "print(lista)"
   ]
  }
 ],
 "metadata": {
  "kernelspec": {
   "display_name": "Python 3 (ipykernel)",
   "language": "python",
   "name": "python3"
  },
  "language_info": {
   "codemirror_mode": {
    "name": "ipython",
    "version": 3
   },
   "file_extension": ".py",
   "mimetype": "text/x-python",
   "name": "python",
   "nbconvert_exporter": "python",
   "pygments_lexer": "ipython3",
   "version": "3.10.0"
  }
 },
 "nbformat": 4,
 "nbformat_minor": 5
}
