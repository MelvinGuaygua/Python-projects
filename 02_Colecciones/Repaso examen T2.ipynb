{
 "cells": [
  {
   "cell_type": "code",
   "execution_count": 28,
   "id": "db163693",
   "metadata": {},
   "outputs": [
    {
     "name": "stdout",
     "output_type": "stream",
     "text": [
      "======== listas =======\n",
      "[2.1, 2.0, 3.1, 4.5, 8.0]\n",
      "2.1\n",
      "[2.1, 33, 3.1, 4.5, 8.0]\n",
      "5\n",
      "8.0\n",
      "[3.1, 4.5]\n",
      "[3.1, 4.5, 8.0]\n",
      "[2.1, 33, 3.1, 4.5]\n",
      "[99, 2.1, 33, 3.1, 4.5, 8.0]\n",
      "[99, 2.1, 33, 3.1, 4.5, 8.0, 50]\n",
      "[99, 33, 3.1, 4.5, 8.0, 50]\n",
      "[99, 33, 4.5, 8.0, 50]\n",
      "[99, 33, 4.5, 8.0, 50, 99, 33, 4.5, 8.0, 50]\n",
      "[4.5, 4.5, 8.0, 8.0, 33, 33, 50, 50, 99, 99]\n",
      "[99, 99, 50, 50, 33, 33, 8.0, 8.0, 4.5, 4.5]\n"
     ]
    }
   ],
   "source": [
    "print ( \"======== listas =======\")\n",
    "lista = [ 2.1, 2.0, 3.1, 4.5, 8.0 ]\n",
    "\n",
    "print(lista)\n",
    "\n",
    "print(lista[0])\n",
    "\n",
    "lista[1]= 33\n",
    "\n",
    "print(lista)\n",
    "\n",
    "print(len(lista))\n",
    "\n",
    "print(lista[-1])\n",
    "\n",
    "print(lista[2:4])\n",
    "\n",
    "print(lista[2:])\n",
    "\n",
    "print(lista[:4])\n",
    "\n",
    "lista.insert(0,99) #en la posicion 0 inserta el 99, DESPLAZA y no sustituye\n",
    "print(lista)\n",
    "\n",
    "lista.append(50) #en la ultima posicion inserta el 50\n",
    "print(lista)\n",
    "\n",
    "lista.remove(2.1) #borra el elemento 2.1\n",
    "print(lista) \n",
    "\n",
    "lista.pop(2) #borra el elemento en la posicion 1\n",
    "print(lista)\n",
    "\n",
    "lista.extend(lista) #inserta una lista\n",
    "print(lista)\n",
    "\n",
    "lista.sort()\n",
    "print(lista)\n",
    "lista.sort(reverse= True)\n",
    "print(lista)\n"
   ]
  },
  {
   "cell_type": "code",
   "execution_count": 23,
   "id": "741f308f",
   "metadata": {},
   "outputs": [
    {
     "name": "stdout",
     "output_type": "stream",
     "text": [
      "['A', 'F', 'H', 'b', 'v']\n",
      "['A', 'b', 'F', 'H', 'v']\n"
     ]
    }
   ],
   "source": [
    "lista=[\"F\",\"H\",\"A\",\"v\",\"b\"]\n",
    "lista.sort()\n",
    "print(lista)\n",
    "lista.sort(key = str.lower) #ordnea sin distinguir mayusculas ni minusculas\n",
    "print(lista)    "
   ]
  },
  {
   "cell_type": "code",
   "execution_count": 27,
   "id": "1420ece2",
   "metadata": {},
   "outputs": [
    {
     "name": "stdout",
     "output_type": "stream",
     "text": [
      "['x', 'y', 'z', 1, 2, 3]\n",
      "['x', 'y', 'z', 1, 2, 3]\n",
      "['x', 'y', 'z', 1, 2, 3, [1, 2, 3]]\n"
     ]
    }
   ],
   "source": [
    "l1=[\"x\",\"y\",\"z\"]\n",
    "l2=[1,2,3]\n",
    "l3=l1+l2        # igual que extend   \n",
    "print(l3)       # ['x', 'y', 'z', 1, 2, 3] \n",
    "l1.append(l2)\n",
    "print(l1)       # ['x', 'y', 'z', [1, 2, 3]]"
   ]
  },
  {
   "cell_type": "code",
   "execution_count": 39,
   "id": "3c39aae6",
   "metadata": {},
   "outputs": [
    {
     "name": "stdout",
     "output_type": "stream",
     "text": [
      "{'libro1': 'psicologia', 'libro2': 'models', 'libro3': 'rational male'}\n",
      "3\n",
      "models\n",
      "{'libro1': 'psicologia', 'libro2': 'haren', 'libro3': 'rational male'}\n",
      "{'libro1': 'psicologia', 'libro2': 'haren', 'libro3': 'rational male', 'libro4': 'dopamina'}\n",
      "psicologia\n",
      "{'libro2': 'haren', 'libro3': 'rational male', 'libro4': 'dopamina'}\n"
     ]
    }
   ],
   "source": [
    "d = {\n",
    "    \"libro1\":\"psicologia\",\n",
    "    \"libro2\":\"models\",\n",
    "    \"libro3\":\"rational male\"\n",
    "}\n",
    "\n",
    "print(d)\n",
    "\n",
    "print(len(d))\n",
    "\n",
    "print(d[\"libro2\"])\n",
    "\n",
    "d[\"libro2\"] = \"haren\"\n",
    "print(d)\n",
    "\n",
    "d.update({\"libro4\":\"dopamina\"})\n",
    "print(d)\n",
    "\n",
    "print(d.pop(\"libro1\"))\n",
    "print(d)"
   ]
  },
  {
   "cell_type": "markdown",
   "id": "a0be0958",
   "metadata": {},
   "source": [
    "<hr>\n",
    "<b><font color='red'>Ejercicio 01</font></b>\n",
    "\n",
    "Completa y responde:"
   ]
  },
  {
   "cell_type": "code",
   "execution_count": 50,
   "id": "acaecf82",
   "metadata": {},
   "outputs": [
    {
     "name": "stdout",
     "output_type": "stream",
     "text": [
      "Violeta\n",
      "['Rojo', 'Naranja', 'Verde', 'Azul', 'Añil', 'Violeta']\n",
      "['Rojo', 'Naranja', 'Verde', 'Azul', 'Añil', 'Violeta']\n",
      "['Azul', 'Añil', 'Naranja', 'Rojo', 'Verde', 'Violeta']\n",
      "6\n"
     ]
    }
   ],
   "source": [
    "lista = [\"Rojo\",\"Naranja\",\"Amarillo\",\"Verde\",\"Azul\",\"Añil\",\"Violeta\"]\n",
    "#imprime por pantalla el septimo item\n",
    "print(lista[6])\n",
    "\n",
    "#borra el Amarillo e imprime por pantalla la lista entera\n",
    "lista.remove(\"Amarillo\")\n",
    "print(lista)\n",
    "\n",
    "#cambia la posción del Naranja por la posición del Verde e imprime por pantalla la lista entera\n",
    "naranja = lista[1]\n",
    "verde = lista[2]\n",
    "lista[1] = naranja\n",
    "lista[2] = verde\n",
    "print(lista)\n",
    "\n",
    "#ordena la lista e imprimela por pantalla\n",
    "lista.sort()\n",
    "print(lista)\n",
    "\n",
    "#¿Cuál es la longitud de la lista?\n",
    "print(len(lista))"
   ]
  },
  {
   "cell_type": "markdown",
   "id": "878e9188",
   "metadata": {},
   "source": [
    "<hr>\n",
    "<b><font color='red'>Ejercicio 02</font></b>\n",
    "\n",
    "Es el mismo ejercicio que el anterior, pero ahora lo hacemos con tuplas."
   ]
  },
  {
   "cell_type": "code",
   "execution_count": 53,
   "id": "adf30bb0",
   "metadata": {},
   "outputs": [
    {
     "name": "stdout",
     "output_type": "stream",
     "text": [
      "Violeta\n"
     ]
    },
    {
     "ename": "AttributeError",
     "evalue": "'tuple' object has no attribute 'pop'",
     "output_type": "error",
     "traceback": [
      "\u001b[1;31m---------------------------------------------------------------------------\u001b[0m",
      "\u001b[1;31mAttributeError\u001b[0m                            Traceback (most recent call last)",
      "\u001b[1;32m~\\AppData\\Local\\Temp/ipykernel_5852/1764127704.py\u001b[0m in \u001b[0;36m<module>\u001b[1;34m\u001b[0m\n\u001b[0;32m      4\u001b[0m \u001b[1;33m\u001b[0m\u001b[0m\n\u001b[0;32m      5\u001b[0m \u001b[1;31m#borra el Amarillo e imprime por pantalla la tupla entera\u001b[0m\u001b[1;33m\u001b[0m\u001b[1;33m\u001b[0m\u001b[0m\n\u001b[1;32m----> 6\u001b[1;33m \u001b[0mtupla\u001b[0m\u001b[1;33m.\u001b[0m\u001b[0mpop\u001b[0m\u001b[1;33m(\u001b[0m\u001b[1;36m2\u001b[0m\u001b[1;33m)\u001b[0m\u001b[1;33m\u001b[0m\u001b[1;33m\u001b[0m\u001b[0m\n\u001b[0m\u001b[0;32m      7\u001b[0m \u001b[0mprint\u001b[0m\u001b[1;33m(\u001b[0m\u001b[0mtupla\u001b[0m\u001b[1;33m)\u001b[0m\u001b[1;33m\u001b[0m\u001b[1;33m\u001b[0m\u001b[0m\n\u001b[0;32m      8\u001b[0m \u001b[1;33m\u001b[0m\u001b[0m\n",
      "\u001b[1;31mAttributeError\u001b[0m: 'tuple' object has no attribute 'pop'"
     ]
    }
   ],
   "source": [
    "tupla = (\"Rojo\",\"Naranja\",\"Amarillo\",\"Verde\",\"Azul\",\"Añil\",\"Violeta\")\n",
    "#imprime por pantalla el septimo item\n",
    "print(tupla[6])\n",
    "\n",
    "#borra el Amarillo e imprime por pantalla la tupla entera\n",
    "tupla.pop(2)\n",
    "print(tupla)\n",
    "\n",
    "#cambia la posción del Naranja por la posición del Verde e imprime por pantalla la tupla entera\n",
    "\"\"\"Esribe tu código aquí\"\"\"\n",
    "\n",
    "#ordena la tupla e imprimela por pantalla\n",
    "\"\"\"Esribe tu código aquí\"\"\"\n",
    "\n",
    "#¿Cuál es la longitud de la tupla?\n",
    "\"\"\"Esribe tu código aquí\"\"\"\n"
   ]
  },
  {
   "cell_type": "code",
   "execution_count": 67,
   "id": "ad72fbe7",
   "metadata": {},
   "outputs": [
    {
     "name": "stdout",
     "output_type": "stream",
     "text": [
      "melvin\n",
      "31\n",
      "diciembre\n"
     ]
    }
   ],
   "source": [
    "dic = {\n",
    "    \"Nombre\":\"melvin\",\n",
    "    \"Apellido\":\"guaygua\",\n",
    "    \"Día de nacimiento\":31,\n",
    "    \"Mes de nacimiento\":12\n",
    "}\n",
    "\n",
    "#responde a las siguientes preguntas accediento al diccionario que has creado:\n",
    "#¿Cómo te llamas?\n",
    "print(dic[\"Nombre\"])\n",
    "\n",
    "#¿Qué día naciste?\n",
    "print(dic[\"Día de nacimiento\"])\n",
    "\n",
    "#Utiliza la siguiente lista y con tu diccionario responde a la siugiente pregunta con el nombre del mes\n",
    "MES=[\"enero\",\"febrero\",\"marzo\",\"abril\",\"mayo\",\"junio\",\"julio\",\"agosto\",\"septiembre\",\"octubre\",\"noviembre\",\"diciembre\"]\n",
    "#¿Qué mes naciste?\n",
    "numeroMes = dic[\"Mes de nacimiento\"]\n",
    "print(MES[numeroMes-1])\n",
    "\n"
   ]
  },
  {
   "cell_type": "code",
   "execution_count": null,
   "id": "0a5768ed",
   "metadata": {},
   "outputs": [],
   "source": []
  }
 ],
 "metadata": {
  "kernelspec": {
   "display_name": "Python 3 (ipykernel)",
   "language": "python",
   "name": "python3"
  },
  "language_info": {
   "codemirror_mode": {
    "name": "ipython",
    "version": 3
   },
   "file_extension": ".py",
   "mimetype": "text/x-python",
   "name": "python",
   "nbconvert_exporter": "python",
   "pygments_lexer": "ipython3",
   "version": "3.10.0"
  }
 },
 "nbformat": 4,
 "nbformat_minor": 5
}
