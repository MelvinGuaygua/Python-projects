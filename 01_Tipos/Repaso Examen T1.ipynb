{
 "cells": [
  {
   "cell_type": "code",
   "execution_count": 45,
   "id": "2deed437",
   "metadata": {},
   "outputs": [
    {
     "name": "stdout",
     "output_type": "stream",
     "text": [
      "<class 'str'>\n",
      "10\n",
      "H\n",
      "Hola\n",
      "Hola\n",
      "Mundo\n",
      "d\n",
      "do\n",
      "un\n",
      "Mundo Hola\n",
      "False\n",
      "True\n",
      "HOLA MUNDO\n",
      "hola mundo\n",
      "Hey Jude Don'T Make It Bad\n",
      "hey-jude-don't-make-it-bad\n",
      "['hey', 'jude', \"don't\", 'make', 'it', 'bad']\n",
      "mi array: jude\n",
      "['h', 'y jud', \" don't mak\", ' it bad']\n",
      "4\n"
     ]
    }
   ],
   "source": [
    "s=\"Hola Mundo\"\n",
    "\n",
    "print(type(s))\n",
    "\n",
    "print(len(s))\n",
    "\n",
    "print(s[0])\n",
    "\n",
    "print(s[0:4]) #desde la posicion 0 hasta antes que 4\n",
    "\n",
    "print(s[:4]) #desde el principio hasta antes que 4\n",
    "\n",
    "print(s[5:]) #desde la posicion 5 hasta el final\n",
    "\n",
    "print(s[-2]) #posicion -2\n",
    "\n",
    "print(s[-2:]) #desde -2 hasta el final\n",
    "\n",
    "print(s[-4:-2]) #dese -4 hasta -2\n",
    "\n",
    "print(s[5:]+\" \"+s[0:4]) # Mundo Hola\n",
    "\n",
    "print(\"Mundo\" not in s)\n",
    "print(\"hola\" not in s)\n",
    "\n",
    "print(s.upper())\n",
    "print(s.lower())\n",
    "\n",
    "a=\"hey jude don't make it bad\"\n",
    "print(a.title())\n",
    "print(a.replace(\" \",\"-\"))\n",
    "print(a.split()) #CON EL METODO SPLIT METO LAS PALABRAS DE UN STRING EN UN ARRAY\n",
    "array = a.split()\n",
    "print(\"mi array:\",array[1])\n",
    "print(a.split(\"e\")) #CON SPLIT PUEDO ELEGIR CON QUE QUIERO SEPARARLOS\n",
    "print(a.find(\"jude\")) #FIND ME DEVUELVE EL INDICE DE LA PRIMERA COINCIDENCIA\n"
   ]
  },
  {
   "cell_type": "markdown",
   "id": "18e919bb",
   "metadata": {},
   "source": [
    "<hr>\n",
    "<b><font color='red'>Ejercicio 03</font></b>\n",
    "\n",
    "s=\"tu nombre apellido\"  \n",
    "Reemplaza:\n",
    "- a por @\n",
    "- e por 3\n",
    "- i por 1\n",
    "- o por 0\n",
    "- u por 4\n",
    "- y los espacios por -"
   ]
  },
  {
   "cell_type": "code",
   "execution_count": 47,
   "id": "9291c2a4",
   "metadata": {},
   "outputs": [
    {
     "name": "stdout",
     "output_type": "stream",
     "text": [
      "M3lv1n-G4@yg4@\n"
     ]
    }
   ],
   "source": [
    "s = \"Melvin Guaygua\"\n",
    "\n",
    "result = s.replace(\"a\",\"@\").replace(\"e\",\"3\").replace(\"i\",\"1\").replace(\"o\",\"0\").replace(\"u\",\"4\").replace(\" \",\"-\")\n",
    "\n",
    "print(result)"
   ]
  },
  {
   "cell_type": "markdown",
   "id": "8505cf4a",
   "metadata": {},
   "source": [
    "<hr>\n",
    "<b><font color='red'>Ejercicio 04</font></b>  \n",
    "\n",
    "Haz que solo se impriman los nombres de los siguientes archivos, usa la misma instrucción en todos los casos:"
   ]
  },
  {
   "cell_type": "code",
   "execution_count": 67,
   "id": "2d087fa5",
   "metadata": {},
   "outputs": [
    {
     "name": "stdout",
     "output_type": "stream",
     "text": [
      "['readme', 'txt']\n",
      "readme\n",
      "readme\n",
      "readme_02\n",
      "readme\n",
      "readme.02\n"
     ]
    }
   ],
   "source": [
    "archivo=\"readme.txt\"\n",
    "#debería aparecer solo readme\n",
    "array1 = archivo.rsplit(\".\", 1) #rsplit hace las divisiones comenzando desde la derecha\n",
    "print(array1)                    #el 1 dice que realice como máximo una división\n",
    "print(array1[0])\n",
    "\n",
    "archivo=\"readme.jpg\"\n",
    "#debería aparecer solo readme\n",
    "array1 = archivo.rsplit(\".\", 1) \n",
    "print(array1[0])\n",
    "\n",
    "archivo=\"readme_02.docx\"\n",
    "#debería aparecer solo readme_02\n",
    "array1 = archivo.rsplit(\".\", 1)\n",
    "print(array1[0])\n",
    "\n",
    "archivo=\"readme.txt\"\n",
    "#debería aparecer solo readme\n",
    "array1 = archivo.rsplit(\".\", 1)\n",
    "print(array1[0])\n",
    "\n",
    "archivo=\"readme.02.txt\"\n",
    "#debería aparecer solo readme.02\n",
    "array1 = archivo.rsplit(\".\", 1)\n",
    "print(array1[0])"
   ]
  },
  {
   "cell_type": "markdown",
   "id": "c65e6d59",
   "metadata": {},
   "source": [
    "# Operadorres lógicos (lo usare en los if)\n",
    " - and\n",
    " - or\n",
    " - not\n",
    " - is\n",
    " - is not\n",
    " \n",
    " # operadores binarios (lo usare con bits, pero nada mas)\n",
    " - \\&  and\n",
    " - \\|  or\n",
    " - \\^  xor\n",
    " - \\~  not\n",
    " - \\<\\< desplazar bits\n",
    " - \\>\\> desplazar bits"
   ]
  },
  {
   "cell_type": "code",
   "execution_count": 83,
   "id": "8d6dbdf2",
   "metadata": {},
   "outputs": [
    {
     "name": "stdout",
     "output_type": "stream",
     "text": [
      "hay alguno que no se cumple\n",
      "hay alguno que se cumple\n"
     ]
    }
   ],
   "source": [
    "#MI GRAN DUDA DE LOS IF, TENGO QUE USAR EL \"and\" Y \"or\"\n",
    "a = True\n",
    "b = False\n",
    "\n",
    "#usando \"and\"\n",
    "if a and b:\n",
    "    print(\"se cumplen los 2\")\n",
    "else:\n",
    "    print(\"hay alguno que no se cumple\")\n",
    "    \n",
    "#usando \"or\"\n",
    "if a or b:\n",
    "    print(\"hay alguno que se cumple\")\n",
    "else:\n",
    "    print(\"no se cumple ninguno\")"
   ]
  }
 ],
 "metadata": {
  "kernelspec": {
   "display_name": "Python 3 (ipykernel)",
   "language": "python",
   "name": "python3"
  },
  "language_info": {
   "codemirror_mode": {
    "name": "ipython",
    "version": 3
   },
   "file_extension": ".py",
   "mimetype": "text/x-python",
   "name": "python",
   "nbconvert_exporter": "python",
   "pygments_lexer": "ipython3",
   "version": "3.10.0"
  }
 },
 "nbformat": 4,
 "nbformat_minor": 5
}
