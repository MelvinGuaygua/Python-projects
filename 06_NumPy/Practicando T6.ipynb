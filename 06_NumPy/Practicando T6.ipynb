{
 "cells": [
  {
   "cell_type": "markdown",
   "id": "94db1a82",
   "metadata": {},
   "source": [
    "<hr>\n",
    "<b><font color='red'>Ejercicio 01</font></b>  "
   ]
  },
  {
   "cell_type": "markdown",
   "id": "b97569d7",
   "metadata": {},
   "source": [
    "Selecciona las primera columna de la matriz `p` proporcionada, y guárdala en la variable `p1`. Sustituye los elementos de p1 que sean iguales a 0, por el valor $7$."
   ]
  },
  {
   "cell_type": "code",
   "execution_count": 10,
   "id": "6083b8aa",
   "metadata": {},
   "outputs": [
    {
     "name": "stdout",
     "output_type": "stream",
     "text": [
      "[[1 2 4]\n",
      " [0 0 0]\n",
      " [0 6 8]]\n",
      "[1, 7, 7]\n"
     ]
    }
   ],
   "source": [
    "import numpy as np\n",
    "p = np.array([[1,2,4],[0,0,0],[0,6,8]])\n",
    "print(p)\n",
    "# Escribe tu código aquí debajo\n",
    "\n",
    "p1=[]\n",
    "for i in range(3):\n",
    "    if p[i][0]==0:\n",
    "        num=7\n",
    "    else:\n",
    "        num=p[i][0]\n",
    "    p1.append(num)\n",
    "    \n",
    "print(p1)"
   ]
  },
  {
   "cell_type": "markdown",
   "id": "9ac5b1bd",
   "metadata": {},
   "source": [
    "<hr>\n",
    "<b><font color='red'>Ejercicio 02</font></b>  "
   ]
  },
  {
   "cell_type": "markdown",
   "id": "758df110",
   "metadata": {},
   "source": [
    "Obtener una función que calcule la distancia forman dos vectores\n",
    "\n",
    "$$\n",
    "v=[v_1,v_2,v_3,...]\n",
    "\\newline\n",
    "u=[u_1,u_2,u_3,...]\n",
    "\\newline\n",
    "d=\\sqrt{ (u_1-v_1)^2 + (u_2-v_2)^2 + (u_3-v_3)^2 + ... }\n",
    "$$"
   ]
  },
  {
   "cell_type": "code",
   "execution_count": 23,
   "id": "567d96e3",
   "metadata": {},
   "outputs": [
    {
     "name": "stdout",
     "output_type": "stream",
     "text": [
      "resultado: 2.0\n",
      "2\n",
      "2\n"
     ]
    }
   ],
   "source": [
    "import numpy as np\n",
    "\n",
    "def d(v, u):\n",
    "    lista=[]\n",
    "    for i in range(len(v)):\n",
    "        lista.append(u[i]-v[i]) #resta inicial\n",
    "        lista[i]=lista[i]**2 #elevado al cuadrado\n",
    "        \n",
    "    resul=sum(lista) #suma total\n",
    "    resul=resul**(1/2) #raiz cuadrada final\n",
    "    print(\"resultado:\",resul)\n",
    "\n",
    "v = np.array([0,-1])\n",
    "u = np.array([0,1])\n",
    "\n",
    "d(v,u) # El resultado debería de ser 2\n",
    "\n",
    "#me doy cuenta de que puedo sacar la longitud de un array con estos 2:\n",
    "print(len(v)) \n",
    "print(np.size(v))"
   ]
  },
  {
   "cell_type": "markdown",
   "id": "ea7ca8e8",
   "metadata": {},
   "source": [
    "<hr>\n",
    "<b><font color='red'>Ejercicio 03</font></b>  "
   ]
  },
  {
   "cell_type": "markdown",
   "id": "e5d9fff7",
   "metadata": {},
   "source": [
    "Obtener una función que calcule el coseno del ángulo que forman dos vectores\n",
    "\n",
    "$$ \\cos \\theta = \\frac{\\langle v, u \\rangle}{||v|| ||u||} $$\n",
    "\n",
    "donde $|| v ||$ es la norma del vector v, que se puede expresar como $\\sqrt{\\langle v, v \\rangle} = \\sqrt{ v_1^2 +  v_2^2 +  v_3^2 + ... }$ y el producto escalar $\\langle v, u \\rangle = v_1 u_1 + v_2 u_2 + ...$\n"
   ]
  },
  {
   "cell_type": "code",
   "execution_count": 39,
   "id": "1fff259c",
   "metadata": {},
   "outputs": [
    {
     "name": "stdout",
     "output_type": "stream",
     "text": [
      "resultado -1.0\n"
     ]
    }
   ],
   "source": [
    "def cos(v, u):\n",
    "    lista=[]  #las listas tienen que estar dentro de la funcion\n",
    " \n",
    "    for i in range(len(v)):  #producto escalar \n",
    "        lista.append(u[i]*v[i])\n",
    "    numerador=sum(lista)\n",
    "    \n",
    "    normalV=[]\n",
    "    normalU=[]\n",
    "    for i in range(len(v)): #normal del vector\n",
    "        normalV.append(v[i]**2)\n",
    "        normalU.append(u[i]**2)\n",
    "    normalV=sum(normalV)\n",
    "    normalU=sum(normalU)\n",
    "    producto=normalV*normalU\n",
    "    \n",
    "    print(\"resultado\",numerador/producto)\n",
    "\n",
    "v = np.array([0,-1])\n",
    "u = np.array([0,1])\n",
    "\n",
    "cos(v,u)  # El resultado debería de ser -1.0"
   ]
  },
  {
   "cell_type": "markdown",
   "id": "bf7de3a2",
   "metadata": {},
   "source": [
    "<hr>\n",
    "<b><font color='red'>Ejercicio 04</font></b>  \n",
    "\n",
    "Vuelve hacer el ejercicio que hicimos en el cápitulo anterior, utilizando las funciones de numpy:\n",
    "\n",
    "Crea una función que te devuelva la media y la desviación estándar de una lista ordenada.  \n",
    "Pruébalo con lista = [4, 1, 11, 13, 2, 7]  \n",
    "ayuda : https://es.wikipedia.org/wiki/Desviaci%C3%B3n_t%C3%ADpica"
   ]
  },
  {
   "cell_type": "code",
   "execution_count": 45,
   "id": "b614e02a",
   "metadata": {},
   "outputs": [
    {
     "name": "stdout",
     "output_type": "stream",
     "text": [
      "[4, 1, 11, 13, 2, 7]\n",
      "media = 6.333333333333333 ± 4.459696053419884\n"
     ]
    }
   ],
   "source": [
    "#hemos borrado las funciones, cambia el codígo siguiente\n",
    "import numpy as np\n",
    "\n",
    "def media(l):\n",
    "    array = np.array(l)\n",
    "    return array.mean()\n",
    "\n",
    "def DES(l):\n",
    "    array = np.array(l)\n",
    "    return array.std()    \n",
    "\n",
    "lista = [4, 1, 11, 13, 2, 7]\n",
    "\n",
    "print(\"media = \"+str(media(lista))+\" \\u00B1 \"+str(DES(lista)))"
   ]
  },
  {
   "cell_type": "markdown",
   "id": "b5ecd86d",
   "metadata": {},
   "source": [
    "<hr>\n",
    "<b><font color='red'>Ejercicio 05</font></b>  \n",
    "\n",
    "Crear un array con 1 en el borde y  0 dentro"
   ]
  },
  {
   "cell_type": "code",
   "execution_count": 130,
   "id": "24f3d715",
   "metadata": {},
   "outputs": [
    {
     "name": "stdout",
     "output_type": "stream",
     "text": [
      "[[1. 1. 1. 1. 1. 1. 1. 1. 1. 1.]\n",
      " [1. 0. 0. 0. 0. 0. 0. 0. 0. 1.]\n",
      " [1. 0. 0. 0. 0. 0. 0. 0. 0. 1.]\n",
      " [1. 0. 0. 0. 0. 0. 0. 0. 0. 1.]\n",
      " [1. 0. 0. 0. 0. 0. 0. 0. 0. 1.]\n",
      " [1. 0. 0. 0. 0. 0. 0. 0. 0. 1.]\n",
      " [1. 0. 0. 0. 0. 0. 0. 0. 0. 1.]\n",
      " [1. 0. 0. 0. 0. 0. 0. 0. 0. 1.]\n",
      " [1. 0. 0. 0. 0. 0. 0. 0. 0. 1.]\n",
      " [1. 1. 1. 1. 1. 1. 1. 1. 1. 1.]]\n"
     ]
    }
   ],
   "source": [
    "\n",
    "array = np.zeros([10,10])\n",
    "\n",
    "#filas forma simple\n",
    "array[:][0]=1\n",
    "array[9][:]=1\n",
    "\n",
    "#columnas forma simple\n",
    "array[0:10, 0:1] =1 #la columna lo puedo fijar asi, del 0 al 1 sin incluir al 1\n",
    "# array[0:10, 0] =1 #o tambien asi indicando la posicion de la columnas\n",
    "array[0:10, 9:10] =1\n",
    "# array[0:10, 9] =1\n",
    "\n",
    "print(array)\n",
    "\n",
    "# la salida tiene que ser:\n",
    "#array([[1., 1., 1., 1., 1., 1., 1., 1., 1., 1.],\n",
    "#      [1., 0., 0., 0., 0., 0., 0., 0., 0., 1.],\n",
    "#      [1., 0., 0., 0., 0., 0., 0., 0., 0., 1.],\n",
    "#      [1., 0., 0., 0., 0., 0., 0., 0., 0., 1.],\n",
    "#      [1., 0., 0., 0., 0., 0., 0., 0., 0., 1.],\n",
    "#      [1., 0., 0., 0., 0., 0., 0., 0., 0., 1.],\n",
    "#      [1., 0., 0., 0., 0., 0., 0., 0., 0., 1.],\n",
    "#      [1., 0., 0., 0., 0., 0., 0., 0., 0., 1.],\n",
    "#      [1., 0., 0., 0., 0., 0., 0., 0., 0., 1.],\n",
    "#      [1., 1., 1., 1., 1., 1., 1., 1., 1., 1.]])"
   ]
  },
  {
   "cell_type": "markdown",
   "id": "86dc59c0",
   "metadata": {},
   "source": [
    "<hr>\n",
    "<b><font color='red'>Ejercicio 06</font></b>  \n",
    "\n",
    "Supongamos que tenemos un sistema de n ecuaciones lineales con n incógnitas. Podemos representar el sistema de forma matricial como:\n",
    "$$Ax=b$$\n",
    "Si el sistema tiene una única solución (es compatible determinado), entonces la matriz $A$ es regular (determinante distinto de 0) y, por tanto, existe su matriz inversa $A^{−1}$.\n",
    "Entonces, podemos multiplicar toda la ecuación por la inversa de $A^{−1}$:\n",
    "$$A^{-1}\\cdot Ax=A^{-1}\\cdot b$$\n",
    "$$x = A^{-1}\\cdot b$$\n",
    "Es decir, si la matriz $A$ es regular, entonces la matriz columna resultante del producto matricial $A^{−1} \\cdot b $ contiene la solución del sistema $Ax=b$. "
   ]
  },
  {
   "cell_type": "code",
   "execution_count": 75,
   "id": "0e1d62fa",
   "metadata": {},
   "outputs": [
    {
     "data": {
      "text/plain": [
       "'Esribe tu código aquí'"
      ]
     },
     "execution_count": 75,
     "metadata": {},
     "output_type": "execute_result"
    }
   ],
   "source": [
    "A = np.array([[1, 2], [1, 1]])\n",
    "b = np.array([3,2])\n",
    "\n",
    "#busca como np hace la inversa de una matriz\n",
    "\"\"\"Esribe tu código aquí\"\"\"\n",
    "\n",
    "#print(\"Ainv * A= \",np.dot(Ainv,A)) # la unidad\n",
    "#print(\"[x , y]= \",np.dot(Ainv,b))  #solución 1,1\n"
   ]
  },
  {
   "cell_type": "markdown",
   "id": "fa1b622d",
   "metadata": {},
   "source": [
    "<hr>\n",
    "<b><font color='red'>Ejercicio 07</font></b>  \n",
    "\n",
    "Fíjate en el siguiente gráfico:"
   ]
  },
  {
   "cell_type": "code",
   "execution_count": 76,
   "id": "d54d25e5",
   "metadata": {},
   "outputs": [
    {
     "data": {
      "image/png": "[encoded data removed]",
      "text/plain": [
       "<Figure size 432x288 with 1 Axes>"
      ]
     },
     "metadata": {},
     "output_type": "display_data"
    }
   ],
   "source": [
    "import networkx as nx\n",
    "import matplotlib.pyplot as plt\n",
    "\n",
    "G = nx.DiGraph([(2, 1),(1, 2),(1, 6),(3, 2),(2, 3),(3, 4),(4, 3),(4, 5),(5, 4),(5, 6),(6, 5) ])\n",
    "L=1.0\n",
    "pos = {1: (0, 0), 2: (4*L, 0), 3: (6*L, 2*L*3**0.5), 4: (4*L, 4*L*3**0.5), 5: (0, 4*L*3**0.5), 6: (-2*L, 2*L*3**0.5)}\n",
    "options = {\"font_size\": 12,\"node_size\": 600,\"node_color\": \"white\",\"edgecolors\": \"black\",\"linewidths\": 3,\"width\": 3,}\n",
    "nx.draw_networkx(G, pos, **options)\n",
    "plt.axis(\"off\")\n",
    "plt.show()\n",
    "\n"
   ]
  },
  {
   "cell_type": "markdown",
   "id": "21e12395",
   "metadata": {},
   "source": [
    "Crea la matriz como hemos visto en clase, y obten la probabilidad de que la pelota llegue a 4 en la 3ª ronda si ha empezado en 1.\n",
    "#sol : 0.25"
   ]
  },
  {
   "cell_type": "code",
   "execution_count": 77,
   "id": "2436af5e",
   "metadata": {},
   "outputs": [
    {
     "data": {
      "text/plain": [
       "'Esribe tu código aquí'"
      ]
     },
     "execution_count": 77,
     "metadata": {},
     "output_type": "execute_result"
    }
   ],
   "source": [
    "\"\"\"Esribe tu código aquí\"\"\"\n"
   ]
  }
 ],
 "metadata": {
  "kernelspec": {
   "display_name": "Python 3 (ipykernel)",
   "language": "python",
   "name": "python3"
  },
  "language_info": {
   "codemirror_mode": {
    "name": "ipython",
    "version": 3
   },
   "file_extension": ".py",
   "mimetype": "text/x-python",
   "name": "python",
   "nbconvert_exporter": "python",
   "pygments_lexer": "ipython3",
   "version": "3.10.0"
  }
 },
 "nbformat": 4,
 "nbformat_minor": 5
}
