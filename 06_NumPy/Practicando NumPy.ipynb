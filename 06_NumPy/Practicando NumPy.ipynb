{
 "cells": [
  {
   "cell_type": "code",
   "execution_count": 21,
   "id": "635058a9",
   "metadata": {},
   "outputs": [
    {
     "name": "stdout",
     "output_type": "stream",
     "text": [
      "[[1 2 4]\n",
      " [0 0 0]\n",
      " [0 6 8]]\n",
      "array cambiado: \n",
      "[1 7 7]\n"
     ]
    }
   ],
   "source": [
    "#Ejercicio 1 terminado\n",
    "import numpy as np\n",
    "\n",
    "p = np.array([[1,2,4],[0,0,0],[0,6,8]])\n",
    "print(p)\n",
    "\n",
    "p1 = np.array(p[:, 0])\n",
    "# p1 = np.array([p[0][0],p[1][0],p[2][0]]) #otra manera de coger la primera columna\n",
    "\n",
    "for index, value in enumerate(p1):\n",
    "    if value==0:\n",
    "        p1[index]=7\n",
    "        \n",
    "print(\"array cambiado: \")\n",
    "print(p1)\n",
    "\n",
    "# Escribe tu código aquí debajo"
   ]
  },
  {
   "cell_type": "code",
   "execution_count": 17,
   "id": "cea9add9",
   "metadata": {},
   "outputs": [
    {
     "name": "stdout",
     "output_type": "stream",
     "text": [
      "[ 0 ] 0\n",
      "[ 1 ] -1\n"
     ]
    }
   ],
   "source": [
    "#usando enumarate\n",
    "for index, value in enumerate(v):\n",
    "    print(\"[\", index,\"]\",value)"
   ]
  },
  {
   "cell_type": "code",
   "execution_count": 2,
   "id": "0d590ffb",
   "metadata": {},
   "outputs": [
    {
     "data": {
      "text/plain": [
       "array([[1, 2, 3],\n",
       "       [4, 5, 6],\n",
       "       [7, 8, 9]])"
      ]
     },
     "execution_count": 2,
     "metadata": {},
     "output_type": "execute_result"
    }
   ],
   "source": [
    "# --------------------------------------------------------\n",
    "\n",
    "X = np.array([[1,2,3],[4,5,6],[7,8,9]])\n",
    "X"
   ]
  },
  {
   "cell_type": "code",
   "execution_count": 3,
   "id": "68b51fbd",
   "metadata": {},
   "outputs": [
    {
     "name": "stdout",
     "output_type": "stream",
     "text": [
      "1 2 3\n",
      "4 5 6\n",
      "7 8 9\n",
      "primera columna\n",
      "1 4 7\n"
     ]
    }
   ],
   "source": [
    "#para acceder a filas y columnas\n",
    "\n",
    "print(str(X[0][0])+\" \"+str(X[0][1])+\" \"+str(X[0][2])) \n",
    "print(str(X[1][0])+\" \"+str(X[1][1])+\" \"+str(X[1][2])) \n",
    "print(str(X[2][0])+\" \"+str(X[2][1])+\" \"+str(X[2][2])) \n",
    "\n",
    "print(\"primera columna\")\n",
    "print(str(X[0][0])+\" \"+str(X[1][0])+\" \"+str(X[2][0])) "
   ]
  },
  {
   "cell_type": "code",
   "execution_count": 4,
   "id": "1e33afa6",
   "metadata": {},
   "outputs": [
    {
     "name": "stdout",
     "output_type": "stream",
     "text": [
      "[ 0  2  4  6  8 10 12 14]\n",
      "[ 0.   2.5  5.   7.5 10. ]\n"
     ]
    }
   ],
   "source": [
    "espacio1 = np.arange(0,16,2)\n",
    "print(espacio1)\n",
    "\n",
    "espacio2 = np.linspace(0,10,5)\n",
    "print(espacio2)\n",
    "\n"
   ]
  },
  {
   "cell_type": "code",
   "execution_count": 5,
   "id": "1ed1bb2a",
   "metadata": {},
   "outputs": [
    {
     "name": "stdout",
     "output_type": "stream",
     "text": [
      "mi matriz p:\n",
      "[[1 1 1]\n",
      " [2 0 0]\n",
      " [0 6 8]]\n",
      "6\n",
      "[0 6 8]\n",
      "[0 6 8]\n",
      "mi prueba\n",
      "[8]\n",
      "[6 8]\n",
      "[0 6 8]\n",
      "mi prueba 2\n",
      "1\n",
      "2\n",
      "0\n",
      "imprimiendo columnas\n",
      "[1 2 0]\n",
      "[1 0 6]\n",
      "[1 0 8]\n"
     ]
    }
   ],
   "source": [
    "p = np.array([[1,1,1],[2,0,0],[0,6,8]])\n",
    "print(\"mi matriz p:\")\n",
    "print(p)\n",
    "# print(p.size)\n",
    "# print(p.shape)\n",
    "\n",
    "print(p[2][1]) #FILA 2, COLUMNA 1\n",
    "print(p[2:][0]) #0: FILA 2 en adelante, columna 0\n",
    "print(p[0:][2]) #0: FILA 0 en adelante, columna 2\n",
    "\n",
    "print(\"mi prueba\")\n",
    "print(p[2][2:]) # fila 0, columna 2 ENTERA en adelante\n",
    "print(p[2][1:]) #fila 0, columna 1 ENTERA en adelante\n",
    "print(p[2][0:])\n",
    "\n",
    "print(\"mi prueba 2\")\n",
    "print(p[0][0])\n",
    "print(p[1][0])\n",
    "print(p[2][0])\n",
    "\n",
    "print(\"imprimiendo columnas\")\n",
    "print(p[:, 0])\n",
    "print(p[:, 1])\n",
    "print(p[:, 2])\n",
    "#cuando tengo un 0: en la columna, la [fila] es la que va a determinar que numeros se imprimen"
   ]
  },
  {
   "cell_type": "code",
   "execution_count": 28,
   "id": "596f0cc5",
   "metadata": {},
   "outputs": [
    {
     "name": "stdout",
     "output_type": "stream",
     "text": [
      "[1. 1. 1. 1. 1. 1. 1. 1. 1. 1.]\n",
      "[4. 4. 4. 4. 4. 4. 4. 4. 4. 4.]\n",
      "[[1. 0. 0. 0.]\n",
      " [0. 1. 0. 0.]\n",
      " [0. 0. 1. 0.]\n",
      " [0. 0. 0. 1.]]\n"
     ]
    }
   ],
   "source": [
    "array1 = np.ones(10)\n",
    "print(array1)\n",
    "print(array1*4)\n",
    "\n",
    "\n",
    "identidad = np.eye(4)\n",
    "print(identidad)\n"
   ]
  },
  {
   "cell_type": "code",
   "execution_count": 15,
   "id": "3e64729c",
   "metadata": {},
   "outputs": [
    {
     "name": "stdout",
     "output_type": "stream",
     "text": [
      "2.0\n"
     ]
    },
    {
     "data": {
      "text/plain": [
       "2.0"
      ]
     },
     "execution_count": 15,
     "metadata": {},
     "output_type": "execute_result"
    }
   ],
   "source": [
    "#ejercicio 2 hecho a pelo\n",
    "import numpy as np\n",
    "def d(v, u):\n",
    "    a = u[0]-v[0] #resta \n",
    "    b = u[1]-v[1]\n",
    "    a = a**2 #elevado al cuadrado\n",
    "    b = b**2\n",
    "    c = a+b #suma de todo\n",
    "    c = c**0.5 #raiz cuadrado final\n",
    "    return c\n",
    "        \n",
    "v = np.array([0,-1])\n",
    "u = np.array([0,1])\n",
    "\n",
    "print(d(v,u))\n",
    "\n",
    "d(v,u) # El resultado debería de ser 2\n",
    "\n",
    "    "
   ]
  },
  {
   "cell_type": "code",
   "execution_count": 16,
   "id": "ba06626d",
   "metadata": {},
   "outputs": [
    {
     "name": "stdout",
     "output_type": "stream",
     "text": [
      "mi resultado: 2.0\n"
     ]
    },
    {
     "data": {
      "text/plain": [
       "2.0"
      ]
     },
     "execution_count": 16,
     "metadata": {},
     "output_type": "execute_result"
    }
   ],
   "source": [
    "#ejercicio 2 mejorado automatizado\n",
    "import numpy as np\n",
    "def d(v, u):\n",
    "    lista=[]\n",
    "    for x in range(np.size(v)): #resta\n",
    "        lista.append(u[x]-v[x])\n",
    "    \n",
    "    for x in range(np.size(v)): #elevado al cuadrado\n",
    "        lista[x] = lista[x]**2\n",
    "\n",
    "    num3 = sum(lista) #suma de todo\n",
    "    num3 = num3**0.5 #raiz cuadrado final    \n",
    "    return num3\n",
    "            \n",
    "v = np.array([0,-1])\n",
    "u = np.array([0,1])\n",
    "\n",
    "print(\"mi resultado:\",d(v,u))\n",
    "d(v,u) # El resultado debería de ser 2"
   ]
  },
  {
   "cell_type": "code",
   "execution_count": 15,
   "id": "09f738af",
   "metadata": {},
   "outputs": [
    {
     "name": "stdout",
     "output_type": "stream",
     "text": [
      "resultado: -1.0\n"
     ]
    },
    {
     "data": {
      "text/plain": [
       "-1.0"
      ]
     },
     "execution_count": 15,
     "metadata": {},
     "output_type": "execute_result"
    }
   ],
   "source": [
    "#ejer 3 hecho a pelo\n",
    "import numpy as np\n",
    "\n",
    "def cos(v, u):\n",
    "    #producto escalar completo\n",
    "    a = u[0]*v[0]\n",
    "    b = u[1]*v[1]\n",
    "    c = a + b #FINAL\n",
    "    \n",
    "    #norma del vector\n",
    "    num1 = u[0]**2\n",
    "    num2 = u[1]**2\n",
    "    resul1 = num1+num2\n",
    "    resul1 = resul1**0.5\n",
    "    \n",
    "    num3 = v[0]**2\n",
    "    num4 = v[1]**2\n",
    "    resul2 = num3 + num4\n",
    "    resul2 = resul2**0.5\n",
    "    \n",
    "    #producto de las 2 normas del vector\n",
    "    resul3 = resul1*resul2 #FINAL\n",
    "    \n",
    "    #cociente del producto escalar y las normas del vector\n",
    "    final = c / resul3\n",
    "    return final\n",
    "\n",
    "v = np.array([0,-1])\n",
    "u = np.array([0,1])\n",
    "\n",
    "print(\"resultado:\",cos(v,u))\n",
    "\n",
    "cos(v,u)  # El resultado debería de ser -1.0"
   ]
  },
  {
   "cell_type": "code",
   "execution_count": 14,
   "id": "f225bbe3",
   "metadata": {},
   "outputs": [
    {
     "name": "stdout",
     "output_type": "stream",
     "text": [
      "resultado: -1.0\n"
     ]
    },
    {
     "data": {
      "text/plain": [
       "-1.0"
      ]
     },
     "execution_count": 14,
     "metadata": {},
     "output_type": "execute_result"
    }
   ],
   "source": [
    "#ejer 3 mejorado automatizado\n",
    "import numpy as np\n",
    "\n",
    "def cos(v, u):\n",
    "    lista=[] #las listas tienen que estar dentro de la funcion\n",
    "    normalV=[]\n",
    "    normalU=[]\n",
    "    \n",
    "    for i in range (np.size(v)): #producto escalar \n",
    "        lista.append(u[i]*v[i])\n",
    "    sumaLista = sum(lista)\n",
    "    \n",
    "    for i in range(np.size(v)): #normal del vector\n",
    "        normalV.append(v[i]**2)\n",
    "        normalU.append(u[i]**2)\n",
    "    normalV = sum(normalV) \n",
    "    normalV = normalV**0.5\n",
    "    normalU = sum(normalU)\n",
    "    normalU = normalU**0.5\n",
    "    \n",
    "    #producto de las 2 normas del vector\n",
    "    producto = normalV * normalU #FINAL\n",
    "    \n",
    "    #cociente del producto escalar y las normas del vector\n",
    "    final = sumaLista / producto\n",
    "    return final\n",
    "\n",
    "v = np.array([0,-1])\n",
    "u = np.array([0,1])\n",
    "\n",
    "print(\"resultado:\",cos(v,u))\n",
    "\n",
    "cos(v,u)  # El resultado debería de ser -1.0"
   ]
  },
  {
   "cell_type": "code",
   "execution_count": 5,
   "id": "b20e6120",
   "metadata": {},
   "outputs": [
    {
     "name": "stdout",
     "output_type": "stream",
     "text": [
      "1 <class 'list'>\n",
      "2 <class 'int'>\n",
      "8\n",
      "3 <class 'int'>\n"
     ]
    }
   ],
   "source": [
    "#prueba de que una variable cambia de tipo al usar el metodo sum()\n",
    "lista2 = [1,2,2,3]\n",
    "print(\"1\",type(lista2))\n",
    "\n",
    "lista2 = sum(lista2)\n",
    "print(\"2\",type(lista2))\n",
    "\n",
    "print(lista2)\n",
    "print(\"3\",type(lista2))"
   ]
  },
  {
   "cell_type": "code",
   "execution_count": 58,
   "id": "b0b664f5",
   "metadata": {},
   "outputs": [
    {
     "name": "stdout",
     "output_type": "stream",
     "text": [
      "media: 6.333333333333333\n",
      "desviacion 4.459696053419884\n",
      "[4, 1, 11, 13, 2, 7]\n",
      "media = 6.333333333333333 ± 4.459696053419884\n"
     ]
    }
   ],
   "source": [
    "#ejer 4\n",
    "\n",
    "import numpy as np\n",
    "#hemos borrado las funciones, cambia el codígo siguiente\n",
    "\n",
    "def media(lista): #funcion que calcula la media, usando funcion de np\n",
    "    a = np.array([])\n",
    "    a = np.append(a, lista) #meto los numeros de la lista de un array\n",
    "    media = a.mean()\n",
    "    return media\n",
    "    \n",
    "def DES(lista):\n",
    "    b = np.array([])\n",
    "    b = np.append(b, lista)\n",
    "    desviacion = b.std()\n",
    "    return desviacion\n",
    "    \n",
    "lista = [4, 1, 11, 13, 2, 7]\n",
    "\n",
    "print(\"media:\",media(lista))\n",
    "print(\"desviacion\",DES(lista))\n",
    "\n",
    "print(lista)\n",
    "print(\"media = \"+str(media(lista))+\" \\u00B1 \"+str(DES(lista)))"
   ]
  },
  {
   "cell_type": "code",
   "execution_count": 54,
   "id": "ff05d5b4",
   "metadata": {},
   "outputs": [
    {
     "name": "stdout",
     "output_type": "stream",
     "text": [
      "mi array [ 4.  1. 11. 13.  2.  7.]\n",
      "antes\n",
      "[10 20 20]\n",
      "[2 2 2]\n",
      "despues\n",
      "[10 20 20]\n",
      "[2 2 2]\n",
      "[10 20 20  2  2  2]\n"
     ]
    }
   ],
   "source": [
    "#como hacer append a una lista\n",
    "import numpy as np\n",
    "\n",
    "lista = [4, 1, 11, 13, 2, 7]\n",
    "array=np.array([])\n",
    "e = np.append(array, lista)\n",
    "print(\"mi array\",e)\n",
    "\n",
    "\n",
    "p = np.array([10,20,20])\n",
    "a = np.array([2,2,2])\n",
    "print(\"antes\")\n",
    "print(p)\n",
    "print(a)\n",
    "\n",
    "\n",
    "c = np.append(p, a)\n",
    "print(\"despues\")\n",
    "print(p)\n",
    "print(a)\n",
    "print(c)\n",
    "\n"
   ]
  },
  {
   "cell_type": "code",
   "execution_count": 29,
   "id": "a2499fc4",
   "metadata": {},
   "outputs": [
    {
     "name": "stdout",
     "output_type": "stream",
     "text": [
      "[]\n",
      "[1. 1. 1. 1. 1. 1. 1. 1. 1. 1. 1. 1. 1. 1. 1. 1. 1. 1. 1. 1.]\n",
      "--------------\n",
      "[1. 1. 1. 1. 1. 1. 1. 1. 1. 1.]\n",
      "[4. 4. 4. 4. 4. 4. 4. 4. 4. 4.]\n",
      "--------------\n",
      "[[ 0  1  2  3  4  5  6  7  8  9]\n",
      " [10 11 12 13 14 15 16 17 18 19]\n",
      " [20 21 22 23 24 25 26 27 28 29]\n",
      " [30 31 32 33 34 35 36 37 38 39]\n",
      " [40 41 42 43 44 45 46 47 48 49]\n",
      " [50 51 52 53 54 55 56 57 58 59]\n",
      " [60 61 62 63 64 65 66 67 68 69]\n",
      " [70 71 72 73 74 75 76 77 78 79]\n",
      " [80 81 82 83 84 85 86 87 88 89]\n",
      " [90 91 92 93 94 95 96 97 98  0]]\n",
      "0\n",
      "10\n",
      "20\n",
      "[[ 1  1  1  1  1  1  1  1  1  1]\n",
      " [ 1 11 12 13 14 15 16 17 18  1]\n",
      " [ 1 21 22 23 24 25 26 27 28  1]\n",
      " [ 1 31 32 33 34 35 36 37 38  1]\n",
      " [ 1 41 42 43 44 45 46 47 48  1]\n",
      " [ 1 51 52 53 54 55 56 57 58  1]\n",
      " [ 1 61 62 63 64 65 66 67 68  1]\n",
      " [ 1 71 72 73 74 75 76 77 78  1]\n",
      " [ 1 81 82 83 84 85 86 87 88  1]\n",
      " [ 1  1  1  1  1  1  1  1  1  1]]\n",
      "experimento\n",
      "[[ 1  1  1  1  1  1  1  1  1  1]\n",
      " [ 1 11 12 13 14 15 16 17 18  1]\n",
      " [ 1 21 22 23 24 25 26 27 28  1]\n",
      " [ 1 31 32 33 34 35 36 37 38  1]\n",
      " [ 1 41 42 43 44 45 46 47 48  1]\n",
      " [ 1 51 52 53 54 55 56 57 58  1]\n",
      " [ 1 61 62 63 64 65 66 67 68  1]\n",
      " [ 1 71 72 73 74 75 76 77 78  1]\n",
      " [ 1 81 82 83 84 85 86 87 88  1]\n",
      " [ 1  1  1  1  1  1  1  1  1  1]]\n",
      "[ 1 11 21 31 41 51 61 71 81  1]\n"
     ]
    },
    {
     "data": {
      "text/plain": [
       "'Esribe tu código aquí'"
      ]
     },
     "execution_count": 29,
     "metadata": {},
     "output_type": "execute_result"
    }
   ],
   "source": [
    "#EJER 5\n",
    "\n",
    "import numpy as np\n",
    "\n",
    "array = np.array([])\n",
    "print(array)\n",
    "\n",
    "for i in range(10):\n",
    "    array = np.append(array, 1)\n",
    "for i in range(10):\n",
    "    array = np.append(array, 1)\n",
    "\n",
    "print(array)\n",
    "\n",
    "print(\"--------------\")\n",
    "array1 = np.ones(10)\n",
    "print(array1)\n",
    "print(array1*4)\n",
    "\n",
    "print(\"--------------\")\n",
    "\n",
    "h = np.arange(99)\n",
    "h.resize((10, 10))\n",
    "print(h)\n",
    "\n",
    "print(h[0][0]) #fila, columna\n",
    "print(h[1][0])\n",
    "print(h[2][0])\n",
    "\n",
    "for i in range(10):\n",
    "    h[i][0]= 1\n",
    "    \n",
    "for i in range(10):\n",
    "    h[i][9]= 1\n",
    "    \n",
    "for i in range(10):\n",
    "    h[9][i]= 1\n",
    "\n",
    "for i in range(10):\n",
    "    h[0][i]= 1\n",
    "\n",
    "print(h)\n",
    "\n",
    "h[::9, 1::9] = 1\n",
    "print(\"experimento\")\n",
    "print(h)\n",
    "\n",
    "\n",
    "print(p1)\n",
    "\n",
    "\n",
    "\"\"\"Esribe tu código aquí\"\"\"\n",
    "# la salida tiene que ser:\n",
    "#array([[1., 1., 1., 1., 1., 1., 1., 1., 1., 1.],\n",
    "#      [1., 0., 0., 0., 0., 0., 0., 0., 0., 1.],\n",
    "#      [1., 0., 0., 0., 0., 0., 0., 0., 0., 1.],\n",
    "#      [1., 0., 0., 0., 0., 0., 0., 0., 0., 1.],\n",
    "#      [1., 0., 0., 0., 0., 0., 0., 0., 0., 1.],\n",
    "#      [1., 0., 0., 0., 0., 0., 0., 0., 0., 1.],\n",
    "#      [1., 0., 0., 0., 0., 0., 0., 0., 0., 1.],\n",
    "#      [1., 0., 0., 0., 0., 0., 0., 0., 0., 1.],\n",
    "#      [1., 0., 0., 0., 0., 0., 0., 0., 0., 1.],\n",
    "#      [1., 1., 1., 1., 1., 1., 1., 1., 1., 1.]])"
   ]
  },
  {
   "cell_type": "code",
   "execution_count": 36,
   "id": "e4d7352b",
   "metadata": {},
   "outputs": [
    {
     "name": "stdout",
     "output_type": "stream",
     "text": [
      "[[0. 0. 0. 0. 0. 0. 0. 0. 0. 0.]\n",
      " [0. 0. 0. 0. 0. 0. 0. 0. 0. 0.]\n",
      " [0. 0. 0. 0. 0. 0. 0. 0. 0. 0.]\n",
      " [0. 0. 0. 0. 0. 0. 0. 0. 0. 0.]\n",
      " [0. 0. 0. 0. 0. 0. 0. 0. 0. 0.]\n",
      " [0. 0. 0. 0. 0. 0. 0. 0. 0. 0.]\n",
      " [0. 0. 0. 0. 0. 0. 0. 0. 0. 0.]\n",
      " [0. 0. 0. 0. 0. 0. 0. 0. 0. 0.]\n",
      " [0. 0. 0. 0. 0. 0. 0. 0. 0. 0.]\n",
      " [0. 0. 0. 0. 0. 0. 0. 0. 0. 0.]]\n",
      "experimento: \n",
      "[[1. 1. 1. 1. 1. 1. 1. 1. 1. 1.]\n",
      " [1. 0. 0. 0. 0. 0. 0. 0. 0. 1.]\n",
      " [1. 0. 0. 0. 0. 0. 0. 0. 0. 1.]\n",
      " [1. 0. 0. 0. 0. 0. 0. 0. 0. 1.]\n",
      " [1. 0. 0. 0. 0. 0. 0. 0. 0. 1.]\n",
      " [1. 0. 0. 0. 0. 0. 0. 0. 0. 1.]\n",
      " [1. 0. 0. 0. 0. 0. 0. 0. 0. 1.]\n",
      " [1. 0. 0. 0. 0. 0. 0. 0. 0. 1.]\n",
      " [1. 0. 0. 0. 0. 0. 0. 0. 0. 1.]\n",
      " [1. 1. 1. 1. 1. 1. 1. 1. 1. 1.]]\n"
     ]
    }
   ],
   "source": [
    "h = np.array([])\n",
    "h.resize((10, 10))\n",
    "print(h)\n",
    "\n",
    "\n",
    "h[::9, 0::1] = 1\n",
    "h[0::1, ::9] = 1\n",
    "print(\"experimento: \")\n",
    "print(h)"
   ]
  },
  {
   "cell_type": "code",
   "execution_count": 1,
   "id": "649aac31",
   "metadata": {},
   "outputs": [
    {
     "name": "stdout",
     "output_type": "stream",
     "text": [
      "[[1 2]\n",
      " [1 1]]\n",
      "[3 2]\n",
      "inversa de A:\n",
      " [[-1.  2.]\n",
      " [ 1. -1.]]\n",
      "Ainv * A= \n",
      " [[1. 0.]\n",
      " [0. 1.]]\n",
      "[x , y]=  [1. 1.]\n"
     ]
    }
   ],
   "source": [
    "#ejercicio 6\n",
    "\n",
    "import numpy as np\n",
    "\n",
    "A = np.array([[1, 2], [1, 1]])\n",
    "b = np.array([3,2])\n",
    "\n",
    "print(A)\n",
    "print(b)\n",
    "\n",
    "\n",
    "Ainv = np.linalg.inv(A)\n",
    "print(\"inversa de A:\\n\",Ainv)\n",
    "\n",
    "\n",
    "#busca como np hace la inversa de una matriz\n",
    "\"\"\"Esribe tu código aquí\"\"\"\n",
    "\n",
    "print(\"Ainv * A= \\n\",np.dot(Ainv,A)) # la unidad\n",
    "print(\"[x , y]= \",np.dot(Ainv,b))  #solución 1,1"
   ]
  },
  {
   "cell_type": "code",
   "execution_count": null,
   "id": "b2899958",
   "metadata": {},
   "outputs": [],
   "source": []
  }
 ],
 "metadata": {
  "kernelspec": {
   "display_name": "Python 3 (ipykernel)",
   "language": "python",
   "name": "python3"
  },
  "language_info": {
   "codemirror_mode": {
    "name": "ipython",
    "version": 3
   },
   "file_extension": ".py",
   "mimetype": "text/x-python",
   "name": "python",
   "nbconvert_exporter": "python",
   "pygments_lexer": "ipython3",
   "version": "3.9.7"
  }
 },
 "nbformat": 4,
 "nbformat_minor": 5
}
